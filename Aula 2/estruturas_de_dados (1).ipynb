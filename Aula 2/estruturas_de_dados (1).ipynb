{
 "cells": [
  {
   "cell_type": "markdown",
   "metadata": {},
   "source": [
    "## Listas"
   ]
  },
  {
   "cell_type": "markdown",
   "metadata": {},
   "source": [
    "### 1.1 Criação de listas\n"
   ]
  },
  {
   "cell_type": "code",
   "execution_count": 9,
   "metadata": {},
   "outputs": [
    {
     "data": {
      "text/plain": [
       "['Ricardo', 1, 3.14, [1, 2, 3], {'nome': 'Ricardo'}, (1, 2, 3, 4)]"
      ]
     },
     "execution_count": 9,
     "metadata": {},
     "output_type": "execute_result"
    }
   ],
   "source": [
    "lista1 = [1, 2, 3, 4]\n",
    "lista2 = list(range(1, 5))\n",
    "\n",
    "lista3 = ['Ricardo', 1, 3.14, [1, 2, 3], {'nome': 'Ricardo'}, (1,2,3,4)]\n",
    "\n",
    "lista3"
   ]
  },
  {
   "cell_type": "code",
   "execution_count": 16,
   "metadata": {},
   "outputs": [
    {
     "data": {
      "text/plain": [
       "2"
      ]
     },
     "execution_count": 16,
     "metadata": {},
     "output_type": "execute_result"
    }
   ],
   "source": [
    "# Toda posição em Python se inicia em ZERO\n",
    "lista3[3]"
   ]
  },
  {
   "cell_type": "markdown",
   "metadata": {},
   "source": [
    "### 1.2. Acessando elementos"
   ]
  },
  {
   "cell_type": "code",
   "execution_count": null,
   "metadata": {},
   "outputs": [],
   "source": [
    "primeiro_elemento = lista1[0]\n",
    "ultimo_elemento = lista1[-1]\n",
    "\n",
    "#slicing (primeiro ao terceiro elemento)\n",
    "lista3[0:3]"
   ]
  },
  {
   "cell_type": "markdown",
   "metadata": {},
   "source": [
    "### 1.3. Manipulação de listas\n",
    "\n"
   ]
  },
  {
   "cell_type": "code",
   "execution_count": 19,
   "metadata": {},
   "outputs": [
    {
     "data": {
      "text/plain": [
       "['Ricardo', 1, 3.14, [1, 2, 3], {'nome': 'Ricardo'}, (1, 2, 3, 4), 'Eduardo']"
      ]
     },
     "execution_count": 19,
     "metadata": {},
     "output_type": "execute_result"
    }
   ],
   "source": [
    "lista3"
   ]
  },
  {
   "cell_type": "code",
   "execution_count": 23,
   "metadata": {},
   "outputs": [
    {
     "data": {
      "text/plain": [
       "[4, 3, 2, 1]"
      ]
     },
     "execution_count": 23,
     "metadata": {},
     "output_type": "execute_result"
    }
   ],
   "source": [
    "lista1\n",
    "#lista3.append('Eduardo') #Adicionar elementos (append, extend, insert)\n",
    "\n",
    "#lista3.remove(3.14) #Remover elementos (remove, pop, del)\n",
    "#lista1.reverse() #Ordenar e inverter listas (sort, reverse)\n",
    "#lista2.reverse() #Ordenar e inverter listas (sort, reverse)\n",
    "lista1"
   ]
  },
  {
   "cell_type": "code",
   "execution_count": 27,
   "metadata": {},
   "outputs": [
    {
     "data": {
      "text/plain": [
       "['Ricardo', 7, 5, 4, 3, 1, 'Ricardo']"
      ]
     },
     "execution_count": 27,
     "metadata": {},
     "output_type": "execute_result"
    }
   ],
   "source": [
    "lista1"
   ]
  },
  {
   "cell_type": "code",
   "execution_count": 24,
   "metadata": {},
   "outputs": [
    {
     "name": "stdout",
     "output_type": "stream",
     "text": [
      "6\n",
      "7\n",
      "8\n",
      "9\n",
      "10\n",
      "11\n",
      "12\n",
      "13\n",
      "14\n"
     ]
    },
    {
     "data": {
      "text/plain": [
       "[6, 7, 8, 9, 10, 11, 12, 13, 14]"
      ]
     },
     "execution_count": 24,
     "metadata": {},
     "output_type": "execute_result"
    }
   ],
   "source": [
    "lista4 = []\n",
    "for elemento in range(15):\n",
    "    if elemento > 5:\n",
    "        print(elemento)\n",
    "        lista4.append(elemento)\n",
    "\n",
    "lista4"
   ]
  },
  {
   "cell_type": "code",
   "execution_count": 31,
   "metadata": {},
   "outputs": [],
   "source": [
    "lista6 = ['Ricardo', 'Anderson', 'João']\n",
    "lista6.sort()"
   ]
  },
  {
   "cell_type": "code",
   "execution_count": 32,
   "metadata": {},
   "outputs": [
    {
     "data": {
      "text/plain": [
       "['Anderson', 'João', 'Ricardo']"
      ]
     },
     "execution_count": 32,
     "metadata": {},
     "output_type": "execute_result"
    }
   ],
   "source": [
    "lista6"
   ]
  },
  {
   "cell_type": "markdown",
   "metadata": {},
   "source": [
    "## Tuplas"
   ]
  },
  {
   "cell_type": "markdown",
   "metadata": {},
   "source": [
    "## 2.1. Criação de tuplas"
   ]
  },
  {
   "cell_type": "code",
   "execution_count": 25,
   "metadata": {},
   "outputs": [],
   "source": [
    "tupla1 = (1, 2, 3, 4)\n",
    "tupla2 = tuple(range(1, 5))"
   ]
  },
  {
   "cell_type": "markdown",
   "metadata": {},
   "source": [
    "### 2.2. Acessando elementos"
   ]
  },
  {
   "cell_type": "code",
   "execution_count": 26,
   "metadata": {},
   "outputs": [],
   "source": [
    "primeiro_elemento = tupla1[0]\n",
    "ultimo_elemento = tupla1[-1]"
   ]
  },
  {
   "cell_type": "code",
   "execution_count": 30,
   "metadata": {},
   "outputs": [],
   "source": [
    "for elemento in range(3):\n",
    "    if elemento < 2:\n",
    "        valor = input('Digite ID do aluno: ')\n",
    "        tupla = (valor, )\n",
    "\n",
    "valor1 = input('Digite ID do aluno: ')\n",
    "valor2 = input('Digite ID do aluno: ')\n",
    "valor3 = input('Digite ID do aluno: ')\n",
    "\n",
    "tupla = (valor1, valor2, valor3)"
   ]
  },
  {
   "cell_type": "code",
   "execution_count": 31,
   "metadata": {},
   "outputs": [
    {
     "data": {
      "text/plain": [
       "('10', '15', '20')"
      ]
     },
     "execution_count": 31,
     "metadata": {},
     "output_type": "execute_result"
    }
   ],
   "source": [
    "tupla"
   ]
  },
  {
   "cell_type": "markdown",
   "metadata": {},
   "source": [
    "### 2.3. Imutabilidade das tuplas\n"
   ]
  },
  {
   "cell_type": "code",
   "execution_count": 29,
   "metadata": {},
   "outputs": [
    {
     "ename": "TypeError",
     "evalue": "'tuple' object does not support item assignment",
     "output_type": "error",
     "traceback": [
      "\u001b[0;31m---------------------------------------------------------------------------\u001b[0m",
      "\u001b[0;31mTypeError\u001b[0m                                 Traceback (most recent call last)",
      "\u001b[1;32m/mnt/c/Users/Ricardo/Desktop/projects/koru/estruturas_de_dados.ipynb Cell 22\u001b[0m line \u001b[0;36m4\n\u001b[1;32m      <a href='vscode-notebook-cell://wsl%2Bubuntu/mnt/c/Users/Ricardo/Desktop/projects/koru/estruturas_de_dados.ipynb#X25sdnNjb2RlLXJlbW90ZQ%3D%3D?line=0'>1</a>\u001b[0m \u001b[39m# Não é possível modificar elementos de uma tupla\u001b[39;00m\n\u001b[1;32m      <a href='vscode-notebook-cell://wsl%2Bubuntu/mnt/c/Users/Ricardo/Desktop/projects/koru/estruturas_de_dados.ipynb#X25sdnNjb2RlLXJlbW90ZQ%3D%3D?line=1'>2</a>\u001b[0m \u001b[39m# A linha abaixo causará um erro\u001b[39;00m\n\u001b[0;32m----> <a href='vscode-notebook-cell://wsl%2Bubuntu/mnt/c/Users/Ricardo/Desktop/projects/koru/estruturas_de_dados.ipynb#X25sdnNjb2RlLXJlbW90ZQ%3D%3D?line=3'>4</a>\u001b[0m tupla1[\u001b[39m0\u001b[39;49m] \u001b[39m=\u001b[39m \u001b[39m4\u001b[39m\n",
      "\u001b[0;31mTypeError\u001b[0m: 'tuple' object does not support item assignment"
     ]
    }
   ],
   "source": [
    "# Não é possível modificar elementos de uma tupla\n",
    "# A linha abaixo causará um erro\n",
    "\n",
    "tupla1[0] = 4"
   ]
  },
  {
   "cell_type": "markdown",
   "metadata": {},
   "source": [
    "## Dicionários"
   ]
  },
  {
   "cell_type": "markdown",
   "metadata": {},
   "source": [
    "### Conceito de Dicionários\n",
    "\n",
    "1. **Definição**: Um dicionário em Python é uma coleção desordenada de itens. Enquanto outras estruturas de dados, como listas ou tuplas, são indexadas por um intervalo de números, os dicionários são indexados por chaves, que podem ser de qualquer tipo imutável, como strings ou números.\n",
    "\n",
    "2. **Características**:\n",
    "   - Cada par chave-valor é separado por vírgulas.\n",
    "   - Os dicionários são delimitados por chaves `{}`.\n",
    "   - As chaves são únicas dentro de um dicionário.\n",
    "\n",
    "3. **Utilidade**: Dicionários são ideais para armazenar dados que podem ser identificados por uma chave única, como detalhes de um contato em uma agenda telefônica (nome, número, endereço, etc).\n",
    "\n",
    "### Criando e Usando Dicionários\n",
    "\n",
    "#### Estrutura Básica de um Dicionário\n",
    "\n",
    "```python\n",
    "meu_dicionario = {\n",
    "    'chave1': 'valor1',\n",
    "    'chave2': 'valor2',\n",
    "    'chave3': 'valor3'\n",
    "}\n",
    "```\n",
    "\n",
    "- Cada item tem uma chave e um valor correspondente, expresso como `chave: valor`.\n",
    "\n",
    "#### Exemplo Prático\n",
    "\n",
    "Vamos criar um dicionário para armazenar informações de um livro:\n",
    "\n",
    "```python\n",
    "livro = {\n",
    "    'titulo': '1984',\n",
    "    'autor': 'George Orwell',\n",
    "    'ano': 1949\n",
    "}\n",
    "\n",
    "# Acessando elementos\n",
    "print(livro['titulo'])  # Saída: 1984\n",
    "\n",
    "# Adicionando um novo par chave-valor\n",
    "livro['isbn'] = '1234567890'\n",
    "\n",
    "# Atualizando um valor existente\n",
    "livro['ano'] = 1948\n",
    "\n",
    "# Removendo um par chave-valor\n",
    "del livro['isbn']\n",
    "```\n",
    "\n",
    "### Métodos Comuns de Dicionários\n",
    "\n",
    "- **`get()`**: Retorna o valor da chave especificada. Se a chave não existir, retorna `None` (ou um valor padrão definido).\n",
    "\n",
    "  ```python\n",
    "  print(livro.get('autor', 'Autor desconhecido'))\n",
    "  ```\n",
    "\n",
    "- **`keys()`**: Retorna uma nova visualização das chaves no dicionário.\n",
    "\n",
    "  ```python\n",
    "  print(list(livro.keys()))  # Saída: ['titulo', 'autor', 'ano']\n",
    "  ```\n",
    "\n",
    "- **`values()`**: Retorna uma nova visualização dos valores no dicionário.\n",
    "\n",
    "  ```python\n",
    "  print(list(livro.values()))  # Saída: ['1984', 'George Orwell', 1948]\n",
    "  ```\n",
    "\n",
    "- **`items()`**: Retorna uma nova visualização dos pares chave-valor no dicionário.\n",
    "\n",
    "  ```python\n",
    "  for chave, valor in livro.items():\n",
    "      print(f\"{chave}: {valor}\")\n",
    "  ```\n",
    "\n",
    "- **`pop()`**: Remove o item com a chave especificada e retorna o seu valor.\n",
    "\n",
    "  ```python\n",
    "  ano = livro.pop('ano')\n",
    "  ```\n",
    "\n",
    "### Boas Práticas\n",
    "\n",
    "1. **Chaves Significativas**: Use chaves que sejam significativas e descrevam bem o valor associado.\n",
    "2. **Evitar Chaves Duplicadas**: As chaves duplicadas serão sobrescritas.\n",
    "3. **Uso de `get()`**: Prefira usar `get()` para acessar elementos para evitar erros se a chave não existir.\n",
    "\n",
    "### Conclusão\n",
    "\n",
    "Os dicionários são uma ferramenta incrivelmente útil e poderosa em Python, proporcionando uma maneira eficiente de armazenar e manipular dados de forma estruturada. Eles são especialmente úteis quando você precisa de uma associação lógica entre pares chave-valor."
   ]
  },
  {
   "cell_type": "markdown",
   "metadata": {},
   "source": [
    "### Olhando na prática"
   ]
  },
  {
   "cell_type": "code",
   "execution_count": 42,
   "metadata": {},
   "outputs": [],
   "source": [
    "dicionario1 = {\n",
    "   'Alunos': ['Davidson', 'Maria', 'Leonan'],\n",
    "   'Professores': ['Ricardo', 'Eder', 'Alisson'], \n",
    "   'Idade': [25, 22, 20], \n",
    "   'Endereco': ['Rua...', 'Rua...', 'Rua...'],\n",
    "   'Exemplo': 12,\n",
    "   'Exemplo1': 3.14\n",
    "}\n",
    "\n",
    "dicionario2 = dict(um=1, dois=2, três=3)"
   ]
  },
  {
   "cell_type": "code",
   "execution_count": 43,
   "metadata": {},
   "outputs": [
    {
     "data": {
      "text/plain": [
       "['Davidson', 'Maria', 'Leonan', 'Roberta']"
      ]
     },
     "execution_count": 43,
     "metadata": {},
     "output_type": "execute_result"
    }
   ],
   "source": [
    "# Adicionando valor em uma chave especifica\n",
    "dicionario1['Alunos'].append('Roberta')\n",
    "dicionario1['Alunos']"
   ]
  },
  {
   "cell_type": "code",
   "execution_count": 44,
   "metadata": {},
   "outputs": [
    {
     "data": {
      "text/plain": [
       "dict_values([['Davidson', 'Maria', 'Leonan', 'Roberta'], ['Ricardo', 'Eder', 'Alisson'], [25, 22, 20], ['Rua...', 'Rua...', 'Rua...'], 12, 3.14])"
      ]
     },
     "execution_count": 44,
     "metadata": {},
     "output_type": "execute_result"
    }
   ],
   "source": [
    "dicionario1.values()"
   ]
  },
  {
   "cell_type": "code",
   "execution_count": 45,
   "metadata": {},
   "outputs": [
    {
     "data": {
      "text/plain": [
       "dict_keys(['Alunos', 'Professores', 'Idade', 'Endereco', 'Exemplo', 'Exemplo1'])"
      ]
     },
     "execution_count": 45,
     "metadata": {},
     "output_type": "execute_result"
    }
   ],
   "source": [
    "dicionario1.keys()"
   ]
  },
  {
   "cell_type": "code",
   "execution_count": 46,
   "metadata": {},
   "outputs": [
    {
     "data": {
      "text/plain": [
       "dict_items([('Alunos', ['Davidson', 'Maria', 'Leonan', 'Roberta']), ('Professores', ['Ricardo', 'Eder', 'Alisson']), ('Idade', [25, 22, 20]), ('Endereco', ['Rua...', 'Rua...', 'Rua...']), ('Exemplo', 12), ('Exemplo1', 3.14)])"
      ]
     },
     "execution_count": 46,
     "metadata": {},
     "output_type": "execute_result"
    }
   ],
   "source": [
    "# Metódo items (retorna uma tupla onde tupla[0] é a chave e tupla[1] é o valor daquela chave)\n",
    "dicionario1.items()"
   ]
  },
  {
   "cell_type": "code",
   "execution_count": 47,
   "metadata": {},
   "outputs": [
    {
     "data": {
      "text/plain": [
       "['Davidson', 'Maria', 'Leonan', 'Roberta']"
      ]
     },
     "execution_count": 47,
     "metadata": {},
     "output_type": "execute_result"
    }
   ],
   "source": [
    "dicionario1.get('Alunos', 'Professores')"
   ]
  },
  {
   "cell_type": "code",
   "execution_count": 48,
   "metadata": {},
   "outputs": [
    {
     "data": {
      "text/plain": [
       "['Ricardo', 'Eder', 'Alisson']"
      ]
     },
     "execution_count": 48,
     "metadata": {},
     "output_type": "execute_result"
    }
   ],
   "source": [
    "dicionario1.get('Professores')"
   ]
  },
  {
   "cell_type": "code",
   "execution_count": 50,
   "metadata": {},
   "outputs": [
    {
     "name": "stdout",
     "output_type": "stream",
     "text": [
      "['Davidson', 'Maria', 'Leonan', 'Roberta']\n"
     ]
    }
   ],
   "source": [
    "# Iterando sobre nossos dados do dicionario\n",
    "for chave, valor in dicionario1.items():\n",
    "    if chave=='Alunos':\n",
    "        print(valor)\n"
   ]
  },
  {
   "cell_type": "code",
   "execution_count": 51,
   "metadata": {},
   "outputs": [
    {
     "name": "stdout",
     "output_type": "stream",
     "text": [
      "Alunos ['Davidson', 'Maria', 'Leonan', 'Roberta']\n",
      "Professores ['Ricardo', 'Eder', 'Alisson']\n",
      "Idade [25, 22, 20]\n",
      "Endereco ['Rua...', 'Rua...', 'Rua...']\n",
      "Exemplo 12\n",
      "Exemplo1 3.14\n"
     ]
    }
   ],
   "source": [
    "dicionario1['Curso'] = ['Python', 'Java', 'Golang', 'C#', 'C++'] #Adicionar elementos (atribuição direta)\n",
    "\n",
    "dicionario1.pop('Curso') #Remover chave com elementos (pop, del)\n",
    "\n",
    "#Iterar pelos elementos (keys, values, items)\n",
    "for chave, valor in dicionario1.items():\n",
    "    print(chave, valor)"
   ]
  },
  {
   "cell_type": "code",
   "execution_count": 53,
   "metadata": {},
   "outputs": [],
   "source": [
    "# Exemplo de 'aninhamento'\n",
    "dict_exemplo = {'exemplo': 'dicionario',\n",
    "                'criando_dict': {'outro_dict': ['aninhado']}}"
   ]
  },
  {
   "cell_type": "code",
   "execution_count": 65,
   "metadata": {},
   "outputs": [],
   "source": [
    "dict_exemplo['criando_dict']['outro_dict'].sort()"
   ]
  },
  {
   "cell_type": "code",
   "execution_count": 66,
   "metadata": {},
   "outputs": [
    {
     "data": {
      "text/plain": [
       "['Test', 'Test', 'Teste']"
      ]
     },
     "execution_count": 66,
     "metadata": {},
     "output_type": "execute_result"
    }
   ],
   "source": [
    "dict_exemplo['criando_dict']['outro_dict']"
   ]
  },
  {
   "cell_type": "markdown",
   "metadata": {},
   "source": [
    "## Diferenças entre os tipos de Dados Complexos"
   ]
  },
  {
   "cell_type": "markdown",
   "metadata": {},
   "source": [
    "- Listas: sequências ordenadas, mutáveis e podem conter elementos duplicados.\n",
    "\n",
    "- Tuplas: sequências ordenadas, imutáveis e podem conter elementos duplicados.\n",
    "\n",
    "- Dicionários: coleções não ordenadas de pares chave-valor, mutáveis e chaves únicas."
   ]
  },
  {
   "cell_type": "markdown",
   "metadata": {},
   "source": [
    "## Numpy\n",
    "\n",
    "Numpy é uma biblioteca para a linguagem de programação Python que suporta grandes matrizes e matrizes multidimensionais, além de uma grande coleção de funções matemáticas para operar nessas matrizes. "
   ]
  },
  {
   "cell_type": "code",
   "execution_count": 67,
   "metadata": {},
   "outputs": [
    {
     "data": {
      "text/plain": [
       "array([[0., 0., 0.],\n",
       "       [0., 0., 0.],\n",
       "       [0., 0., 0.]])"
      ]
     },
     "execution_count": 67,
     "metadata": {},
     "output_type": "execute_result"
    }
   ],
   "source": [
    "import numpy as np\n",
    "\n",
    "# Matriz de zeros: Uma matriz cheia de zeros.\n",
    "zeros = np.zeros((3, 3))\n",
    "zeros"
   ]
  },
  {
   "cell_type": "code",
   "execution_count": 70,
   "metadata": {},
   "outputs": [
    {
     "data": {
      "text/plain": [
       "0.0"
      ]
     },
     "execution_count": 70,
     "metadata": {},
     "output_type": "execute_result"
    }
   ],
   "source": [
    "zeros[1][1]"
   ]
  },
  {
   "cell_type": "code",
   "execution_count": 71,
   "metadata": {},
   "outputs": [
    {
     "data": {
      "text/plain": [
       "array([[1., 1., 1.],\n",
       "       [1., 1., 1.],\n",
       "       [1., 1., 1.]])"
      ]
     },
     "execution_count": 71,
     "metadata": {},
     "output_type": "execute_result"
    }
   ],
   "source": [
    "# Matriz de uns: Uma matriz cheia de uns.\n",
    "ones = np.ones((3, 3))\n",
    "ones"
   ]
  },
  {
   "cell_type": "code",
   "execution_count": 72,
   "metadata": {},
   "outputs": [
    {
     "data": {
      "text/plain": [
       "array([[1., 0., 0.],\n",
       "       [0., 1., 0.],\n",
       "       [0., 0., 1.]])"
      ]
     },
     "execution_count": 72,
     "metadata": {},
     "output_type": "execute_result"
    }
   ],
   "source": [
    "# Matriz identidade: Uma matriz quadrada onde todos os elementos da diagonal são 1 e os outros são 0.\n",
    "identity = np.eye(3)\n",
    "identity"
   ]
  },
  {
   "cell_type": "code",
   "execution_count": 74,
   "metadata": {},
   "outputs": [
    {
     "data": {
      "text/plain": [
       "0.0"
      ]
     },
     "execution_count": 74,
     "metadata": {},
     "output_type": "execute_result"
    }
   ],
   "source": [
    "identity[2][1]"
   ]
  },
  {
   "cell_type": "code",
   "execution_count": 75,
   "metadata": {},
   "outputs": [
    {
     "data": {
      "text/plain": [
       "array([[0.97543728, 0.76671034, 0.8827521 ],\n",
       "       [0.23379469, 0.00711259, 0.95992678],\n",
       "       [0.74103283, 0.59374568, 0.8574814 ]])"
      ]
     },
     "execution_count": 75,
     "metadata": {},
     "output_type": "execute_result"
    }
   ],
   "source": [
    "# Matriz aleatoria\n",
    "\n",
    "random_matrix = np.random.rand(3, 3)\n",
    "random_matrix"
   ]
  },
  {
   "cell_type": "markdown",
   "metadata": {},
   "source": [
    "### Operacoes"
   ]
  },
  {
   "cell_type": "code",
   "execution_count": 76,
   "metadata": {},
   "outputs": [
    {
     "data": {
      "text/plain": [
       "array([[ 6,  8],\n",
       "       [10, 12]])"
      ]
     },
     "execution_count": 76,
     "metadata": {},
     "output_type": "execute_result"
    }
   ],
   "source": [
    "# Adicao de Matrizes\n",
    "\n",
    "A = np.array([[1, 2], [3, 4]])\n",
    "# 1 2\n",
    "# 3 4\n",
    "\n",
    "B = np.array([[5, 6], [7, 8]])\n",
    "# 5 6\n",
    "# 7 8\n",
    "\n",
    "C = A + B\n",
    "C"
   ]
  },
  {
   "cell_type": "code",
   "execution_count": 77,
   "metadata": {},
   "outputs": [
    {
     "data": {
      "text/plain": [
       "array([[19, 22],\n",
       "       [43, 50]])"
      ]
     },
     "execution_count": 77,
     "metadata": {},
     "output_type": "execute_result"
    }
   ],
   "source": [
    "# Multiplicacao de Matrizes\n",
    "D = np.dot(A, B)\n",
    "D"
   ]
  },
  {
   "cell_type": "code",
   "execution_count": 78,
   "metadata": {},
   "outputs": [
    {
     "data": {
      "text/plain": [
       "array([[1, 3],\n",
       "       [2, 4]])"
      ]
     },
     "execution_count": 78,
     "metadata": {},
     "output_type": "execute_result"
    }
   ],
   "source": [
    "# Transposta de uma Matriz\n",
    "E = A.T\n",
    "E"
   ]
  },
  {
   "cell_type": "markdown",
   "metadata": {},
   "source": [
    "#### Outras aplicacoes\n",
    "\n",
    "##### Aplicações de Matrizes com Numpy\n",
    "\n",
    "**Processamento de Imagens:** Matrizes podem ser usadas para representar imagens e aplicar filtros, rotações etc.\n",
    "\n",
    "**Sistemas de Equações Lineares:** Resolver um sistema de equações lineares pode ser feito através da manipulação de matrizes\n",
    "\n",
    "```python\n",
    "coeficientes = np.array([[2, 1], [1, 1]])\n",
    "\n",
    "constantes = np.array([4, 2])\n",
    "\n",
    "solucao = np.linalg.solve(coeficientes, constantes)\n",
    "\n",
    "```\n",
    "\n",
    "**Análise de Dados:** Em ciência de dados, você pode usar matrizes para guardar datasets e fazer operações como médias, somas, etc, de forma mais eficiente.\n",
    "\n",
    "**Aprendizado de Máquina:** Bibliotecas como TensorFlow e PyTorch usam Numpy ou estruturas semelhantes para efetuar operações de aprendizado de máquina como backpropagation em redes neurais.\n",
    "\n",
    "**Simulações Físicas:** Em física computacional, matrizes são usadas para simular sistemas e resolver equações diferenciais parciais."
   ]
  },
  {
   "cell_type": "markdown",
   "metadata": {},
   "source": [
    "## Conceito de Funções\n",
    "\n",
    "1. **Definição**: Uma função é um bloco de código que só é executado quando é chamado. Você pode passar dados, conhecidos como parâmetros, para uma função. Uma função pode retornar dados como resultado.\n",
    "\n",
    "2. **Reutilização de Código**: Em vez de escrever o mesmo código várias vezes para diferentes entradas, você pode escrever uma função que pode ser reutilizada várias vezes com diferentes parâmetros.\n",
    "\n",
    "3. **Organização**: As funções ajudam a tornar o seu código mais organizado e mais fácil de seguir.\n",
    "\n",
    "## Criando e Usando Funções em Python\n",
    "\n",
    "### Estrutura Básica de uma Função\n",
    "\n",
    "```python\n",
    "def nome_da_funcao(parametro1, parametro2):\n",
    "    # Bloco de código\n",
    "    return resultado\n",
    "```\n",
    "\n",
    "- `def`: Palavra-chave para definir uma função.\n",
    "- `nome_da_funcao`: Nome único para identificar a função.\n",
    "- `parametro1, parametro2`: Argumentos ou parâmetros que a função pode receber.\n",
    "- `return`: Retorna um valor como resultado da função (opcional).\n",
    "\n",
    "### Exemplo Prático\n",
    "\n",
    "Vamos criar uma função simples chamada `soma`, que adiciona dois números:\n",
    "\n",
    "```python\n",
    "def soma(a, b):\n",
    "    return a + b\n",
    "\n",
    "# Usando a função\n",
    "resultado = soma(5, 3)\n",
    "print(resultado)  # Saída: 8\n",
    "```\n",
    "\n",
    "Neste exemplo, `soma` é uma função que pega dois parâmetros `a` e `b`, e retorna a soma deles.\n",
    "\n",
    "## Parâmetros Avançados\n",
    "\n",
    "- **Parâmetros Padrão**: Você pode definir um valor padrão para um parâmetro. Se o argumento não for fornecido, este valor padrão será usado.\n",
    "\n",
    "  ```python\n",
    "  def saudacao(nome=\"Visitante\"):\n",
    "      return \"Olá, \" + nome\n",
    "\n",
    "  print(saudacao(\"Ana\"))  # Saída: Olá, Ana\n",
    "  print(saudacao())       # Saída: Olá, Visitante\n",
    "  ```\n",
    "\n",
    "- **Argumentos de Palavra-chave**: Permite que você especifique argumentos pelo nome, tornando seu código mais legível.\n",
    "\n",
    "  ```python\n",
    "  def informacao(nome, idade):\n",
    "      return f\"Nome: {nome}, Idade: {idade}\"\n",
    "\n",
    "  print(informacao(idade=30, nome=\"Carlos\"))  # Saída: Nome: Carlos, Idade: 30\n",
    "  ```\n",
    "\n",
    "- **Número Variável de Argumentos**: Às vezes, você pode querer uma função que aceite um número variável de argumentos.\n",
    "\n",
    "  ```python\n",
    "  def soma(*numeros):\n",
    "      return sum(numeros)\n",
    "\n",
    "  print(soma(1, 2, 3, 4))  # Saída: 10\n",
    "  ```\n",
    "\n",
    "## Boas Práticas\n",
    "\n",
    "1. **Nome Significativo**: O nome da função deve refletir o que ela faz.\n",
    "2. **Funções Pequenas e Focadas**: Cada função deve fazer apenas uma coisa bem.\n",
    "3. **Documentação**: Comentar ou documentar o que a função faz.\n",
    "\n",
    "## Conclusão\n",
    "\n",
    "As funções são ferramentas poderosas em Python que ajudam a tornar o código mais modular, reutilizável e claro. Ao compreender como definir e usar funções, você pode escrever programas mais eficientes e organizados."
   ]
  },
  {
   "cell_type": "code",
   "execution_count": null,
   "metadata": {},
   "outputs": [],
   "source": [
    "def soma(a: int, b: int) -> int:\n",
    "    '''\n",
    "    Funcao criada para somar 2 parametros\n",
    "    \n",
    "    Args:\n",
    "    a (int): primeiro elemento da minha soma\n",
    "    b (int): segundo elemento da minha soma\n",
    "    \n",
    "    Return:\n",
    "    c (int): resultado da minha soma\n",
    "    '''"
   ]
  },
  {
   "cell_type": "markdown",
   "metadata": {},
   "source": [
    "## Exercicios\n",
    "\n",
    "Dada uma lista, retorne uma nova lista que contém apenas elementos únicos da lista original."
   ]
  },
  {
   "cell_type": "code",
   "execution_count": 90,
   "metadata": {},
   "outputs": [
    {
     "name": "stdout",
     "output_type": "stream",
     "text": [
      "Unico 1\n",
      "Unico 2\n",
      "Unico 3\n",
      "Unico 4\n",
      "Unico 5\n",
      "[1, 2, 3, 4, 5]\n"
     ]
    }
   ],
   "source": [
    "def elementos_unicos(lista):\n",
    "    \n",
    "    unicos = []\n",
    "    for elemento in lista:\n",
    "        if elemento not in unicos:\n",
    "            print(f'Unico {elemento}')\n",
    "            unicos.append(elemento)\n",
    "    \n",
    "    return unicos\n",
    "\n",
    "# Testando a função\n",
    "lista_original = [1, 2, 2, 3, 4, 3, 5]\n",
    "print(elementos_unicos(lista_original))  # Deve imprimir [1, 2, 3, 4, 5]"
   ]
  },
  {
   "cell_type": "markdown",
   "metadata": {},
   "source": [
    "Dado um texto, crie um dicionário onde as chaves são palavras e os valores são o número de vezes que cada palavra aparece no texto."
   ]
  },
  {
   "cell_type": "code",
   "execution_count": null,
   "metadata": {},
   "outputs": [],
   "source": [
    "def contagem_palavras(texto):\n",
    "    palavras = texto.split()  # Separa o texto em uma lista de palavras\n",
    "    contagem = {}  # Inicializa um dicionário vazio para armazenar a contagem das palavras\n",
    "    \n",
    "    for palavra in palavras:\n",
    "        palavra = palavra.lower()  # Converte a palavra para minúsculas para que a contagem seja insensível a maiúsculas e minúsculas\n",
    "        if palavra in contagem:\n",
    "            contagem[palavra] += 1  # Incrementa a contagem se a palavra já existe no dicionário\n",
    "        else:\n",
    "            contagem[palavra] = 1  # Adiciona a palavra ao dicionário com contagem 1 se ela ainda não existe\n",
    "    \n",
    "    return contagem\n",
    "\n",
    "# Testando a função\n",
    "texto = \"Este é um texto. Este texto é um exemplo.\"\n",
    "print(contagem_palavras(texto))"
   ]
  },
  {
   "cell_type": "code",
   "execution_count": 5,
   "metadata": {},
   "outputs": [],
   "source": [
    "## Crie uma função que retorne se a pessoa esta normal, abaixo do peso, sobrepeso ou obesa baseada\n",
    "# em seu IMC\n",
    "\n",
    "def calcula_imc():\n",
    "    peso = float(input('Digite seu Peso: '))\n",
    "    altura = float(input('Digite sua Altura em Metros: '))\n",
    "     \n",
    "    imc = peso / (altura ** 2)\n",
    "    if imc < 18.5:\n",
    "        return \"Abaixo do peso\"\n",
    "    elif 18.5 <= imc < 25: # (imc >= 18.5) & (imc < 25)\n",
    "        return \"Normal\"\n",
    "    elif 25 <= imc < 30:\n",
    "        return \"Sobrepeso\"\n",
    "    else:\n",
    "        return \"Obesidade\"\n",
    "\n",
    "imc_ricardo = calcula_imc()"
   ]
  },
  {
   "cell_type": "markdown",
   "metadata": {},
   "source": [
    "### O que são APIs?\n",
    "\n",
    "1. **Definição**: Uma API é um conjunto de regras e definições que permite que diferentes softwares se comuniquem. Ela define os métodos e dados que você pode solicitar de outros serviços ou aplicativos, e como fazer essas solicitações.\n",
    "\n",
    "2. **Analogia**: Pense em uma API como um garçom em um restaurante. Você (o cliente) faz um pedido (uma solicitação) através do garçom (API) para a cozinha (o sistema/software). A cozinha prepara o pedido e o garçom entrega o resultado de volta para você.\n",
    "\n",
    "3. **Utilidade**: APIs são usadas para conectar serviços e transferir dados entre diferentes sistemas de forma programática. Por exemplo, uma API de previsão do tempo pode fornecer dados meteorológicos a outros aplicativos.\n",
    "\n",
    "### Tipos de APIs\n",
    "\n",
    "1. **APIs Web / RESTful**: Usadas para comunicação na internet. Utilizam protocolos HTTP/HTTPS para enviar e receber solicitações e respostas, geralmente no formato JSON ou XML.\n",
    "\n",
    "2. **APIs de Bibliotecas/Frameworks**: Fornecem conjuntos de funções e métodos que permitem a interação com outro software ou sistema operacional. Exemplo: APIs do jQuery ou do React.\n",
    "\n",
    "3. **APIs de Sistema Operacional**: Permitem que aplicativos interajam com o sistema operacional. Por exemplo, a API do Windows.\n",
    "\n",
    "### Como Funcionam as APIs?\n",
    "\n",
    "#### Estrutura de Uma Solicitação API\n",
    "\n",
    "1. **Endpoint**: O URL para onde você envia a solicitação. Exemplo: `https://api.exemplo.com/dados`\n",
    "\n",
    "2. **Método**: O tipo de operação que você deseja realizar. Os mais comuns são:\n",
    "   - `GET`: Solicitar dados.\n",
    "   - `POST`: Enviar dados para serem processados.\n",
    "   - `PUT`: Atualizar dados.\n",
    "   - `DELETE`: Excluir dados.\n",
    "\n",
    "3. **Cabeçalhos**: Contêm informações adicionais (como tipo de conteúdo, autenticação) necessárias para processar a solicitação.\n",
    "\n",
    "4. **Corpo da Solicitação (Payload)**: Dados enviados em uma solicitação `POST` ou `PUT`.\n",
    "\n",
    "5. **Parâmetros**: Usados para fornecer informações adicionais na solicitação. Exemplo: `https://api.exemplo.com/dados?userid=123`\n",
    "\n",
    "#### Resposta da API\n",
    "\n",
    "- **Código de Status**: Indica se a solicitação foi bem-sucedida (ex: 200 OK, 404 Not Found).\n",
    "- **Corpo da Resposta**: Contém os dados ou resultados da solicitação, geralmente em formato JSON ou XML.\n",
    "\n",
    "### Boas Práticas no Uso de APIs\n",
    "\n",
    "1. **Leia a Documentação**: Entenda os limites, os requisitos de autenticação e os formatos de dados esperados.\n",
    "2. **Manuseie Erros**: Implemente tratamento de erros para lidar com falhas de solicitação ou respostas inesperadas.\n",
    "3. **Segurança**: Use autenticação e criptografia (HTTPS) para proteger as informações transmitidas.\n",
    "4. **Respeite os Limites de Taxa**: Muitas APIs têm limitações de quantas solicitações você pode fazer em um determinado período.\n",
    "\n",
    "### Conclusão\n",
    "\n",
    "APIs são essenciais para a integração e comunicação entre diferentes sistemas e serviços. Elas permitem que aplicativos e softwares compartilhem dados e funcionalidades de maneira segura e eficiente, abrindo um mundo de possibilidades para novas funcionalidades e automação."
   ]
  },
  {
   "cell_type": "markdown",
   "metadata": {},
   "source": [
    "### Utilizando uma API"
   ]
  },
  {
   "cell_type": "code",
   "execution_count": 79,
   "metadata": {},
   "outputs": [
    {
     "name": "stdout",
     "output_type": "stream",
     "text": [
      "Requirement already satisfied: requests in /home/ricardo/.pyenv/versions/3.8.12/lib/python3.8/site-packages (2.31.0)\n",
      "Requirement already satisfied: charset-normalizer<4,>=2 in /home/ricardo/.pyenv/versions/3.8.12/lib/python3.8/site-packages (from requests) (3.2.0)\n",
      "Requirement already satisfied: urllib3<3,>=1.21.1 in /home/ricardo/.pyenv/versions/3.8.12/lib/python3.8/site-packages (from requests) (1.26.16)\n",
      "Requirement already satisfied: idna<4,>=2.5 in /home/ricardo/.pyenv/versions/3.8.12/lib/python3.8/site-packages (from requests) (3.4)\n",
      "Requirement already satisfied: certifi>=2017.4.17 in /home/ricardo/.pyenv/versions/3.8.12/lib/python3.8/site-packages (from requests) (2023.5.7)\n",
      "\u001b[33mWARNING: You are using pip version 21.1.1; however, version 23.3.1 is available.\n",
      "You should consider upgrading via the '/home/ricardo/.pyenv/versions/3.8.12/bin/python3.8 -m pip install --upgrade pip' command.\u001b[0m\n"
     ]
    }
   ],
   "source": [
    "!pip install requests"
   ]
  },
  {
   "cell_type": "code",
   "execution_count": 80,
   "metadata": {},
   "outputs": [],
   "source": [
    "import requests\n",
    "\n",
    "# Nome da moeda que desejamos obter informações\n",
    "coin = \"bitcoin\"\n",
    "\n",
    "# URL da API CoinGecko\n",
    "url = f\"https://api.coingecko.com/api/v3/coins/{coin}\"\n",
    "\n",
    "# Fazendo a solicitação para a API\n",
    "response = requests.get(url)"
   ]
  },
  {
   "cell_type": "code",
   "execution_count": 81,
   "metadata": {},
   "outputs": [
    {
     "data": {
      "text/plain": [
       "<Response [200]>"
      ]
     },
     "execution_count": 81,
     "metadata": {},
     "output_type": "execute_result"
    }
   ],
   "source": [
    "response"
   ]
  },
  {
   "cell_type": "code",
   "execution_count": 82,
   "metadata": {},
   "outputs": [],
   "source": [
    "# Verificando se a solicitação foi bem sucedida\n",
    "if response.status_code == 200:\n",
    "    # Convertendo a resposta da API para um dicionário\n",
    "    data = response.json()\n",
    "else:\n",
    "    print(\"Ocorreu um erro ao obter os dados da API.\")"
   ]
  },
  {
   "cell_type": "code",
   "execution_count": 91,
   "metadata": {},
   "outputs": [
    {
     "data": {
      "text/plain": [
       "{'aed': 132070,\n",
       " 'ars': 12799788,\n",
       " 'aud': 54833,\n",
       " 'bch': 165.322,\n",
       " 'bdt': 3980383,\n",
       " 'bhd': 13550.22,\n",
       " 'bmd': 35959,\n",
       " 'bnb': 157.75,\n",
       " 'brl': 176220,\n",
       " 'btc': 1.0,\n",
       " 'cad': 49260,\n",
       " 'chf': 31763,\n",
       " 'clp': 31268533,\n",
       " 'cny': 255196,\n",
       " 'czk': 807790,\n",
       " 'dkk': 245533,\n",
       " 'dot': 7334,\n",
       " 'eos': 55143,\n",
       " 'eth': 18.496192,\n",
       " 'eur': 32935,\n",
       " 'gbp': 28665,\n",
       " 'hkd': 280322,\n",
       " 'huf': 12536285,\n",
       " 'idr': 557935274,\n",
       " 'ils': 133603,\n",
       " 'inr': 2997020,\n",
       " 'jpy': 5327282,\n",
       " 'krw': 46608375,\n",
       " 'kwd': 11078.98,\n",
       " 'lkr': 11810388,\n",
       " 'ltc': 540.108,\n",
       " 'mmk': 75475443,\n",
       " 'mxn': 618561,\n",
       " 'myr': 167316,\n",
       " 'ngn': 29438380,\n",
       " 'nok': 383629,\n",
       " 'nzd': 59407,\n",
       " 'php': 1992658,\n",
       " 'pkr': 10266855,\n",
       " 'pln': 144039,\n",
       " 'rub': 3173770,\n",
       " 'sar': 134866,\n",
       " 'sek': 375961,\n",
       " 'sgd': 48105,\n",
       " 'thb': 1265211,\n",
       " 'try': 1035648,\n",
       " 'twd': 1128643,\n",
       " 'uah': 1297885,\n",
       " 'usd': 35959,\n",
       " 'vef': 3600.56,\n",
       " 'vnd': 868046294,\n",
       " 'xag': 1511.81,\n",
       " 'xau': 17.99,\n",
       " 'xdr': 26997,\n",
       " 'xlm': 314537,\n",
       " 'xrp': 61811,\n",
       " 'yfi': 4.712532,\n",
       " 'zar': 669416,\n",
       " 'bits': 999741,\n",
       " 'link': 2644,\n",
       " 'sats': 99974096}"
      ]
     },
     "execution_count": 91,
     "metadata": {},
     "output_type": "execute_result"
    }
   ],
   "source": [
    "data['market_data']['current_price']"
   ]
  },
  {
   "cell_type": "markdown",
   "metadata": {},
   "source": [
    "### Como fazer chamada na API do Kaggle?"
   ]
  },
  {
   "cell_type": "code",
   "execution_count": 92,
   "metadata": {},
   "outputs": [
    {
     "name": "stdout",
     "output_type": "stream",
     "text": [
      "Requirement already satisfied: kaggle in /home/ricardo/.pyenv/versions/3.8.12/lib/python3.8/site-packages (1.5.16)\n",
      "Requirement already satisfied: python-dateutil in /home/ricardo/.pyenv/versions/3.8.12/lib/python3.8/site-packages (from kaggle) (2.8.2)\n",
      "Requirement already satisfied: tqdm in /home/ricardo/.pyenv/versions/3.8.12/lib/python3.8/site-packages (from kaggle) (4.66.1)\n",
      "Requirement already satisfied: certifi in /home/ricardo/.pyenv/versions/3.8.12/lib/python3.8/site-packages (from kaggle) (2023.5.7)\n",
      "Requirement already satisfied: bleach in /home/ricardo/.pyenv/versions/3.8.12/lib/python3.8/site-packages (from kaggle) (6.1.0)\n",
      "Requirement already satisfied: six>=1.10 in /home/ricardo/.pyenv/versions/3.8.12/lib/python3.8/site-packages (from kaggle) (1.16.0)\n",
      "Requirement already satisfied: python-slugify in /home/ricardo/.pyenv/versions/3.8.12/lib/python3.8/site-packages (from kaggle) (8.0.1)\n",
      "Requirement already satisfied: urllib3 in /home/ricardo/.pyenv/versions/3.8.12/lib/python3.8/site-packages (from kaggle) (1.26.16)\n",
      "Requirement already satisfied: requests in /home/ricardo/.pyenv/versions/3.8.12/lib/python3.8/site-packages (from kaggle) (2.31.0)\n",
      "Requirement already satisfied: webencodings in /home/ricardo/.pyenv/versions/3.8.12/lib/python3.8/site-packages (from bleach->kaggle) (0.5.1)\n",
      "Requirement already satisfied: text-unidecode>=1.3 in /home/ricardo/.pyenv/versions/3.8.12/lib/python3.8/site-packages (from python-slugify->kaggle) (1.3)\n",
      "Requirement already satisfied: charset-normalizer<4,>=2 in /home/ricardo/.pyenv/versions/3.8.12/lib/python3.8/site-packages (from requests->kaggle) (3.2.0)\n",
      "Requirement already satisfied: idna<4,>=2.5 in /home/ricardo/.pyenv/versions/3.8.12/lib/python3.8/site-packages (from requests->kaggle) (3.4)\n"
     ]
    },
    {
     "name": "stderr",
     "output_type": "stream",
     "text": [
      "WARNING: You are using pip version 21.1.1; however, version 23.3.1 is available.\n",
      "You should consider upgrading via the '/home/ricardo/.pyenv/versions/3.8.12/bin/python -m pip install --upgrade pip' command.\n"
     ]
    }
   ],
   "source": [
    "import subprocess\n",
    "import sys\n",
    "import os\n",
    "import json\n",
    "\n",
    "def install(package):\n",
    "    subprocess.check_call([sys.executable, \"-m\", \"pip\", \"install\", package])\n",
    "\n",
    "install('kaggle')"
   ]
  },
  {
   "cell_type": "code",
   "execution_count": 6,
   "metadata": {},
   "outputs": [],
   "source": [
    "# Passe seu username e sua chave\n",
    "# Pesquisar como ler um json sem ter que expor a chave no código\n",
    "kaggle_config = {\n",
    "    \"username\": \"dairi97\",\n",
    "    \"key\": \"253fef63306bb7f36fd8d8b398a30b22\"\n",
    "}\n",
    "\n",
    "# Validando se a biblioteca kaggle realmente esta instalada\n",
    "os.makedirs(os.path.join(os.path.expanduser('~'), '.kaggle'), exist_ok=True)\n",
    "\n",
    "# Escrevendo .json file do kaggle\n",
    "with open(os.path.join(os.path.expanduser('~'), '.kaggle/kaggle.json'), 'w') as file:\n",
    "    json.dump(kaggle_config, file)\n",
    "\n",
    "# Setando permissões\n",
    "os.chmod(os.path.join(os.path.expanduser('~'), '.kaggle/kaggle.json'), 0o600)"
   ]
  },
  {
   "cell_type": "code",
   "execution_count": 7,
   "metadata": {},
   "outputs": [
    {
     "name": "stdout",
     "output_type": "stream",
     "text": [
      "Downloading brazilian-ecommerce.zip to /mnt/c/Users/Ricardo/Desktop/projects/koru\n"
     ]
    },
    {
     "name": "stderr",
     "output_type": "stream",
     "text": [
      " 87%|████████▋ | 37.0M/42.6M [00:02<00:00, 24.9MB/s]"
     ]
    },
    {
     "name": "stdout",
     "output_type": "stream",
     "text": [
      "\n"
     ]
    },
    {
     "name": "stderr",
     "output_type": "stream",
     "text": [
      "100%|██████████| 42.6M/42.6M [00:02<00:00, 17.6MB/s]\n"
     ]
    }
   ],
   "source": [
    "def download_kaggle_dataset(dataset):\n",
    "    subprocess.run(['kaggle', 'datasets', 'download', '-d', dataset])\n",
    "\n",
    "download_kaggle_dataset('olistbr/brazilian-ecommerce')"
   ]
  },
  {
   "cell_type": "code",
   "execution_count": 8,
   "metadata": {},
   "outputs": [
    {
     "ename": "FileNotFoundError",
     "evalue": "[Errno 2] No such file or directory: 'brazilian_ecommerce/file_name.csv'",
     "output_type": "error",
     "traceback": [
      "\u001b[0;31m---------------------------------------------------------------------------\u001b[0m",
      "\u001b[0;31mFileNotFoundError\u001b[0m                         Traceback (most recent call last)",
      "\u001b[1;32m/mnt/c/Users/Ricardo/Desktop/projects/koru/estruturas_de_dados.ipynb Cell 64\u001b[0m line \u001b[0;36m1\n\u001b[1;32m      <a href='vscode-notebook-cell://wsl%2Bubuntu/mnt/c/Users/Ricardo/Desktop/projects/koru/estruturas_de_dados.ipynb#Y216sdnNjb2RlLXJlbW90ZQ%3D%3D?line=5'>6</a>\u001b[0m     zip_ref\u001b[39m.\u001b[39mextractall(\u001b[39m'\u001b[39m\u001b[39mbrazilian_ecommerce\u001b[39m\u001b[39m'\u001b[39m)\n\u001b[1;32m      <a href='vscode-notebook-cell://wsl%2Bubuntu/mnt/c/Users/Ricardo/Desktop/projects/koru/estruturas_de_dados.ipynb#Y216sdnNjb2RlLXJlbW90ZQ%3D%3D?line=7'>8</a>\u001b[0m \u001b[39m# Reading a file from the dataset\u001b[39;00m\n\u001b[1;32m      <a href='vscode-notebook-cell://wsl%2Bubuntu/mnt/c/Users/Ricardo/Desktop/projects/koru/estruturas_de_dados.ipynb#Y216sdnNjb2RlLXJlbW90ZQ%3D%3D?line=8'>9</a>\u001b[0m \u001b[39m# Replace 'file_name.csv' with the actual file name you want to read\u001b[39;00m\n\u001b[0;32m---> <a href='vscode-notebook-cell://wsl%2Bubuntu/mnt/c/Users/Ricardo/Desktop/projects/koru/estruturas_de_dados.ipynb#Y216sdnNjb2RlLXJlbW90ZQ%3D%3D?line=9'>10</a>\u001b[0m df \u001b[39m=\u001b[39m pd\u001b[39m.\u001b[39;49mread_csv(\u001b[39m'\u001b[39;49m\u001b[39mbrazilian_ecommerce/file_name.csv\u001b[39;49m\u001b[39m'\u001b[39;49m)\n\u001b[1;32m     <a href='vscode-notebook-cell://wsl%2Bubuntu/mnt/c/Users/Ricardo/Desktop/projects/koru/estruturas_de_dados.ipynb#Y216sdnNjb2RlLXJlbW90ZQ%3D%3D?line=10'>11</a>\u001b[0m \u001b[39mprint\u001b[39m(df\u001b[39m.\u001b[39mhead())\n",
      "File \u001b[0;32m~/.pyenv/versions/3.8.12/lib/python3.8/site-packages/pandas/util/_decorators.py:311\u001b[0m, in \u001b[0;36mdeprecate_nonkeyword_arguments.<locals>.decorate.<locals>.wrapper\u001b[0;34m(*args, **kwargs)\u001b[0m\n\u001b[1;32m    305\u001b[0m \u001b[39mif\u001b[39;00m \u001b[39mlen\u001b[39m(args) \u001b[39m>\u001b[39m num_allow_args:\n\u001b[1;32m    306\u001b[0m     warnings\u001b[39m.\u001b[39mwarn(\n\u001b[1;32m    307\u001b[0m         msg\u001b[39m.\u001b[39mformat(arguments\u001b[39m=\u001b[39marguments),\n\u001b[1;32m    308\u001b[0m         \u001b[39mFutureWarning\u001b[39;00m,\n\u001b[1;32m    309\u001b[0m         stacklevel\u001b[39m=\u001b[39mstacklevel,\n\u001b[1;32m    310\u001b[0m     )\n\u001b[0;32m--> 311\u001b[0m \u001b[39mreturn\u001b[39;00m func(\u001b[39m*\u001b[39;49margs, \u001b[39m*\u001b[39;49m\u001b[39m*\u001b[39;49mkwargs)\n",
      "File \u001b[0;32m~/.pyenv/versions/3.8.12/lib/python3.8/site-packages/pandas/io/parsers/readers.py:680\u001b[0m, in \u001b[0;36mread_csv\u001b[0;34m(filepath_or_buffer, sep, delimiter, header, names, index_col, usecols, squeeze, prefix, mangle_dupe_cols, dtype, engine, converters, true_values, false_values, skipinitialspace, skiprows, skipfooter, nrows, na_values, keep_default_na, na_filter, verbose, skip_blank_lines, parse_dates, infer_datetime_format, keep_date_col, date_parser, dayfirst, cache_dates, iterator, chunksize, compression, thousands, decimal, lineterminator, quotechar, quoting, doublequote, escapechar, comment, encoding, encoding_errors, dialect, error_bad_lines, warn_bad_lines, on_bad_lines, delim_whitespace, low_memory, memory_map, float_precision, storage_options)\u001b[0m\n\u001b[1;32m    665\u001b[0m kwds_defaults \u001b[39m=\u001b[39m _refine_defaults_read(\n\u001b[1;32m    666\u001b[0m     dialect,\n\u001b[1;32m    667\u001b[0m     delimiter,\n\u001b[0;32m   (...)\u001b[0m\n\u001b[1;32m    676\u001b[0m     defaults\u001b[39m=\u001b[39m{\u001b[39m\"\u001b[39m\u001b[39mdelimiter\u001b[39m\u001b[39m\"\u001b[39m: \u001b[39m\"\u001b[39m\u001b[39m,\u001b[39m\u001b[39m\"\u001b[39m},\n\u001b[1;32m    677\u001b[0m )\n\u001b[1;32m    678\u001b[0m kwds\u001b[39m.\u001b[39mupdate(kwds_defaults)\n\u001b[0;32m--> 680\u001b[0m \u001b[39mreturn\u001b[39;00m _read(filepath_or_buffer, kwds)\n",
      "File \u001b[0;32m~/.pyenv/versions/3.8.12/lib/python3.8/site-packages/pandas/io/parsers/readers.py:575\u001b[0m, in \u001b[0;36m_read\u001b[0;34m(filepath_or_buffer, kwds)\u001b[0m\n\u001b[1;32m    572\u001b[0m _validate_names(kwds\u001b[39m.\u001b[39mget(\u001b[39m\"\u001b[39m\u001b[39mnames\u001b[39m\u001b[39m\"\u001b[39m, \u001b[39mNone\u001b[39;00m))\n\u001b[1;32m    574\u001b[0m \u001b[39m# Create the parser.\u001b[39;00m\n\u001b[0;32m--> 575\u001b[0m parser \u001b[39m=\u001b[39m TextFileReader(filepath_or_buffer, \u001b[39m*\u001b[39;49m\u001b[39m*\u001b[39;49mkwds)\n\u001b[1;32m    577\u001b[0m \u001b[39mif\u001b[39;00m chunksize \u001b[39mor\u001b[39;00m iterator:\n\u001b[1;32m    578\u001b[0m     \u001b[39mreturn\u001b[39;00m parser\n",
      "File \u001b[0;32m~/.pyenv/versions/3.8.12/lib/python3.8/site-packages/pandas/io/parsers/readers.py:933\u001b[0m, in \u001b[0;36mTextFileReader.__init__\u001b[0;34m(self, f, engine, **kwds)\u001b[0m\n\u001b[1;32m    930\u001b[0m     \u001b[39mself\u001b[39m\u001b[39m.\u001b[39moptions[\u001b[39m\"\u001b[39m\u001b[39mhas_index_names\u001b[39m\u001b[39m\"\u001b[39m] \u001b[39m=\u001b[39m kwds[\u001b[39m\"\u001b[39m\u001b[39mhas_index_names\u001b[39m\u001b[39m\"\u001b[39m]\n\u001b[1;32m    932\u001b[0m \u001b[39mself\u001b[39m\u001b[39m.\u001b[39mhandles: IOHandles \u001b[39m|\u001b[39m \u001b[39mNone\u001b[39;00m \u001b[39m=\u001b[39m \u001b[39mNone\u001b[39;00m\n\u001b[0;32m--> 933\u001b[0m \u001b[39mself\u001b[39m\u001b[39m.\u001b[39m_engine \u001b[39m=\u001b[39m \u001b[39mself\u001b[39;49m\u001b[39m.\u001b[39;49m_make_engine(f, \u001b[39mself\u001b[39;49m\u001b[39m.\u001b[39;49mengine)\n",
      "File \u001b[0;32m~/.pyenv/versions/3.8.12/lib/python3.8/site-packages/pandas/io/parsers/readers.py:1217\u001b[0m, in \u001b[0;36mTextFileReader._make_engine\u001b[0;34m(self, f, engine)\u001b[0m\n\u001b[1;32m   1213\u001b[0m     mode \u001b[39m=\u001b[39m \u001b[39m\"\u001b[39m\u001b[39mrb\u001b[39m\u001b[39m\"\u001b[39m\n\u001b[1;32m   1214\u001b[0m \u001b[39m# error: No overload variant of \"get_handle\" matches argument types\u001b[39;00m\n\u001b[1;32m   1215\u001b[0m \u001b[39m# \"Union[str, PathLike[str], ReadCsvBuffer[bytes], ReadCsvBuffer[str]]\"\u001b[39;00m\n\u001b[1;32m   1216\u001b[0m \u001b[39m# , \"str\", \"bool\", \"Any\", \"Any\", \"Any\", \"Any\", \"Any\"\u001b[39;00m\n\u001b[0;32m-> 1217\u001b[0m \u001b[39mself\u001b[39m\u001b[39m.\u001b[39mhandles \u001b[39m=\u001b[39m get_handle(  \u001b[39m# type: ignore[call-overload]\u001b[39;49;00m\n\u001b[1;32m   1218\u001b[0m     f,\n\u001b[1;32m   1219\u001b[0m     mode,\n\u001b[1;32m   1220\u001b[0m     encoding\u001b[39m=\u001b[39;49m\u001b[39mself\u001b[39;49m\u001b[39m.\u001b[39;49moptions\u001b[39m.\u001b[39;49mget(\u001b[39m\"\u001b[39;49m\u001b[39mencoding\u001b[39;49m\u001b[39m\"\u001b[39;49m, \u001b[39mNone\u001b[39;49;00m),\n\u001b[1;32m   1221\u001b[0m     compression\u001b[39m=\u001b[39;49m\u001b[39mself\u001b[39;49m\u001b[39m.\u001b[39;49moptions\u001b[39m.\u001b[39;49mget(\u001b[39m\"\u001b[39;49m\u001b[39mcompression\u001b[39;49m\u001b[39m\"\u001b[39;49m, \u001b[39mNone\u001b[39;49;00m),\n\u001b[1;32m   1222\u001b[0m     memory_map\u001b[39m=\u001b[39;49m\u001b[39mself\u001b[39;49m\u001b[39m.\u001b[39;49moptions\u001b[39m.\u001b[39;49mget(\u001b[39m\"\u001b[39;49m\u001b[39mmemory_map\u001b[39;49m\u001b[39m\"\u001b[39;49m, \u001b[39mFalse\u001b[39;49;00m),\n\u001b[1;32m   1223\u001b[0m     is_text\u001b[39m=\u001b[39;49mis_text,\n\u001b[1;32m   1224\u001b[0m     errors\u001b[39m=\u001b[39;49m\u001b[39mself\u001b[39;49m\u001b[39m.\u001b[39;49moptions\u001b[39m.\u001b[39;49mget(\u001b[39m\"\u001b[39;49m\u001b[39mencoding_errors\u001b[39;49m\u001b[39m\"\u001b[39;49m, \u001b[39m\"\u001b[39;49m\u001b[39mstrict\u001b[39;49m\u001b[39m\"\u001b[39;49m),\n\u001b[1;32m   1225\u001b[0m     storage_options\u001b[39m=\u001b[39;49m\u001b[39mself\u001b[39;49m\u001b[39m.\u001b[39;49moptions\u001b[39m.\u001b[39;49mget(\u001b[39m\"\u001b[39;49m\u001b[39mstorage_options\u001b[39;49m\u001b[39m\"\u001b[39;49m, \u001b[39mNone\u001b[39;49;00m),\n\u001b[1;32m   1226\u001b[0m )\n\u001b[1;32m   1227\u001b[0m \u001b[39massert\u001b[39;00m \u001b[39mself\u001b[39m\u001b[39m.\u001b[39mhandles \u001b[39mis\u001b[39;00m \u001b[39mnot\u001b[39;00m \u001b[39mNone\u001b[39;00m\n\u001b[1;32m   1228\u001b[0m f \u001b[39m=\u001b[39m \u001b[39mself\u001b[39m\u001b[39m.\u001b[39mhandles\u001b[39m.\u001b[39mhandle\n",
      "File \u001b[0;32m~/.pyenv/versions/3.8.12/lib/python3.8/site-packages/pandas/io/common.py:789\u001b[0m, in \u001b[0;36mget_handle\u001b[0;34m(path_or_buf, mode, encoding, compression, memory_map, is_text, errors, storage_options)\u001b[0m\n\u001b[1;32m    784\u001b[0m \u001b[39melif\u001b[39;00m \u001b[39misinstance\u001b[39m(handle, \u001b[39mstr\u001b[39m):\n\u001b[1;32m    785\u001b[0m     \u001b[39m# Check whether the filename is to be opened in binary mode.\u001b[39;00m\n\u001b[1;32m    786\u001b[0m     \u001b[39m# Binary mode does not support 'encoding' and 'newline'.\u001b[39;00m\n\u001b[1;32m    787\u001b[0m     \u001b[39mif\u001b[39;00m ioargs\u001b[39m.\u001b[39mencoding \u001b[39mand\u001b[39;00m \u001b[39m\"\u001b[39m\u001b[39mb\u001b[39m\u001b[39m\"\u001b[39m \u001b[39mnot\u001b[39;00m \u001b[39min\u001b[39;00m ioargs\u001b[39m.\u001b[39mmode:\n\u001b[1;32m    788\u001b[0m         \u001b[39m# Encoding\u001b[39;00m\n\u001b[0;32m--> 789\u001b[0m         handle \u001b[39m=\u001b[39m \u001b[39mopen\u001b[39;49m(\n\u001b[1;32m    790\u001b[0m             handle,\n\u001b[1;32m    791\u001b[0m             ioargs\u001b[39m.\u001b[39;49mmode,\n\u001b[1;32m    792\u001b[0m             encoding\u001b[39m=\u001b[39;49mioargs\u001b[39m.\u001b[39;49mencoding,\n\u001b[1;32m    793\u001b[0m             errors\u001b[39m=\u001b[39;49merrors,\n\u001b[1;32m    794\u001b[0m             newline\u001b[39m=\u001b[39;49m\u001b[39m\"\u001b[39;49m\u001b[39m\"\u001b[39;49m,\n\u001b[1;32m    795\u001b[0m         )\n\u001b[1;32m    796\u001b[0m     \u001b[39melse\u001b[39;00m:\n\u001b[1;32m    797\u001b[0m         \u001b[39m# Binary mode\u001b[39;00m\n\u001b[1;32m    798\u001b[0m         handle \u001b[39m=\u001b[39m \u001b[39mopen\u001b[39m(handle, ioargs\u001b[39m.\u001b[39mmode)\n",
      "\u001b[0;31mFileNotFoundError\u001b[0m: [Errno 2] No such file or directory: 'brazilian_ecommerce/file_name.csv'"
     ]
    }
   ],
   "source": [
    "import zipfile\n",
    "import pandas as pd\n",
    "\n",
    "# Unzipping the dataset\n",
    "with zipfile.ZipFile('brazilian-ecommerce.zip', 'r') as zip_ref:\n",
    "    zip_ref.extractall('brazilian_ecommerce')\n",
    "\n",
    "# Reading a file from the dataset\n",
    "# Replace 'file_name.csv' with the actual file name you want to read\n",
    "df = pd.read_csv('brazilian_ecommerce/file_name.csv')\n",
    "print(df.head())"
   ]
  },
  {
   "cell_type": "code",
   "execution_count": null,
   "metadata": {},
   "outputs": [],
   "source": []
  }
 ],
 "metadata": {
  "kernelspec": {
   "display_name": "Python 3 (ipykernel)",
   "language": "python",
   "name": "python3"
  },
  "language_info": {
   "codemirror_mode": {
    "name": "ipython",
    "version": 3
   },
   "file_extension": ".py",
   "mimetype": "text/x-python",
   "name": "python",
   "nbconvert_exporter": "python",
   "pygments_lexer": "ipython3",
   "version": "3.9.7"
  }
 },
 "nbformat": 4,
 "nbformat_minor": 2
}
