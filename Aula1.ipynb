{
 "cells": [
  {
   "cell_type": "code",
   "execution_count": 2,
   "metadata": {},
   "outputs": [
    {
     "name": "stdout",
     "output_type": "stream",
     "text": [
      "Hello Word!\n"
     ]
    }
   ],
   "source": [
    "print('Hello Word!')"
   ]
  },
  {
   "cell_type": "code",
   "execution_count": 13,
   "metadata": {},
   "outputs": [
    {
     "name": "stdout",
     "output_type": "stream",
     "text": [
      "Menor de idade\n"
     ]
    }
   ],
   "source": [
    "idade = int(input('Digite sua Idade'))\n",
    "\n",
    "if idade >= 18:\n",
    "    print('Maior de idade')\n",
    "else:\n",
    "    print('Menor de idade')"
   ]
  },
  {
   "cell_type": "code",
   "execution_count": 18,
   "metadata": {},
   "outputs": [
    {
     "name": "stdout",
     "output_type": "stream",
     "text": [
      "Geração Millenial\n"
     ]
    }
   ],
   "source": [
    "ano_nascimento = int(input('Qual seu ano de nascimento?'))\n",
    "\n",
    "if 1946 <= ano_nascimento <= 1964:\n",
    "    print('Geração Baby Boomer')\n",
    "elif 1965 <= ano_nascimento <= 1980:\n",
    "    print('Geração x')\n",
    "elif 1981 <= ano_nascimento <= 1996:\n",
    "    print('Geração Millenial')\n",
    "elif ano_nascimento >= 1997:\n",
    "    print('Geração z')\n",
    "else:\n",
    "    print('Sua geração não foi cadastrada')"
   ]
  },
  {
   "cell_type": "code",
   "execution_count": 25,
   "metadata": {},
   "outputs": [
    {
     "name": "stdout",
     "output_type": "stream",
     "text": [
      "1\n",
      "2\n",
      "3\n",
      "4\n",
      "5\n",
      "6\n",
      "7\n",
      "8\n",
      "9\n",
      "10\n"
     ]
    }
   ],
   "source": [
    "range(10)\n",
    "\n",
    "for numero in range(1,11):\n",
    "    print(numero)"
   ]
  },
  {
   "cell_type": "code",
   "execution_count": 29,
   "metadata": {},
   "outputs": [
    {
     "name": "stdout",
     "output_type": "stream",
     "text": [
      "5\n",
      "4\n",
      "3\n",
      "2\n",
      "1\n"
     ]
    }
   ],
   "source": [
    "contador = 5\n",
    "while contador > 0:\n",
    "    print(contador)\n",
    "    contador -= 1"
   ]
  },
  {
   "cell_type": "code",
   "execution_count": 44,
   "metadata": {},
   "outputs": [
    {
     "name": "stdout",
     "output_type": "stream",
     "text": [
      "107.1\n"
     ]
    }
   ],
   "source": [
    "# Calculadora\n",
    "numero1 = float(input('Digite o primeiro numero'))\n",
    "numero2 = float(input('Digite o segundo numero'))\n",
    "operacao = float(input('Digite a operação que deseja: 1 = Soma, 2 = Subtração, 3 = multipicação, 4 = divisao'))\n",
    "\n",
    "if operacao == 1:\n",
    "    resultado = (numero1 + numero2)\n",
    "    print(resultado)\n",
    "elif operacao == 2:\n",
    "    resultado = (numero1 - numero2)\n",
    "    print(resultado)\n",
    "elif operacao == 3:\n",
    "    resultado = (numero1 * numero2)\n",
    "    print(resultado)\n",
    "elif operacao == 4:\n",
    "    resultado = (numero1 / numero2)\n",
    "    print(resultado)\n",
    "\n"
   ]
  },
  {
   "cell_type": "code",
   "execution_count": 66,
   "metadata": {},
   "outputs": [
    {
     "name": "stdout",
     "output_type": "stream",
     "text": [
      "15\n",
      " \n",
      "    ================ \n",
      "          *\n",
      "         ***\n",
      "        *****\n",
      "       *******\n",
      "      *********\n",
      "         ||\n",
      "\n",
      "      Feliz Natal\n",
      "    =================\n",
      "    \n"
     ]
    }
   ],
   "source": [
    "arvore = int(input('Qual o tamanho da arvore?'))\n",
    "print(arvore)\n",
    "\n",
    "if arvore >= 10:\n",
    "    print(f\"\"\" \n",
    "    ================ \n",
    "          *\n",
    "         ***\n",
    "        *****\n",
    "       *******\n",
    "      *********\n",
    "         ||\n",
    "\n",
    "      Feliz Natal\n",
    "    =================\n",
    "    \"\"\")\n",
    "else: \n",
    "    print('tem que esperar crescer mais essa arvore ai')"
   ]
  },
  {
   "cell_type": "code",
   "execution_count": 80,
   "metadata": {},
   "outputs": [
    {
     "name": "stdout",
     "output_type": "stream",
     "text": [
      "       *\n",
      "      ***\n",
      "     *****\n",
      "    *******\n",
      "   *********\n",
      "  ***********\n",
      " *************\n",
      "***************\n",
      "       #\n",
      "       #\n"
     ]
    }
   ],
   "source": [
    "altura_total = 10\n",
    "\n",
    "altura_copa = int(0.8 * altura_total)\n",
    "altura_tronco = (altura_total - altura_copa)\n",
    "\n",
    "for i in range(altura_copa):\n",
    "\n",
    "    for j in range(altura_copa - i - 1):\n",
    "        print(\" \", end = \"\")\n",
    "\n",
    "    for k in range(2 * i + 1):\n",
    "        print(\"*\", end = \"\")\n",
    "\n",
    "    print()\n",
    "\n",
    "for i in range(altura_tronco):\n",
    "    for j in range(altura_copa - 1):\n",
    "        print(\" \", end = \"\")\n",
    "    print(\"#\")\n"
   ]
  }
 ],
 "metadata": {
  "kernelspec": {
   "display_name": "Python 3",
   "language": "python",
   "name": "python3"
  },
  "language_info": {
   "codemirror_mode": {
    "name": "ipython",
    "version": 3
   },
   "file_extension": ".py",
   "mimetype": "text/x-python",
   "name": "python",
   "nbconvert_exporter": "python",
   "pygments_lexer": "ipython3",
   "version": "3.11.5"
  }
 },
 "nbformat": 4,
 "nbformat_minor": 2
}
