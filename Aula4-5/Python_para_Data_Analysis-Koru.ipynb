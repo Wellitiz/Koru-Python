{
 "cells": [
  {
   "cell_type": "code",
   "execution_count": 2,
   "metadata": {
    "colab": {
     "base_uri": "https://localhost:8080/"
    },
    "id": "spytaA21D-zd",
    "outputId": "b4f37848-815f-499b-d057-2d71d12ea7ee"
   },
   "outputs": [
    {
     "name": "stdout",
     "output_type": "stream",
     "text": [
      "Hello World!\n"
     ]
    }
   ],
   "source": [
    "print('Hello World!')\n",
    "\n",
    "# pode digitar o comentário aqui\n",
    "# linha\n",
    "# linha"
   ]
  },
  {
   "attachments": {},
   "cell_type": "markdown",
   "metadata": {},
   "source": [
    "## Bem vindos ao nosso curso\n",
    "\n",
    "Importando bibliotecas maravilhosas:\n",
    "\n",
    "*   Pandas - Biblioteca INCRÍVEL que irá facilitar sua manipulação de dados.\n",
    "\n",
    "*   Numpy - Biblioteca para operações matemáticas"
   ]
  },
  {
   "cell_type": "code",
   "execution_count": 1,
   "metadata": {},
   "outputs": [],
   "source": [
    "import pandas as pd\n",
    "import numpy as np"
   ]
  },
  {
   "attachments": {},
   "cell_type": "markdown",
   "metadata": {
    "id": "XvMLgNzrLVri"
   },
   "source": [
    "Lendo o nosso arquivo"
   ]
  },
  {
   "cell_type": "code",
   "execution_count": 2,
   "metadata": {},
   "outputs": [],
   "source": [
    "df = pd.read_excel('dataset-vendas.xlsx')"
   ]
  },
  {
   "attachments": {},
   "cell_type": "markdown",
   "metadata": {
    "id": "n0TTzuG_LYKj"
   },
   "source": [
    "**Como ele é?**\n",
    "\n",
    "Aqui é super importante inspecionarmos o nosso dataframe (ou tabela), com informações relevantes relacionadas ao seu formato e também a composição de dados que temos dele.\n"
   ]
  },
  {
   "attachments": {},
   "cell_type": "markdown",
   "metadata": {
    "id": "6LzP6kj_Lwf7"
   },
   "source": [
    "Vamos olhar as primeiras 5 linhas do nosso dataframe"
   ]
  },
  {
   "cell_type": "code",
   "execution_count": 3,
   "metadata": {},
   "outputs": [
    {
     "data": {
      "text/html": [
       "<div>\n",
       "<style scoped>\n",
       "    .dataframe tbody tr th:only-of-type {\n",
       "        vertical-align: middle;\n",
       "    }\n",
       "\n",
       "    .dataframe tbody tr th {\n",
       "        vertical-align: top;\n",
       "    }\n",
       "\n",
       "    .dataframe thead th {\n",
       "        text-align: right;\n",
       "    }\n",
       "</style>\n",
       "<table border=\"1\" class=\"dataframe\">\n",
       "  <thead>\n",
       "    <tr style=\"text-align: right;\">\n",
       "      <th></th>\n",
       "      <th>order_id</th>\n",
       "      <th>customer_id</th>\n",
       "      <th>order_status</th>\n",
       "      <th>order_purchase_timestamp</th>\n",
       "      <th>order_approved_at</th>\n",
       "      <th>order_delivered_carrier_date</th>\n",
       "      <th>order_delivered_customer_date</th>\n",
       "      <th>order_estimated_delivery_date</th>\n",
       "      <th>order_item_id</th>\n",
       "      <th>product_id</th>\n",
       "      <th>...</th>\n",
       "      <th>product_width_cm</th>\n",
       "      <th>product_category_name_english</th>\n",
       "      <th>customer_unique_id</th>\n",
       "      <th>customer_zip_code_prefix</th>\n",
       "      <th>customer_city</th>\n",
       "      <th>customer_state</th>\n",
       "      <th>seller_zip_code_prefix</th>\n",
       "      <th>seller_city</th>\n",
       "      <th>seller_state</th>\n",
       "      <th>product_category_name</th>\n",
       "    </tr>\n",
       "  </thead>\n",
       "  <tbody>\n",
       "    <tr>\n",
       "      <th>0</th>\n",
       "      <td>e481f51cbdc54678b7cc49136f2d6af7</td>\n",
       "      <td>9ef432eb6251297304e76186b10a928d</td>\n",
       "      <td>delivered</td>\n",
       "      <td>2021-10-02 10:56:33</td>\n",
       "      <td>2021-10-02 11:07:15</td>\n",
       "      <td>2021-10-04 19:55:00</td>\n",
       "      <td>2021-10-10 21:25:13</td>\n",
       "      <td>2021-10-18</td>\n",
       "      <td>1</td>\n",
       "      <td>87285b34884572647811a353c7ac498a</td>\n",
       "      <td>...</td>\n",
       "      <td>13.0</td>\n",
       "      <td>housewares</td>\n",
       "      <td>7c396fd4830fd04220f754e42b4e5bff</td>\n",
       "      <td>3149</td>\n",
       "      <td>sao paulo</td>\n",
       "      <td>SP</td>\n",
       "      <td>9350</td>\n",
       "      <td>maua</td>\n",
       "      <td>SP</td>\n",
       "      <td>utilidades_domesticas</td>\n",
       "    </tr>\n",
       "    <tr>\n",
       "      <th>1</th>\n",
       "      <td>e481f51cbdc54678b7cc49136f2d6af7</td>\n",
       "      <td>9ef432eb6251297304e76186b10a928d</td>\n",
       "      <td>delivered</td>\n",
       "      <td>2021-10-02 10:56:33</td>\n",
       "      <td>2021-10-02 11:07:15</td>\n",
       "      <td>2021-10-04 19:55:00</td>\n",
       "      <td>2021-10-10 21:25:13</td>\n",
       "      <td>2021-10-18</td>\n",
       "      <td>1</td>\n",
       "      <td>87285b34884572647811a353c7ac498a</td>\n",
       "      <td>...</td>\n",
       "      <td>13.0</td>\n",
       "      <td>housewares</td>\n",
       "      <td>7c396fd4830fd04220f754e42b4e5bff</td>\n",
       "      <td>3149</td>\n",
       "      <td>sao paulo</td>\n",
       "      <td>SP</td>\n",
       "      <td>9350</td>\n",
       "      <td>maua</td>\n",
       "      <td>SP</td>\n",
       "      <td>utilidades_domesticas</td>\n",
       "    </tr>\n",
       "    <tr>\n",
       "      <th>2</th>\n",
       "      <td>e481f51cbdc54678b7cc49136f2d6af7</td>\n",
       "      <td>9ef432eb6251297304e76186b10a928d</td>\n",
       "      <td>delivered</td>\n",
       "      <td>2021-10-02 10:56:33</td>\n",
       "      <td>2021-10-02 11:07:15</td>\n",
       "      <td>2021-10-04 19:55:00</td>\n",
       "      <td>2021-10-10 21:25:13</td>\n",
       "      <td>2021-10-18</td>\n",
       "      <td>1</td>\n",
       "      <td>87285b34884572647811a353c7ac498a</td>\n",
       "      <td>...</td>\n",
       "      <td>13.0</td>\n",
       "      <td>housewares</td>\n",
       "      <td>7c396fd4830fd04220f754e42b4e5bff</td>\n",
       "      <td>3149</td>\n",
       "      <td>sao paulo</td>\n",
       "      <td>SP</td>\n",
       "      <td>9350</td>\n",
       "      <td>maua</td>\n",
       "      <td>SP</td>\n",
       "      <td>utilidades_domesticas</td>\n",
       "    </tr>\n",
       "    <tr>\n",
       "      <th>3</th>\n",
       "      <td>128e10d95713541c87cd1a2e48201934</td>\n",
       "      <td>a20e8105f23924cd00833fd87daa0831</td>\n",
       "      <td>delivered</td>\n",
       "      <td>2021-08-15 18:29:31</td>\n",
       "      <td>2021-08-15 20:05:16</td>\n",
       "      <td>2021-08-17 15:28:33</td>\n",
       "      <td>2021-08-18 14:44:43</td>\n",
       "      <td>2021-08-28</td>\n",
       "      <td>1</td>\n",
       "      <td>87285b34884572647811a353c7ac498a</td>\n",
       "      <td>...</td>\n",
       "      <td>13.0</td>\n",
       "      <td>housewares</td>\n",
       "      <td>3a51803cc0d012c3b5dc8b7528cb05f7</td>\n",
       "      <td>3366</td>\n",
       "      <td>sao paulo</td>\n",
       "      <td>SP</td>\n",
       "      <td>9350</td>\n",
       "      <td>maua</td>\n",
       "      <td>SP</td>\n",
       "      <td>utilidades_domesticas</td>\n",
       "    </tr>\n",
       "    <tr>\n",
       "      <th>4</th>\n",
       "      <td>0e7e841ddf8f8f2de2bad69267ecfbcf</td>\n",
       "      <td>26c7ac168e1433912a51b924fbd34d34</td>\n",
       "      <td>delivered</td>\n",
       "      <td>2021-08-02 18:24:47</td>\n",
       "      <td>2021-08-02 18:43:15</td>\n",
       "      <td>2021-08-04 17:35:43</td>\n",
       "      <td>2021-08-07 18:30:01</td>\n",
       "      <td>2021-08-15</td>\n",
       "      <td>1</td>\n",
       "      <td>87285b34884572647811a353c7ac498a</td>\n",
       "      <td>...</td>\n",
       "      <td>13.0</td>\n",
       "      <td>housewares</td>\n",
       "      <td>ef0996a1a279c26e7ecbd737be23d235</td>\n",
       "      <td>2290</td>\n",
       "      <td>sao paulo</td>\n",
       "      <td>SP</td>\n",
       "      <td>9350</td>\n",
       "      <td>maua</td>\n",
       "      <td>SP</td>\n",
       "      <td>utilidades_domesticas</td>\n",
       "    </tr>\n",
       "  </tbody>\n",
       "</table>\n",
       "<p>5 rows × 40 columns</p>\n",
       "</div>"
      ],
      "text/plain": [
       "                           order_id                       customer_id  \\\n",
       "0  e481f51cbdc54678b7cc49136f2d6af7  9ef432eb6251297304e76186b10a928d   \n",
       "1  e481f51cbdc54678b7cc49136f2d6af7  9ef432eb6251297304e76186b10a928d   \n",
       "2  e481f51cbdc54678b7cc49136f2d6af7  9ef432eb6251297304e76186b10a928d   \n",
       "3  128e10d95713541c87cd1a2e48201934  a20e8105f23924cd00833fd87daa0831   \n",
       "4  0e7e841ddf8f8f2de2bad69267ecfbcf  26c7ac168e1433912a51b924fbd34d34   \n",
       "\n",
       "  order_status order_purchase_timestamp   order_approved_at  \\\n",
       "0    delivered      2021-10-02 10:56:33 2021-10-02 11:07:15   \n",
       "1    delivered      2021-10-02 10:56:33 2021-10-02 11:07:15   \n",
       "2    delivered      2021-10-02 10:56:33 2021-10-02 11:07:15   \n",
       "3    delivered      2021-08-15 18:29:31 2021-08-15 20:05:16   \n",
       "4    delivered      2021-08-02 18:24:47 2021-08-02 18:43:15   \n",
       "\n",
       "  order_delivered_carrier_date order_delivered_customer_date  \\\n",
       "0          2021-10-04 19:55:00           2021-10-10 21:25:13   \n",
       "1          2021-10-04 19:55:00           2021-10-10 21:25:13   \n",
       "2          2021-10-04 19:55:00           2021-10-10 21:25:13   \n",
       "3          2021-08-17 15:28:33           2021-08-18 14:44:43   \n",
       "4          2021-08-04 17:35:43           2021-08-07 18:30:01   \n",
       "\n",
       "  order_estimated_delivery_date  order_item_id  \\\n",
       "0                    2021-10-18              1   \n",
       "1                    2021-10-18              1   \n",
       "2                    2021-10-18              1   \n",
       "3                    2021-08-28              1   \n",
       "4                    2021-08-15              1   \n",
       "\n",
       "                         product_id  ... product_width_cm  \\\n",
       "0  87285b34884572647811a353c7ac498a  ...             13.0   \n",
       "1  87285b34884572647811a353c7ac498a  ...             13.0   \n",
       "2  87285b34884572647811a353c7ac498a  ...             13.0   \n",
       "3  87285b34884572647811a353c7ac498a  ...             13.0   \n",
       "4  87285b34884572647811a353c7ac498a  ...             13.0   \n",
       "\n",
       "  product_category_name_english                customer_unique_id  \\\n",
       "0                    housewares  7c396fd4830fd04220f754e42b4e5bff   \n",
       "1                    housewares  7c396fd4830fd04220f754e42b4e5bff   \n",
       "2                    housewares  7c396fd4830fd04220f754e42b4e5bff   \n",
       "3                    housewares  3a51803cc0d012c3b5dc8b7528cb05f7   \n",
       "4                    housewares  ef0996a1a279c26e7ecbd737be23d235   \n",
       "\n",
       "   customer_zip_code_prefix  customer_city customer_state  \\\n",
       "0                      3149      sao paulo             SP   \n",
       "1                      3149      sao paulo             SP   \n",
       "2                      3149      sao paulo             SP   \n",
       "3                      3366      sao paulo             SP   \n",
       "4                      2290      sao paulo             SP   \n",
       "\n",
       "   seller_zip_code_prefix  seller_city seller_state  product_category_name  \n",
       "0                    9350         maua           SP  utilidades_domesticas  \n",
       "1                    9350         maua           SP  utilidades_domesticas  \n",
       "2                    9350         maua           SP  utilidades_domesticas  \n",
       "3                    9350         maua           SP  utilidades_domesticas  \n",
       "4                    9350         maua           SP  utilidades_domesticas  \n",
       "\n",
       "[5 rows x 40 columns]"
      ]
     },
     "execution_count": 3,
     "metadata": {},
     "output_type": "execute_result"
    }
   ],
   "source": [
    "df.head()"
   ]
  },
  {
   "attachments": {},
   "cell_type": "markdown",
   "metadata": {
    "id": "tYyXYWUZL1mP"
   },
   "source": [
    "Vamos olhar as últimas 5 linhas do nosso dataframe"
   ]
  },
  {
   "cell_type": "code",
   "execution_count": 4,
   "metadata": {
    "colab": {
     "base_uri": "https://localhost:8080/",
     "height": 530
    },
    "id": "832VraaZL4ya",
    "outputId": "0f4f1edd-b4f9-4123-c6b6-86006a873bc9"
   },
   "outputs": [
    {
     "data": {
      "text/html": [
       "<div>\n",
       "<style scoped>\n",
       "    .dataframe tbody tr th:only-of-type {\n",
       "        vertical-align: middle;\n",
       "    }\n",
       "\n",
       "    .dataframe tbody tr th {\n",
       "        vertical-align: top;\n",
       "    }\n",
       "\n",
       "    .dataframe thead th {\n",
       "        text-align: right;\n",
       "    }\n",
       "</style>\n",
       "<table border=\"1\" class=\"dataframe\">\n",
       "  <thead>\n",
       "    <tr style=\"text-align: right;\">\n",
       "      <th></th>\n",
       "      <th>order_id</th>\n",
       "      <th>customer_id</th>\n",
       "      <th>order_status</th>\n",
       "      <th>order_purchase_timestamp</th>\n",
       "      <th>order_approved_at</th>\n",
       "      <th>order_delivered_carrier_date</th>\n",
       "      <th>order_delivered_customer_date</th>\n",
       "      <th>order_estimated_delivery_date</th>\n",
       "      <th>order_item_id</th>\n",
       "      <th>product_id</th>\n",
       "      <th>...</th>\n",
       "      <th>product_width_cm</th>\n",
       "      <th>product_category_name_english</th>\n",
       "      <th>customer_unique_id</th>\n",
       "      <th>customer_zip_code_prefix</th>\n",
       "      <th>customer_city</th>\n",
       "      <th>customer_state</th>\n",
       "      <th>seller_zip_code_prefix</th>\n",
       "      <th>seller_city</th>\n",
       "      <th>seller_state</th>\n",
       "      <th>product_category_name</th>\n",
       "    </tr>\n",
       "  </thead>\n",
       "  <tbody>\n",
       "    <tr>\n",
       "      <th>118226</th>\n",
       "      <td>1ab38815794efa43d269d62b98dae815</td>\n",
       "      <td>a0b67404d84a70ef420a7f99ad6b190a</td>\n",
       "      <td>delivered</td>\n",
       "      <td>2022-07-01 10:23:10</td>\n",
       "      <td>2022-07-05 16:17:52</td>\n",
       "      <td>2022-07-04 14:34:00</td>\n",
       "      <td>2022-07-09 15:06:57</td>\n",
       "      <td>2022-07-20</td>\n",
       "      <td>1</td>\n",
       "      <td>31ec3a565e06de4bdf9d2a511b822b4d</td>\n",
       "      <td>...</td>\n",
       "      <td>28.0</td>\n",
       "      <td>construction_tools_lights</td>\n",
       "      <td>2077f7ec37df79c62cc24b7b8f30e8c9</td>\n",
       "      <td>8528</td>\n",
       "      <td>ferraz de vasconcelos</td>\n",
       "      <td>SP</td>\n",
       "      <td>13660</td>\n",
       "      <td>porto ferreira</td>\n",
       "      <td>SP</td>\n",
       "      <td>construcao_ferramentas_iluminacao</td>\n",
       "    </tr>\n",
       "    <tr>\n",
       "      <th>118227</th>\n",
       "      <td>b159d0ce7cd881052da94fa165617b05</td>\n",
       "      <td>e0c3bc5ce0836b975d6b2a8ce7bb0e3e</td>\n",
       "      <td>canceled</td>\n",
       "      <td>2021-03-11 19:51:36</td>\n",
       "      <td>2021-03-11 19:51:36</td>\n",
       "      <td>NaT</td>\n",
       "      <td>NaT</td>\n",
       "      <td>2021-03-30</td>\n",
       "      <td>1</td>\n",
       "      <td>241a1ffc9cf969b27de6e72301020268</td>\n",
       "      <td>...</td>\n",
       "      <td>11.0</td>\n",
       "      <td>auto</td>\n",
       "      <td>78a159045124eb7601951b917a42034f</td>\n",
       "      <td>89111</td>\n",
       "      <td>gaspar</td>\n",
       "      <td>SC</td>\n",
       "      <td>89031</td>\n",
       "      <td>blumenau</td>\n",
       "      <td>SC</td>\n",
       "      <td>automotivo</td>\n",
       "    </tr>\n",
       "    <tr>\n",
       "      <th>118228</th>\n",
       "      <td>735dce2d574afe8eb87e80a3d6229c48</td>\n",
       "      <td>d531d01affc2c55769f6b9ed410d8d3c</td>\n",
       "      <td>delivered</td>\n",
       "      <td>2022-07-24 09:46:27</td>\n",
       "      <td>2022-07-24 11:24:27</td>\n",
       "      <td>2022-07-24 15:14:00</td>\n",
       "      <td>2022-08-02 22:47:35</td>\n",
       "      <td>2022-08-16</td>\n",
       "      <td>1</td>\n",
       "      <td>1d187e8e7a30417fda31e85679d96f0f</td>\n",
       "      <td>...</td>\n",
       "      <td>30.0</td>\n",
       "      <td>furniture_decor</td>\n",
       "      <td>8cf3c6e1d2c8afaab2eda3fa01d4e3d2</td>\n",
       "      <td>60455</td>\n",
       "      <td>fortaleza</td>\n",
       "      <td>CE</td>\n",
       "      <td>13478</td>\n",
       "      <td>americana</td>\n",
       "      <td>SP</td>\n",
       "      <td>moveis_decoracao</td>\n",
       "    </tr>\n",
       "    <tr>\n",
       "      <th>118229</th>\n",
       "      <td>25d2bfa43663a23586afd12f15b542e7</td>\n",
       "      <td>9d8c06734fde9823ace11a4b5929b5a7</td>\n",
       "      <td>delivered</td>\n",
       "      <td>2022-05-22 21:13:21</td>\n",
       "      <td>2022-05-22 21:35:40</td>\n",
       "      <td>2022-05-24 12:28:00</td>\n",
       "      <td>2022-06-12 23:11:29</td>\n",
       "      <td>2022-06-08</td>\n",
       "      <td>1</td>\n",
       "      <td>6e1c2008dea1929b9b6c27fa01381e90</td>\n",
       "      <td>...</td>\n",
       "      <td>41.0</td>\n",
       "      <td>furniture_decor</td>\n",
       "      <td>e55e436481078787e32349cee9febf5e</td>\n",
       "      <td>39803</td>\n",
       "      <td>teofilo otoni</td>\n",
       "      <td>MG</td>\n",
       "      <td>8320</td>\n",
       "      <td>sao paulo</td>\n",
       "      <td>SP</td>\n",
       "      <td>moveis_decoracao</td>\n",
       "    </tr>\n",
       "    <tr>\n",
       "      <th>118230</th>\n",
       "      <td>1565f22aa9452ff278638e87cc895678</td>\n",
       "      <td>56772dfbcbe7df908a284ff0d53adf7d</td>\n",
       "      <td>delivered</td>\n",
       "      <td>2022-05-15 17:41:00</td>\n",
       "      <td>2022-05-16 03:35:29</td>\n",
       "      <td>2022-05-16 17:20:00</td>\n",
       "      <td>2022-05-21 14:31:41</td>\n",
       "      <td>2022-05-29</td>\n",
       "      <td>1</td>\n",
       "      <td>9c1e194db1d35a79d962ea610bfe0868</td>\n",
       "      <td>...</td>\n",
       "      <td>13.0</td>\n",
       "      <td>perfumery</td>\n",
       "      <td>6ceea7c1088e15ab3c67980a2d9bb309</td>\n",
       "      <td>9687</td>\n",
       "      <td>sao bernardo do campo</td>\n",
       "      <td>SP</td>\n",
       "      <td>14092</td>\n",
       "      <td>ribeirao preto</td>\n",
       "      <td>SP</td>\n",
       "      <td>perfumaria</td>\n",
       "    </tr>\n",
       "  </tbody>\n",
       "</table>\n",
       "<p>5 rows × 40 columns</p>\n",
       "</div>"
      ],
      "text/plain": [
       "                                order_id                       customer_id  \\\n",
       "118226  1ab38815794efa43d269d62b98dae815  a0b67404d84a70ef420a7f99ad6b190a   \n",
       "118227  b159d0ce7cd881052da94fa165617b05  e0c3bc5ce0836b975d6b2a8ce7bb0e3e   \n",
       "118228  735dce2d574afe8eb87e80a3d6229c48  d531d01affc2c55769f6b9ed410d8d3c   \n",
       "118229  25d2bfa43663a23586afd12f15b542e7  9d8c06734fde9823ace11a4b5929b5a7   \n",
       "118230  1565f22aa9452ff278638e87cc895678  56772dfbcbe7df908a284ff0d53adf7d   \n",
       "\n",
       "       order_status order_purchase_timestamp   order_approved_at  \\\n",
       "118226    delivered      2022-07-01 10:23:10 2022-07-05 16:17:52   \n",
       "118227     canceled      2021-03-11 19:51:36 2021-03-11 19:51:36   \n",
       "118228    delivered      2022-07-24 09:46:27 2022-07-24 11:24:27   \n",
       "118229    delivered      2022-05-22 21:13:21 2022-05-22 21:35:40   \n",
       "118230    delivered      2022-05-15 17:41:00 2022-05-16 03:35:29   \n",
       "\n",
       "       order_delivered_carrier_date order_delivered_customer_date  \\\n",
       "118226          2022-07-04 14:34:00           2022-07-09 15:06:57   \n",
       "118227                          NaT                           NaT   \n",
       "118228          2022-07-24 15:14:00           2022-08-02 22:47:35   \n",
       "118229          2022-05-24 12:28:00           2022-06-12 23:11:29   \n",
       "118230          2022-05-16 17:20:00           2022-05-21 14:31:41   \n",
       "\n",
       "       order_estimated_delivery_date  order_item_id  \\\n",
       "118226                    2022-07-20              1   \n",
       "118227                    2021-03-30              1   \n",
       "118228                    2022-08-16              1   \n",
       "118229                    2022-06-08              1   \n",
       "118230                    2022-05-29              1   \n",
       "\n",
       "                              product_id  ... product_width_cm  \\\n",
       "118226  31ec3a565e06de4bdf9d2a511b822b4d  ...             28.0   \n",
       "118227  241a1ffc9cf969b27de6e72301020268  ...             11.0   \n",
       "118228  1d187e8e7a30417fda31e85679d96f0f  ...             30.0   \n",
       "118229  6e1c2008dea1929b9b6c27fa01381e90  ...             41.0   \n",
       "118230  9c1e194db1d35a79d962ea610bfe0868  ...             13.0   \n",
       "\n",
       "       product_category_name_english                customer_unique_id  \\\n",
       "118226     construction_tools_lights  2077f7ec37df79c62cc24b7b8f30e8c9   \n",
       "118227                          auto  78a159045124eb7601951b917a42034f   \n",
       "118228               furniture_decor  8cf3c6e1d2c8afaab2eda3fa01d4e3d2   \n",
       "118229               furniture_decor  e55e436481078787e32349cee9febf5e   \n",
       "118230                     perfumery  6ceea7c1088e15ab3c67980a2d9bb309   \n",
       "\n",
       "        customer_zip_code_prefix          customer_city customer_state  \\\n",
       "118226                      8528  ferraz de vasconcelos             SP   \n",
       "118227                     89111                 gaspar             SC   \n",
       "118228                     60455              fortaleza             CE   \n",
       "118229                     39803          teofilo otoni             MG   \n",
       "118230                      9687  sao bernardo do campo             SP   \n",
       "\n",
       "        seller_zip_code_prefix     seller_city seller_state  \\\n",
       "118226                   13660  porto ferreira           SP   \n",
       "118227                   89031        blumenau           SC   \n",
       "118228                   13478       americana           SP   \n",
       "118229                    8320       sao paulo           SP   \n",
       "118230                   14092  ribeirao preto           SP   \n",
       "\n",
       "                    product_category_name  \n",
       "118226  construcao_ferramentas_iluminacao  \n",
       "118227                         automotivo  \n",
       "118228                   moveis_decoracao  \n",
       "118229                   moveis_decoracao  \n",
       "118230                         perfumaria  \n",
       "\n",
       "[5 rows x 40 columns]"
      ]
     },
     "execution_count": 4,
     "metadata": {},
     "output_type": "execute_result"
    }
   ],
   "source": [
    "df.tail()"
   ]
  },
  {
   "attachments": {},
   "cell_type": "markdown",
   "metadata": {
    "id": "Fkaz49ECL9Ul"
   },
   "source": [
    "E se eu quiser olhar as primeiras (ou últimas) 20 linhas?"
   ]
  },
  {
   "cell_type": "code",
   "execution_count": 15,
   "metadata": {},
   "outputs": [
    {
     "data": {
      "text/html": [
       "<div>\n",
       "<style scoped>\n",
       "    .dataframe tbody tr th:only-of-type {\n",
       "        vertical-align: middle;\n",
       "    }\n",
       "\n",
       "    .dataframe tbody tr th {\n",
       "        vertical-align: top;\n",
       "    }\n",
       "\n",
       "    .dataframe thead th {\n",
       "        text-align: right;\n",
       "    }\n",
       "</style>\n",
       "<table border=\"1\" class=\"dataframe\">\n",
       "  <thead>\n",
       "    <tr style=\"text-align: right;\">\n",
       "      <th></th>\n",
       "      <th>order_id</th>\n",
       "      <th>customer_id</th>\n",
       "      <th>order_status</th>\n",
       "      <th>order_purchase_timestamp</th>\n",
       "      <th>order_approved_at</th>\n",
       "      <th>order_delivered_carrier_date</th>\n",
       "      <th>order_delivered_customer_date</th>\n",
       "      <th>order_estimated_delivery_date</th>\n",
       "      <th>order_item_id</th>\n",
       "      <th>product_id</th>\n",
       "      <th>...</th>\n",
       "      <th>product_width_cm</th>\n",
       "      <th>product_category_name_english</th>\n",
       "      <th>customer_unique_id</th>\n",
       "      <th>customer_zip_code_prefix</th>\n",
       "      <th>customer_city</th>\n",
       "      <th>customer_state</th>\n",
       "      <th>seller_zip_code_prefix</th>\n",
       "      <th>seller_city</th>\n",
       "      <th>seller_state</th>\n",
       "      <th>product_category_name</th>\n",
       "    </tr>\n",
       "  </thead>\n",
       "  <tbody>\n",
       "    <tr>\n",
       "      <th>0</th>\n",
       "      <td>e481f51cbdc54678b7cc49136f2d6af7</td>\n",
       "      <td>9ef432eb6251297304e76186b10a928d</td>\n",
       "      <td>delivered</td>\n",
       "      <td>2021-10-02 10:56:33</td>\n",
       "      <td>2021-10-02 11:07:15</td>\n",
       "      <td>2021-10-04 19:55:00</td>\n",
       "      <td>2021-10-10 21:25:13</td>\n",
       "      <td>2021-10-18</td>\n",
       "      <td>1</td>\n",
       "      <td>87285b34884572647811a353c7ac498a</td>\n",
       "      <td>...</td>\n",
       "      <td>13.0</td>\n",
       "      <td>housewares</td>\n",
       "      <td>7c396fd4830fd04220f754e42b4e5bff</td>\n",
       "      <td>3149</td>\n",
       "      <td>sao paulo</td>\n",
       "      <td>SP</td>\n",
       "      <td>9350</td>\n",
       "      <td>maua</td>\n",
       "      <td>SP</td>\n",
       "      <td>utilidades_domesticas</td>\n",
       "    </tr>\n",
       "    <tr>\n",
       "      <th>1</th>\n",
       "      <td>e481f51cbdc54678b7cc49136f2d6af7</td>\n",
       "      <td>9ef432eb6251297304e76186b10a928d</td>\n",
       "      <td>delivered</td>\n",
       "      <td>2021-10-02 10:56:33</td>\n",
       "      <td>2021-10-02 11:07:15</td>\n",
       "      <td>2021-10-04 19:55:00</td>\n",
       "      <td>2021-10-10 21:25:13</td>\n",
       "      <td>2021-10-18</td>\n",
       "      <td>1</td>\n",
       "      <td>87285b34884572647811a353c7ac498a</td>\n",
       "      <td>...</td>\n",
       "      <td>13.0</td>\n",
       "      <td>housewares</td>\n",
       "      <td>7c396fd4830fd04220f754e42b4e5bff</td>\n",
       "      <td>3149</td>\n",
       "      <td>sao paulo</td>\n",
       "      <td>SP</td>\n",
       "      <td>9350</td>\n",
       "      <td>maua</td>\n",
       "      <td>SP</td>\n",
       "      <td>utilidades_domesticas</td>\n",
       "    </tr>\n",
       "    <tr>\n",
       "      <th>2</th>\n",
       "      <td>e481f51cbdc54678b7cc49136f2d6af7</td>\n",
       "      <td>9ef432eb6251297304e76186b10a928d</td>\n",
       "      <td>delivered</td>\n",
       "      <td>2021-10-02 10:56:33</td>\n",
       "      <td>2021-10-02 11:07:15</td>\n",
       "      <td>2021-10-04 19:55:00</td>\n",
       "      <td>2021-10-10 21:25:13</td>\n",
       "      <td>2021-10-18</td>\n",
       "      <td>1</td>\n",
       "      <td>87285b34884572647811a353c7ac498a</td>\n",
       "      <td>...</td>\n",
       "      <td>13.0</td>\n",
       "      <td>housewares</td>\n",
       "      <td>7c396fd4830fd04220f754e42b4e5bff</td>\n",
       "      <td>3149</td>\n",
       "      <td>sao paulo</td>\n",
       "      <td>SP</td>\n",
       "      <td>9350</td>\n",
       "      <td>maua</td>\n",
       "      <td>SP</td>\n",
       "      <td>utilidades_domesticas</td>\n",
       "    </tr>\n",
       "    <tr>\n",
       "      <th>3</th>\n",
       "      <td>128e10d95713541c87cd1a2e48201934</td>\n",
       "      <td>a20e8105f23924cd00833fd87daa0831</td>\n",
       "      <td>delivered</td>\n",
       "      <td>2021-08-15 18:29:31</td>\n",
       "      <td>2021-08-15 20:05:16</td>\n",
       "      <td>2021-08-17 15:28:33</td>\n",
       "      <td>2021-08-18 14:44:43</td>\n",
       "      <td>2021-08-28</td>\n",
       "      <td>1</td>\n",
       "      <td>87285b34884572647811a353c7ac498a</td>\n",
       "      <td>...</td>\n",
       "      <td>13.0</td>\n",
       "      <td>housewares</td>\n",
       "      <td>3a51803cc0d012c3b5dc8b7528cb05f7</td>\n",
       "      <td>3366</td>\n",
       "      <td>sao paulo</td>\n",
       "      <td>SP</td>\n",
       "      <td>9350</td>\n",
       "      <td>maua</td>\n",
       "      <td>SP</td>\n",
       "      <td>utilidades_domesticas</td>\n",
       "    </tr>\n",
       "    <tr>\n",
       "      <th>4</th>\n",
       "      <td>0e7e841ddf8f8f2de2bad69267ecfbcf</td>\n",
       "      <td>26c7ac168e1433912a51b924fbd34d34</td>\n",
       "      <td>delivered</td>\n",
       "      <td>2021-08-02 18:24:47</td>\n",
       "      <td>2021-08-02 18:43:15</td>\n",
       "      <td>2021-08-04 17:35:43</td>\n",
       "      <td>2021-08-07 18:30:01</td>\n",
       "      <td>2021-08-15</td>\n",
       "      <td>1</td>\n",
       "      <td>87285b34884572647811a353c7ac498a</td>\n",
       "      <td>...</td>\n",
       "      <td>13.0</td>\n",
       "      <td>housewares</td>\n",
       "      <td>ef0996a1a279c26e7ecbd737be23d235</td>\n",
       "      <td>2290</td>\n",
       "      <td>sao paulo</td>\n",
       "      <td>SP</td>\n",
       "      <td>9350</td>\n",
       "      <td>maua</td>\n",
       "      <td>SP</td>\n",
       "      <td>utilidades_domesticas</td>\n",
       "    </tr>\n",
       "    <tr>\n",
       "      <th>5</th>\n",
       "      <td>bfc39df4f36c3693ff3b63fcbea9e90a</td>\n",
       "      <td>53904ddbea91e1e92b2b3f1d09a7af86</td>\n",
       "      <td>delivered</td>\n",
       "      <td>2021-10-23 23:26:46</td>\n",
       "      <td>2021-10-25 02:14:11</td>\n",
       "      <td>2021-10-27 16:48:46</td>\n",
       "      <td>2021-11-07 18:04:59</td>\n",
       "      <td>2021-11-13</td>\n",
       "      <td>1</td>\n",
       "      <td>87285b34884572647811a353c7ac498a</td>\n",
       "      <td>...</td>\n",
       "      <td>13.0</td>\n",
       "      <td>housewares</td>\n",
       "      <td>e781fdcc107d13d865fc7698711cc572</td>\n",
       "      <td>88032</td>\n",
       "      <td>florianopolis</td>\n",
       "      <td>SC</td>\n",
       "      <td>9350</td>\n",
       "      <td>maua</td>\n",
       "      <td>SP</td>\n",
       "      <td>utilidades_domesticas</td>\n",
       "    </tr>\n",
       "    <tr>\n",
       "      <th>6</th>\n",
       "      <td>8736140c61ea584cb4250074756d8f3b</td>\n",
       "      <td>ab8844663ae049fda8baf15fc928f47f</td>\n",
       "      <td>delivered</td>\n",
       "      <td>2021-08-10 13:35:55</td>\n",
       "      <td>2021-08-10 13:50:09</td>\n",
       "      <td>2021-08-11 13:52:35</td>\n",
       "      <td>2021-08-16 19:03:36</td>\n",
       "      <td>2021-08-23</td>\n",
       "      <td>1</td>\n",
       "      <td>b00a32a0b42fd65efb58a5822009f629</td>\n",
       "      <td>...</td>\n",
       "      <td>15.0</td>\n",
       "      <td>baby</td>\n",
       "      <td>02c9e0c05a817d4562ec0e8c90f29dba</td>\n",
       "      <td>8577</td>\n",
       "      <td>itaquaquecetuba</td>\n",
       "      <td>SP</td>\n",
       "      <td>9350</td>\n",
       "      <td>maua</td>\n",
       "      <td>SP</td>\n",
       "      <td>bebes</td>\n",
       "    </tr>\n",
       "    <tr>\n",
       "      <th>7</th>\n",
       "      <td>88407c8c6e12493ff6e845df39540112</td>\n",
       "      <td>e902cb9d9992a69a267f69dec57aa3a3</td>\n",
       "      <td>delivered</td>\n",
       "      <td>2021-08-15 02:03:01</td>\n",
       "      <td>2021-08-15 02:15:13</td>\n",
       "      <td>2021-08-16 15:52:29</td>\n",
       "      <td>2021-08-25 21:59:26</td>\n",
       "      <td>2021-08-28</td>\n",
       "      <td>1</td>\n",
       "      <td>b00a32a0b42fd65efb58a5822009f629</td>\n",
       "      <td>...</td>\n",
       "      <td>15.0</td>\n",
       "      <td>baby</td>\n",
       "      <td>28adbfbaf0b9c5e5a0555a8c853a7534</td>\n",
       "      <td>13060</td>\n",
       "      <td>campinas</td>\n",
       "      <td>SP</td>\n",
       "      <td>9350</td>\n",
       "      <td>maua</td>\n",
       "      <td>SP</td>\n",
       "      <td>bebes</td>\n",
       "    </tr>\n",
       "    <tr>\n",
       "      <th>8</th>\n",
       "      <td>4f2acff0b7d2bcc4a408abe5a223d407</td>\n",
       "      <td>d67b6cca5a87299f711a6961f579fe67</td>\n",
       "      <td>delivered</td>\n",
       "      <td>2021-08-01 16:31:35</td>\n",
       "      <td>2021-08-02 02:50:25</td>\n",
       "      <td>2021-08-03 14:36:34</td>\n",
       "      <td>2021-08-09 19:56:50</td>\n",
       "      <td>2021-08-23</td>\n",
       "      <td>1</td>\n",
       "      <td>b00a32a0b42fd65efb58a5822009f629</td>\n",
       "      <td>...</td>\n",
       "      <td>15.0</td>\n",
       "      <td>baby</td>\n",
       "      <td>aea90564d6f09ae11bf936f55ed49d72</td>\n",
       "      <td>82030</td>\n",
       "      <td>curitiba</td>\n",
       "      <td>PR</td>\n",
       "      <td>9350</td>\n",
       "      <td>maua</td>\n",
       "      <td>SP</td>\n",
       "      <td>bebes</td>\n",
       "    </tr>\n",
       "    <tr>\n",
       "      <th>9</th>\n",
       "      <td>019aaee09698daf81dcffe9d94a18b5c</td>\n",
       "      <td>e3893e579755de4feb1a4d0313c103fa</td>\n",
       "      <td>delivered</td>\n",
       "      <td>2021-08-10 14:04:58</td>\n",
       "      <td>2021-08-10 14:23:38</td>\n",
       "      <td>2021-08-11 13:52:35</td>\n",
       "      <td>2021-08-12 11:56:49</td>\n",
       "      <td>2021-08-23</td>\n",
       "      <td>1</td>\n",
       "      <td>b00a32a0b42fd65efb58a5822009f629</td>\n",
       "      <td>...</td>\n",
       "      <td>15.0</td>\n",
       "      <td>baby</td>\n",
       "      <td>cd6b577df45c00daa6b2767eaa947c72</td>\n",
       "      <td>13092</td>\n",
       "      <td>campinas</td>\n",
       "      <td>SP</td>\n",
       "      <td>9350</td>\n",
       "      <td>maua</td>\n",
       "      <td>SP</td>\n",
       "      <td>bebes</td>\n",
       "    </tr>\n",
       "    <tr>\n",
       "      <th>10</th>\n",
       "      <td>e37531db8933bdce0f86e9dc3768759e</td>\n",
       "      <td>74380820e581b5e8585abc1b5e11c079</td>\n",
       "      <td>delivered</td>\n",
       "      <td>2021-08-07 21:48:23</td>\n",
       "      <td>2021-08-07 22:25:11</td>\n",
       "      <td>2021-08-08 13:00:00</td>\n",
       "      <td>2021-08-16 11:42:26</td>\n",
       "      <td>2021-08-29</td>\n",
       "      <td>1</td>\n",
       "      <td>b00a32a0b42fd65efb58a5822009f629</td>\n",
       "      <td>...</td>\n",
       "      <td>15.0</td>\n",
       "      <td>baby</td>\n",
       "      <td>11f61cff2e9a4f0dc6fbbe30faa54b18</td>\n",
       "      <td>21340</td>\n",
       "      <td>rio de janeiro</td>\n",
       "      <td>RJ</td>\n",
       "      <td>9350</td>\n",
       "      <td>maua</td>\n",
       "      <td>SP</td>\n",
       "      <td>bebes</td>\n",
       "    </tr>\n",
       "    <tr>\n",
       "      <th>11</th>\n",
       "      <td>e3cc61bbc1cfe072879400a8d82f10a2</td>\n",
       "      <td>5c9693cb2eeae30839b78d80d5239676</td>\n",
       "      <td>processing</td>\n",
       "      <td>2021-07-25 10:10:36</td>\n",
       "      <td>2021-07-26 02:23:46</td>\n",
       "      <td>NaT</td>\n",
       "      <td>NaT</td>\n",
       "      <td>2021-08-14</td>\n",
       "      <td>1</td>\n",
       "      <td>b00a32a0b42fd65efb58a5822009f629</td>\n",
       "      <td>...</td>\n",
       "      <td>15.0</td>\n",
       "      <td>baby</td>\n",
       "      <td>8cafc4a24a917c4a9084b763a82baf66</td>\n",
       "      <td>14270</td>\n",
       "      <td>santa rosa de viterbo</td>\n",
       "      <td>SP</td>\n",
       "      <td>9350</td>\n",
       "      <td>maua</td>\n",
       "      <td>SP</td>\n",
       "      <td>bebes</td>\n",
       "    </tr>\n",
       "    <tr>\n",
       "      <th>12</th>\n",
       "      <td>e3cc61bbc1cfe072879400a8d82f10a2</td>\n",
       "      <td>5c9693cb2eeae30839b78d80d5239676</td>\n",
       "      <td>processing</td>\n",
       "      <td>2021-07-25 10:10:36</td>\n",
       "      <td>2021-07-26 02:23:46</td>\n",
       "      <td>NaT</td>\n",
       "      <td>NaT</td>\n",
       "      <td>2021-08-14</td>\n",
       "      <td>2</td>\n",
       "      <td>b00a32a0b42fd65efb58a5822009f629</td>\n",
       "      <td>...</td>\n",
       "      <td>15.0</td>\n",
       "      <td>baby</td>\n",
       "      <td>8cafc4a24a917c4a9084b763a82baf66</td>\n",
       "      <td>14270</td>\n",
       "      <td>santa rosa de viterbo</td>\n",
       "      <td>SP</td>\n",
       "      <td>9350</td>\n",
       "      <td>maua</td>\n",
       "      <td>SP</td>\n",
       "      <td>bebes</td>\n",
       "    </tr>\n",
       "    <tr>\n",
       "      <th>13</th>\n",
       "      <td>234e664f4418bb97ea8f387244a9538f</td>\n",
       "      <td>98e164b3750e0b9e0eddb3612fb8d617</td>\n",
       "      <td>delivered</td>\n",
       "      <td>2021-05-22 12:59:04</td>\n",
       "      <td>2021-05-22 13:15:12</td>\n",
       "      <td>2021-05-24 09:34:25</td>\n",
       "      <td>2021-05-26 14:41:35</td>\n",
       "      <td>2021-06-02</td>\n",
       "      <td>1</td>\n",
       "      <td>b00a32a0b42fd65efb58a5822009f629</td>\n",
       "      <td>...</td>\n",
       "      <td>15.0</td>\n",
       "      <td>baby</td>\n",
       "      <td>de166e0e5846bcc902deba22ef24bd77</td>\n",
       "      <td>4757</td>\n",
       "      <td>sao paulo</td>\n",
       "      <td>SP</td>\n",
       "      <td>9350</td>\n",
       "      <td>maua</td>\n",
       "      <td>SP</td>\n",
       "      <td>bebes</td>\n",
       "    </tr>\n",
       "    <tr>\n",
       "      <th>14</th>\n",
       "      <td>fd54e2afe76bb472b26d47b2aea174d5</td>\n",
       "      <td>ce3e4ad9d1fd077a56f53f547205b1a7</td>\n",
       "      <td>delivered</td>\n",
       "      <td>2021-07-13 09:42:36</td>\n",
       "      <td>2021-07-13 09:55:23</td>\n",
       "      <td>2021-07-14 16:25:52</td>\n",
       "      <td>2021-07-17 18:17:52</td>\n",
       "      <td>2021-08-04</td>\n",
       "      <td>1</td>\n",
       "      <td>b00a32a0b42fd65efb58a5822009f629</td>\n",
       "      <td>...</td>\n",
       "      <td>15.0</td>\n",
       "      <td>baby</td>\n",
       "      <td>3788240ca725fbd60d785d4b888b8adb</td>\n",
       "      <td>83602</td>\n",
       "      <td>campo largo</td>\n",
       "      <td>PR</td>\n",
       "      <td>9350</td>\n",
       "      <td>maua</td>\n",
       "      <td>SP</td>\n",
       "      <td>bebes</td>\n",
       "    </tr>\n",
       "    <tr>\n",
       "      <th>15</th>\n",
       "      <td>3a93b4a83b7cfce5720745425c43a856</td>\n",
       "      <td>53859b5bd7c22aaae15b7482acfa1bc8</td>\n",
       "      <td>delivered</td>\n",
       "      <td>2021-07-10 10:51:01</td>\n",
       "      <td>2021-07-12 02:24:58</td>\n",
       "      <td>2021-07-14 16:37:56</td>\n",
       "      <td>2021-07-18 16:52:28</td>\n",
       "      <td>2021-07-25</td>\n",
       "      <td>1</td>\n",
       "      <td>b00a32a0b42fd65efb58a5822009f629</td>\n",
       "      <td>...</td>\n",
       "      <td>15.0</td>\n",
       "      <td>baby</td>\n",
       "      <td>d9e383531c1acbe6239248fcd5045f92</td>\n",
       "      <td>18090</td>\n",
       "      <td>sorocaba</td>\n",
       "      <td>SP</td>\n",
       "      <td>9350</td>\n",
       "      <td>maua</td>\n",
       "      <td>SP</td>\n",
       "      <td>bebes</td>\n",
       "    </tr>\n",
       "    <tr>\n",
       "      <th>16</th>\n",
       "      <td>c8b8a114e6f6e79082614222a75d0353</td>\n",
       "      <td>53b13fa2d20d9011a49a2751c95433a9</td>\n",
       "      <td>delivered</td>\n",
       "      <td>2021-06-01 12:46:06</td>\n",
       "      <td>2021-06-03 02:22:41</td>\n",
       "      <td>2021-06-06 13:48:00</td>\n",
       "      <td>2021-06-13 09:17:45</td>\n",
       "      <td>2021-06-22</td>\n",
       "      <td>1</td>\n",
       "      <td>b00a32a0b42fd65efb58a5822009f629</td>\n",
       "      <td>...</td>\n",
       "      <td>15.0</td>\n",
       "      <td>baby</td>\n",
       "      <td>61439e840fe1e7216ada4f256239967c</td>\n",
       "      <td>18125</td>\n",
       "      <td>aluminio</td>\n",
       "      <td>SP</td>\n",
       "      <td>9350</td>\n",
       "      <td>maua</td>\n",
       "      <td>SP</td>\n",
       "      <td>bebes</td>\n",
       "    </tr>\n",
       "    <tr>\n",
       "      <th>17</th>\n",
       "      <td>a0151737f2f0c6c0a5fd69d45f66ceea</td>\n",
       "      <td>fc2697314ab7fbeda62bb6f1afa4efcd</td>\n",
       "      <td>delivered</td>\n",
       "      <td>2021-07-12 14:11:58</td>\n",
       "      <td>2021-07-12 14:30:18</td>\n",
       "      <td>2021-07-13 12:47:05</td>\n",
       "      <td>2021-07-18 16:24:42</td>\n",
       "      <td>2021-07-25</td>\n",
       "      <td>1</td>\n",
       "      <td>725cbfcaff95a4d43742fdf13cf43c75</td>\n",
       "      <td>...</td>\n",
       "      <td>34.0</td>\n",
       "      <td>cool_stuff</td>\n",
       "      <td>bdd30e6e39cc70dde8665187b57af402</td>\n",
       "      <td>13820</td>\n",
       "      <td>jaguariuna</td>\n",
       "      <td>SP</td>\n",
       "      <td>9350</td>\n",
       "      <td>maua</td>\n",
       "      <td>SP</td>\n",
       "      <td>cool_stuff</td>\n",
       "    </tr>\n",
       "    <tr>\n",
       "      <th>18</th>\n",
       "      <td>a3bf941183211246f0d42ad757cba127</td>\n",
       "      <td>3718e1873d5dc3e8d96c0ab783278b02</td>\n",
       "      <td>delivered</td>\n",
       "      <td>2021-07-24 22:16:25</td>\n",
       "      <td>2021-07-25 22:25:11</td>\n",
       "      <td>2021-07-26 14:57:42</td>\n",
       "      <td>2021-07-28 19:06:46</td>\n",
       "      <td>2021-08-04</td>\n",
       "      <td>1</td>\n",
       "      <td>725cbfcaff95a4d43742fdf13cf43c75</td>\n",
       "      <td>...</td>\n",
       "      <td>34.0</td>\n",
       "      <td>cool_stuff</td>\n",
       "      <td>1bcb517dc3cc80868d2fa941174f386c</td>\n",
       "      <td>6298</td>\n",
       "      <td>osasco</td>\n",
       "      <td>SP</td>\n",
       "      <td>9350</td>\n",
       "      <td>maua</td>\n",
       "      <td>SP</td>\n",
       "      <td>cool_stuff</td>\n",
       "    </tr>\n",
       "    <tr>\n",
       "      <th>19</th>\n",
       "      <td>e8f1a30189522698bfce82adf60472e7</td>\n",
       "      <td>945080eedd200e670d94e8b707422871</td>\n",
       "      <td>delivered</td>\n",
       "      <td>2021-07-05 11:58:33</td>\n",
       "      <td>2021-07-05 17:38:31</td>\n",
       "      <td>2021-07-06 11:04:07</td>\n",
       "      <td>2021-07-07 20:44:41</td>\n",
       "      <td>2021-07-18</td>\n",
       "      <td>1</td>\n",
       "      <td>725cbfcaff95a4d43742fdf13cf43c75</td>\n",
       "      <td>...</td>\n",
       "      <td>34.0</td>\n",
       "      <td>cool_stuff</td>\n",
       "      <td>0e78d5d8e92c4454512d545b10be8585</td>\n",
       "      <td>13211</td>\n",
       "      <td>jundiai</td>\n",
       "      <td>SP</td>\n",
       "      <td>9350</td>\n",
       "      <td>maua</td>\n",
       "      <td>SP</td>\n",
       "      <td>cool_stuff</td>\n",
       "    </tr>\n",
       "  </tbody>\n",
       "</table>\n",
       "<p>20 rows × 40 columns</p>\n",
       "</div>"
      ],
      "text/plain": [
       "                            order_id                       customer_id  \\\n",
       "0   e481f51cbdc54678b7cc49136f2d6af7  9ef432eb6251297304e76186b10a928d   \n",
       "1   e481f51cbdc54678b7cc49136f2d6af7  9ef432eb6251297304e76186b10a928d   \n",
       "2   e481f51cbdc54678b7cc49136f2d6af7  9ef432eb6251297304e76186b10a928d   \n",
       "3   128e10d95713541c87cd1a2e48201934  a20e8105f23924cd00833fd87daa0831   \n",
       "4   0e7e841ddf8f8f2de2bad69267ecfbcf  26c7ac168e1433912a51b924fbd34d34   \n",
       "5   bfc39df4f36c3693ff3b63fcbea9e90a  53904ddbea91e1e92b2b3f1d09a7af86   \n",
       "6   8736140c61ea584cb4250074756d8f3b  ab8844663ae049fda8baf15fc928f47f   \n",
       "7   88407c8c6e12493ff6e845df39540112  e902cb9d9992a69a267f69dec57aa3a3   \n",
       "8   4f2acff0b7d2bcc4a408abe5a223d407  d67b6cca5a87299f711a6961f579fe67   \n",
       "9   019aaee09698daf81dcffe9d94a18b5c  e3893e579755de4feb1a4d0313c103fa   \n",
       "10  e37531db8933bdce0f86e9dc3768759e  74380820e581b5e8585abc1b5e11c079   \n",
       "11  e3cc61bbc1cfe072879400a8d82f10a2  5c9693cb2eeae30839b78d80d5239676   \n",
       "12  e3cc61bbc1cfe072879400a8d82f10a2  5c9693cb2eeae30839b78d80d5239676   \n",
       "13  234e664f4418bb97ea8f387244a9538f  98e164b3750e0b9e0eddb3612fb8d617   \n",
       "14  fd54e2afe76bb472b26d47b2aea174d5  ce3e4ad9d1fd077a56f53f547205b1a7   \n",
       "15  3a93b4a83b7cfce5720745425c43a856  53859b5bd7c22aaae15b7482acfa1bc8   \n",
       "16  c8b8a114e6f6e79082614222a75d0353  53b13fa2d20d9011a49a2751c95433a9   \n",
       "17  a0151737f2f0c6c0a5fd69d45f66ceea  fc2697314ab7fbeda62bb6f1afa4efcd   \n",
       "18  a3bf941183211246f0d42ad757cba127  3718e1873d5dc3e8d96c0ab783278b02   \n",
       "19  e8f1a30189522698bfce82adf60472e7  945080eedd200e670d94e8b707422871   \n",
       "\n",
       "   order_status order_purchase_timestamp   order_approved_at  \\\n",
       "0     delivered      2021-10-02 10:56:33 2021-10-02 11:07:15   \n",
       "1     delivered      2021-10-02 10:56:33 2021-10-02 11:07:15   \n",
       "2     delivered      2021-10-02 10:56:33 2021-10-02 11:07:15   \n",
       "3     delivered      2021-08-15 18:29:31 2021-08-15 20:05:16   \n",
       "4     delivered      2021-08-02 18:24:47 2021-08-02 18:43:15   \n",
       "5     delivered      2021-10-23 23:26:46 2021-10-25 02:14:11   \n",
       "6     delivered      2021-08-10 13:35:55 2021-08-10 13:50:09   \n",
       "7     delivered      2021-08-15 02:03:01 2021-08-15 02:15:13   \n",
       "8     delivered      2021-08-01 16:31:35 2021-08-02 02:50:25   \n",
       "9     delivered      2021-08-10 14:04:58 2021-08-10 14:23:38   \n",
       "10    delivered      2021-08-07 21:48:23 2021-08-07 22:25:11   \n",
       "11   processing      2021-07-25 10:10:36 2021-07-26 02:23:46   \n",
       "12   processing      2021-07-25 10:10:36 2021-07-26 02:23:46   \n",
       "13    delivered      2021-05-22 12:59:04 2021-05-22 13:15:12   \n",
       "14    delivered      2021-07-13 09:42:36 2021-07-13 09:55:23   \n",
       "15    delivered      2021-07-10 10:51:01 2021-07-12 02:24:58   \n",
       "16    delivered      2021-06-01 12:46:06 2021-06-03 02:22:41   \n",
       "17    delivered      2021-07-12 14:11:58 2021-07-12 14:30:18   \n",
       "18    delivered      2021-07-24 22:16:25 2021-07-25 22:25:11   \n",
       "19    delivered      2021-07-05 11:58:33 2021-07-05 17:38:31   \n",
       "\n",
       "   order_delivered_carrier_date order_delivered_customer_date  \\\n",
       "0           2021-10-04 19:55:00           2021-10-10 21:25:13   \n",
       "1           2021-10-04 19:55:00           2021-10-10 21:25:13   \n",
       "2           2021-10-04 19:55:00           2021-10-10 21:25:13   \n",
       "3           2021-08-17 15:28:33           2021-08-18 14:44:43   \n",
       "4           2021-08-04 17:35:43           2021-08-07 18:30:01   \n",
       "5           2021-10-27 16:48:46           2021-11-07 18:04:59   \n",
       "6           2021-08-11 13:52:35           2021-08-16 19:03:36   \n",
       "7           2021-08-16 15:52:29           2021-08-25 21:59:26   \n",
       "8           2021-08-03 14:36:34           2021-08-09 19:56:50   \n",
       "9           2021-08-11 13:52:35           2021-08-12 11:56:49   \n",
       "10          2021-08-08 13:00:00           2021-08-16 11:42:26   \n",
       "11                          NaT                           NaT   \n",
       "12                          NaT                           NaT   \n",
       "13          2021-05-24 09:34:25           2021-05-26 14:41:35   \n",
       "14          2021-07-14 16:25:52           2021-07-17 18:17:52   \n",
       "15          2021-07-14 16:37:56           2021-07-18 16:52:28   \n",
       "16          2021-06-06 13:48:00           2021-06-13 09:17:45   \n",
       "17          2021-07-13 12:47:05           2021-07-18 16:24:42   \n",
       "18          2021-07-26 14:57:42           2021-07-28 19:06:46   \n",
       "19          2021-07-06 11:04:07           2021-07-07 20:44:41   \n",
       "\n",
       "   order_estimated_delivery_date  order_item_id  \\\n",
       "0                     2021-10-18              1   \n",
       "1                     2021-10-18              1   \n",
       "2                     2021-10-18              1   \n",
       "3                     2021-08-28              1   \n",
       "4                     2021-08-15              1   \n",
       "5                     2021-11-13              1   \n",
       "6                     2021-08-23              1   \n",
       "7                     2021-08-28              1   \n",
       "8                     2021-08-23              1   \n",
       "9                     2021-08-23              1   \n",
       "10                    2021-08-29              1   \n",
       "11                    2021-08-14              1   \n",
       "12                    2021-08-14              2   \n",
       "13                    2021-06-02              1   \n",
       "14                    2021-08-04              1   \n",
       "15                    2021-07-25              1   \n",
       "16                    2021-06-22              1   \n",
       "17                    2021-07-25              1   \n",
       "18                    2021-08-04              1   \n",
       "19                    2021-07-18              1   \n",
       "\n",
       "                          product_id  ... product_width_cm  \\\n",
       "0   87285b34884572647811a353c7ac498a  ...             13.0   \n",
       "1   87285b34884572647811a353c7ac498a  ...             13.0   \n",
       "2   87285b34884572647811a353c7ac498a  ...             13.0   \n",
       "3   87285b34884572647811a353c7ac498a  ...             13.0   \n",
       "4   87285b34884572647811a353c7ac498a  ...             13.0   \n",
       "5   87285b34884572647811a353c7ac498a  ...             13.0   \n",
       "6   b00a32a0b42fd65efb58a5822009f629  ...             15.0   \n",
       "7   b00a32a0b42fd65efb58a5822009f629  ...             15.0   \n",
       "8   b00a32a0b42fd65efb58a5822009f629  ...             15.0   \n",
       "9   b00a32a0b42fd65efb58a5822009f629  ...             15.0   \n",
       "10  b00a32a0b42fd65efb58a5822009f629  ...             15.0   \n",
       "11  b00a32a0b42fd65efb58a5822009f629  ...             15.0   \n",
       "12  b00a32a0b42fd65efb58a5822009f629  ...             15.0   \n",
       "13  b00a32a0b42fd65efb58a5822009f629  ...             15.0   \n",
       "14  b00a32a0b42fd65efb58a5822009f629  ...             15.0   \n",
       "15  b00a32a0b42fd65efb58a5822009f629  ...             15.0   \n",
       "16  b00a32a0b42fd65efb58a5822009f629  ...             15.0   \n",
       "17  725cbfcaff95a4d43742fdf13cf43c75  ...             34.0   \n",
       "18  725cbfcaff95a4d43742fdf13cf43c75  ...             34.0   \n",
       "19  725cbfcaff95a4d43742fdf13cf43c75  ...             34.0   \n",
       "\n",
       "   product_category_name_english                customer_unique_id  \\\n",
       "0                     housewares  7c396fd4830fd04220f754e42b4e5bff   \n",
       "1                     housewares  7c396fd4830fd04220f754e42b4e5bff   \n",
       "2                     housewares  7c396fd4830fd04220f754e42b4e5bff   \n",
       "3                     housewares  3a51803cc0d012c3b5dc8b7528cb05f7   \n",
       "4                     housewares  ef0996a1a279c26e7ecbd737be23d235   \n",
       "5                     housewares  e781fdcc107d13d865fc7698711cc572   \n",
       "6                           baby  02c9e0c05a817d4562ec0e8c90f29dba   \n",
       "7                           baby  28adbfbaf0b9c5e5a0555a8c853a7534   \n",
       "8                           baby  aea90564d6f09ae11bf936f55ed49d72   \n",
       "9                           baby  cd6b577df45c00daa6b2767eaa947c72   \n",
       "10                          baby  11f61cff2e9a4f0dc6fbbe30faa54b18   \n",
       "11                          baby  8cafc4a24a917c4a9084b763a82baf66   \n",
       "12                          baby  8cafc4a24a917c4a9084b763a82baf66   \n",
       "13                          baby  de166e0e5846bcc902deba22ef24bd77   \n",
       "14                          baby  3788240ca725fbd60d785d4b888b8adb   \n",
       "15                          baby  d9e383531c1acbe6239248fcd5045f92   \n",
       "16                          baby  61439e840fe1e7216ada4f256239967c   \n",
       "17                    cool_stuff  bdd30e6e39cc70dde8665187b57af402   \n",
       "18                    cool_stuff  1bcb517dc3cc80868d2fa941174f386c   \n",
       "19                    cool_stuff  0e78d5d8e92c4454512d545b10be8585   \n",
       "\n",
       "    customer_zip_code_prefix          customer_city customer_state  \\\n",
       "0                       3149              sao paulo             SP   \n",
       "1                       3149              sao paulo             SP   \n",
       "2                       3149              sao paulo             SP   \n",
       "3                       3366              sao paulo             SP   \n",
       "4                       2290              sao paulo             SP   \n",
       "5                      88032          florianopolis             SC   \n",
       "6                       8577        itaquaquecetuba             SP   \n",
       "7                      13060               campinas             SP   \n",
       "8                      82030               curitiba             PR   \n",
       "9                      13092               campinas             SP   \n",
       "10                     21340         rio de janeiro             RJ   \n",
       "11                     14270  santa rosa de viterbo             SP   \n",
       "12                     14270  santa rosa de viterbo             SP   \n",
       "13                      4757              sao paulo             SP   \n",
       "14                     83602            campo largo             PR   \n",
       "15                     18090               sorocaba             SP   \n",
       "16                     18125               aluminio             SP   \n",
       "17                     13820             jaguariuna             SP   \n",
       "18                      6298                 osasco             SP   \n",
       "19                     13211                jundiai             SP   \n",
       "\n",
       "    seller_zip_code_prefix  seller_city seller_state  product_category_name  \n",
       "0                     9350         maua           SP  utilidades_domesticas  \n",
       "1                     9350         maua           SP  utilidades_domesticas  \n",
       "2                     9350         maua           SP  utilidades_domesticas  \n",
       "3                     9350         maua           SP  utilidades_domesticas  \n",
       "4                     9350         maua           SP  utilidades_domesticas  \n",
       "5                     9350         maua           SP  utilidades_domesticas  \n",
       "6                     9350         maua           SP                  bebes  \n",
       "7                     9350         maua           SP                  bebes  \n",
       "8                     9350         maua           SP                  bebes  \n",
       "9                     9350         maua           SP                  bebes  \n",
       "10                    9350         maua           SP                  bebes  \n",
       "11                    9350         maua           SP                  bebes  \n",
       "12                    9350         maua           SP                  bebes  \n",
       "13                    9350         maua           SP                  bebes  \n",
       "14                    9350         maua           SP                  bebes  \n",
       "15                    9350         maua           SP                  bebes  \n",
       "16                    9350         maua           SP                  bebes  \n",
       "17                    9350         maua           SP             cool_stuff  \n",
       "18                    9350         maua           SP             cool_stuff  \n",
       "19                    9350         maua           SP             cool_stuff  \n",
       "\n",
       "[20 rows x 40 columns]"
      ]
     },
     "execution_count": 15,
     "metadata": {},
     "output_type": "execute_result"
    }
   ],
   "source": [
    "df.head(20)"
   ]
  },
  {
   "attachments": {},
   "cell_type": "markdown",
   "metadata": {
    "id": "eHqT2KQPM1vp"
   },
   "source": [
    "Vamos olhar como o nosso dataframe está em relação aos seus tipos de variáveis"
   ]
  },
  {
   "cell_type": "code",
   "execution_count": 5,
   "metadata": {},
   "outputs": [
    {
     "name": "stdout",
     "output_type": "stream",
     "text": [
      "<class 'pandas.core.frame.DataFrame'>\n",
      "RangeIndex: 118231 entries, 0 to 118230\n",
      "Data columns (total 40 columns):\n",
      " #   Column                         Non-Null Count   Dtype         \n",
      "---  ------                         --------------   -----         \n",
      " 0   order_id                       118231 non-null  object        \n",
      " 1   customer_id                    118231 non-null  object        \n",
      " 2   order_status                   118231 non-null  object        \n",
      " 3   order_purchase_timestamp       118231 non-null  datetime64[ns]\n",
      " 4   order_approved_at              118216 non-null  datetime64[ns]\n",
      " 5   order_delivered_carrier_date   116977 non-null  datetime64[ns]\n",
      " 6   order_delivered_customer_date  115643 non-null  datetime64[ns]\n",
      " 7   order_estimated_delivery_date  118231 non-null  datetime64[ns]\n",
      " 8   order_item_id                  118231 non-null  int64         \n",
      " 9   product_id                     118231 non-null  object        \n",
      " 10  seller_id                      118231 non-null  object        \n",
      " 11  shipping_limit_date            118231 non-null  object        \n",
      " 12  price                          118231 non-null  float64       \n",
      " 13  freight_value                  118231 non-null  float64       \n",
      " 14  payment_sequential             118228 non-null  float64       \n",
      " 15  payment_type                   118228 non-null  object        \n",
      " 16  payment_installments           118228 non-null  float64       \n",
      " 17  payment_value                  118228 non-null  float64       \n",
      " 18  review_id                      117253 non-null  object        \n",
      " 19  review_score                   117253 non-null  float64       \n",
      " 20  review_comment_title           118229 non-null  object        \n",
      " 21  review_comment_message         118222 non-null  object        \n",
      " 22  review_creation_date           117253 non-null  datetime64[ns]\n",
      " 23  review_answer_timestamp        117253 non-null  datetime64[ns]\n",
      " 24  product_name_lenght            116524 non-null  float64       \n",
      " 25  product_description_lenght     116524 non-null  float64       \n",
      " 26  product_photos_qty             116524 non-null  float64       \n",
      " 27  product_weight_g               118211 non-null  float64       \n",
      " 28  product_length_cm              118211 non-null  float64       \n",
      " 29  product_height_cm              118211 non-null  float64       \n",
      " 30  product_width_cm               118211 non-null  float64       \n",
      " 31  product_category_name_english  116499 non-null  object        \n",
      " 32  customer_unique_id             118231 non-null  object        \n",
      " 33  customer_zip_code_prefix       118231 non-null  int64         \n",
      " 34  customer_city                  118231 non-null  object        \n",
      " 35  customer_state                 118231 non-null  object        \n",
      " 36  seller_zip_code_prefix         118231 non-null  int64         \n",
      " 37  seller_city                    118231 non-null  object        \n",
      " 38  seller_state                   118231 non-null  object        \n",
      " 39  product_category_name          116524 non-null  object        \n",
      "dtypes: datetime64[ns](7), float64(13), int64(3), object(17)\n",
      "memory usage: 36.1+ MB\n"
     ]
    }
   ],
   "source": [
    "df.info()"
   ]
  },
  {
   "attachments": {},
   "cell_type": "markdown",
   "metadata": {
    "id": "q1Ahp_2vgeZ9"
   },
   "source": [
    "Também temos como saber se há valores faltantes em nosso dataframe"
   ]
  },
  {
   "cell_type": "code",
   "execution_count": 6,
   "metadata": {},
   "outputs": [
    {
     "data": {
      "text/plain": [
       "order_id                         False\n",
       "customer_id                      False\n",
       "order_status                     False\n",
       "order_purchase_timestamp         False\n",
       "order_approved_at                 True\n",
       "order_delivered_carrier_date      True\n",
       "order_delivered_customer_date     True\n",
       "order_estimated_delivery_date    False\n",
       "order_item_id                    False\n",
       "product_id                       False\n",
       "seller_id                        False\n",
       "shipping_limit_date              False\n",
       "price                            False\n",
       "freight_value                    False\n",
       "payment_sequential                True\n",
       "payment_type                      True\n",
       "payment_installments              True\n",
       "payment_value                     True\n",
       "review_id                         True\n",
       "review_score                      True\n",
       "review_comment_title              True\n",
       "review_comment_message            True\n",
       "review_creation_date              True\n",
       "review_answer_timestamp           True\n",
       "product_name_lenght               True\n",
       "product_description_lenght        True\n",
       "product_photos_qty                True\n",
       "product_weight_g                  True\n",
       "product_length_cm                 True\n",
       "product_height_cm                 True\n",
       "product_width_cm                  True\n",
       "product_category_name_english     True\n",
       "customer_unique_id               False\n",
       "customer_zip_code_prefix         False\n",
       "customer_city                    False\n",
       "customer_state                   False\n",
       "seller_zip_code_prefix           False\n",
       "seller_city                      False\n",
       "seller_state                     False\n",
       "product_category_name             True\n",
       "dtype: bool"
      ]
     },
     "execution_count": 6,
     "metadata": {},
     "output_type": "execute_result"
    }
   ],
   "source": [
    "df.isna().any()"
   ]
  },
  {
   "attachments": {},
   "cell_type": "markdown",
   "metadata": {
    "id": "70NOez0Th5zb"
   },
   "source": [
    "Uma forma interessante de olhar o nosso dataframe é sempre saber qual o seu formato, quantas linhas e colunas essa \"tabela\" possui"
   ]
  },
  {
   "cell_type": "code",
   "execution_count": 7,
   "metadata": {},
   "outputs": [
    {
     "data": {
      "text/plain": [
       "(118231, 40)"
      ]
     },
     "execution_count": 7,
     "metadata": {},
     "output_type": "execute_result"
    }
   ],
   "source": [
    "df.shape"
   ]
  },
  {
   "attachments": {},
   "cell_type": "markdown",
   "metadata": {
    "id": "gGWfPEwFiEim"
   },
   "source": [
    "### Ponto de Parada - Tuplas\n",
    "\n",
    "Você notou que ao chamar esse atributo - .shape, o código retornou um valor dentro de dois parênteses?\n",
    "\n",
    "Essa estrutura, dentro de parênteses, é chamada de Tupla!"
   ]
  },
  {
   "attachments": {},
   "cell_type": "markdown",
   "metadata": {
    "id": "ia8ECgDBr4Zy"
   },
   "source": [
    "***Tuplas em Python***\n",
    "\n",
    "Em Python, uma tupla é um tipo de dados que é semelhante a uma lista. No entanto, ao contrário das listas, as tuplas são imutáveis, o que significa que, uma vez definidas, não podem ser modificadas ou alteradas. Você pode pensar nas tuplas como sendo \"listas de leitura apenas\".\n",
    "\n",
    "As tuplas são frequentemente usadas para armazenar grupos de dados relacionados. Por exemplo, uma tupla pode armazenar informações sobre uma pessoa, como nome, idade e profissão.\n",
    "\n",
    "Criar uma tupla é tão simples quanto colocar diferentes valores separados por vírgulas. Em Python, as tuplas são definidas colocando os elementos entre parênteses ()."
   ]
  },
  {
   "cell_type": "code",
   "execution_count": 8,
   "metadata": {},
   "outputs": [],
   "source": [
    "informacoes_pessoas = (\"Joao\", 30, \"Engenheiro\")"
   ]
  },
  {
   "cell_type": "code",
   "execution_count": 9,
   "metadata": {},
   "outputs": [
    {
     "name": "stdout",
     "output_type": "stream",
     "text": [
      "('João', 30, 'Engenheiro')\n"
     ]
    }
   ],
   "source": [
    "# Criando uma tupla\n",
    "informacoes_pessoa = (\"João\", 30, \"Engenheiro\")\n",
    "print(informacoes_pessoa)\n"
   ]
  },
  {
   "attachments": {},
   "cell_type": "markdown",
   "metadata": {},
   "source": [
    "Quando executado, o código acima exibirá a seguinte saída: (\"João\", 30, \"Engenheiro\")"
   ]
  },
  {
   "attachments": {},
   "cell_type": "markdown",
   "metadata": {},
   "source": [
    "***Acessando elementos de uma tupla***\n",
    "\n",
    "Assim como as listas, você pode acessar os elementos de uma tupla referenciando o índice dos elementos. Os índices em Python começam em 0 para o primeiro elemento."
   ]
  },
  {
   "cell_type": "code",
   "execution_count": 7,
   "metadata": {
    "id": "nWdy6H-T93f8"
   },
   "outputs": [
    {
     "name": "stdout",
     "output_type": "stream",
     "text": [
      "Nome:  João\n",
      "Idade:  30\n",
      "Profissão:  Engenheiro\n"
     ]
    }
   ],
   "source": [
    "# Acessando elementos de uma tupla\n",
    "nome = informacoes_pessoa[0]\n",
    "idade = informacoes_pessoa[1]\n",
    "profissao = informacoes_pessoa[2]\n",
    "\n",
    "print(\"Nome: \", nome)\n",
    "print(\"Idade: \", idade)\n",
    "print(\"Profissão: \", profissao)\n",
    "\n"
   ]
  },
  {
   "attachments": {},
   "cell_type": "markdown",
   "metadata": {},
   "source": [
    "Note que, se tentarmos modificar um valor em uma tupla, obteremos um erro, pois as tuplas são imutáveis:"
   ]
  },
  {
   "cell_type": "code",
   "execution_count": null,
   "metadata": {},
   "outputs": [],
   "source": [
    "# Tentando modificar um valor de uma tupla\n",
    "#informacoes_pessoa[1] = 31\n"
   ]
  },
  {
   "attachments": {},
   "cell_type": "markdown",
   "metadata": {},
   "source": [
    "Essa é uma característica essencial das tuplas - elas são projetadas para armazenar dados que não devem ser modificados."
   ]
  },
  {
   "attachments": {},
   "cell_type": "markdown",
   "metadata": {},
   "source": [
    "***Por que usar tuplas?***\n",
    "\n",
    "Você pode estar se perguntando: por que usaríamos tuplas se elas são semelhantes às listas, mas não podem ser modificadas? Uma das principais razões é a eficiência: como as tuplas são imutáveis, elas podem ser mais eficientes em termos de memória e desempenho do que as listas quando usadas para dados que não precisam ser alterados. Além disso, o fato de serem imutáveis as torna adequadas para garantir que certos dados permaneçam constantes ao longo da execução de um programa."
   ]
  },
  {
   "cell_type": "code",
   "execution_count": null,
   "metadata": {
    "colab": {
     "base_uri": "https://localhost:8080/"
    },
    "id": "4u2aqTdJqHYK",
    "outputId": "e54db9b0-178b-4a95-be71-2114962f9c26"
   },
   "outputs": [],
   "source": [
    "df.shape[0]"
   ]
  },
  {
   "cell_type": "code",
   "execution_count": null,
   "metadata": {
    "colab": {
     "base_uri": "https://localhost:8080/"
    },
    "id": "Lt-mgQvWqIjp",
    "outputId": "e258a56e-33b0-4a63-83a1-739c56610c04"
   },
   "outputs": [],
   "source": [
    "df.shape[1]"
   ]
  },
  {
   "attachments": {},
   "cell_type": "markdown",
   "metadata": {},
   "source": [
    "### Continuando com nossa Exploração"
   ]
  },
  {
   "attachments": {},
   "cell_type": "markdown",
   "metadata": {
    "id": "Z-htVRLGdoVZ"
   },
   "source": [
    "Podemos também acessar de forma rápida, quais são todas as colunas que o nosso dataframe possui"
   ]
  },
  {
   "cell_type": "code",
   "execution_count": null,
   "metadata": {
    "colab": {
     "base_uri": "https://localhost:8080/"
    },
    "id": "TMMGl0PVqJ5m",
    "outputId": "0f26115c-c466-4429-ee6a-f6b1a0163b15"
   },
   "outputs": [],
   "source": [
    "df.columns"
   ]
  },
  {
   "attachments": {},
   "cell_type": "markdown",
   "metadata": {
    "id": "6iKYM3Ckdvuu"
   },
   "source": [
    "Podemos acessar uma coluna individualmente do nosso dataframe, para isso, usamos a seguinte forma:\n",
    "\n",
    "dataframe['nome_da_coluna']\n",
    "\n",
    "Atente para que o nome da coluna esteja entre aspas simples ou aspas duplas"
   ]
  },
  {
   "cell_type": "code",
   "execution_count": null,
   "metadata": {},
   "outputs": [],
   "source": [
    "df['order_id']"
   ]
  },
  {
   "cell_type": "code",
   "execution_count": null,
   "metadata": {},
   "outputs": [],
   "source": [
    "df['review_comment_message', 'order_id']"
   ]
  },
  {
   "attachments": {},
   "cell_type": "markdown",
   "metadata": {
    "id": "iLE_AfRqd8VH"
   },
   "source": [
    "Podemos acessar mais de uma coluna também. Seguimos a mesma forma, exceto que colocamos dois colchetes:\n",
    "\n",
    "dataframe[['coluna_1', 'coluna_2']]"
   ]
  },
  {
   "cell_type": "code",
   "execution_count": null,
   "metadata": {},
   "outputs": [],
   "source": [
    "df[['review_comment_message', 'order_id']]"
   ]
  },
  {
   "cell_type": "code",
   "execution_count": null,
   "metadata": {},
   "outputs": [],
   "source": [
    "df[['customer_unique_id','customer_zip_code_prefix', 'customer_city']]"
   ]
  },
  {
   "cell_type": "code",
   "execution_count": null,
   "metadata": {},
   "outputs": [],
   "source": [
    "dados_clientes = df[['customer_unique_id','customer_zip_code_prefix', 'customer_city']]"
   ]
  },
  {
   "cell_type": "code",
   "execution_count": null,
   "metadata": {},
   "outputs": [],
   "source": [
    "dados_clientes"
   ]
  },
  {
   "cell_type": "code",
   "execution_count": null,
   "metadata": {},
   "outputs": [],
   "source": [
    "dados_clientes.to_excel('../data/tratado/dados_clientes.xlsx')"
   ]
  },
  {
   "attachments": {},
   "cell_type": "markdown",
   "metadata": {},
   "source": [
    "#### Dica Master Blaster Top de Todas\n",
    "\n",
    "Você sabia que pode criar diretamente uma pasta em qualquer lugar do seu computador, usando código?\n",
    "\n",
    "Se liga na dica ;)"
   ]
  },
  {
   "attachments": {},
   "cell_type": "markdown",
   "metadata": {},
   "source": [
    "Para criar uma pasta diretamente no Jupyter Notebook, você pode utilizar a biblioteca os do Python.\n",
    "\n",
    "Aqui está um exemplo de como criar uma pasta usando o Jupyter Notebook:"
   ]
  },
  {
   "cell_type": "code",
   "execution_count": 9,
   "metadata": {},
   "outputs": [
    {
     "name": "stdout",
     "output_type": "stream",
     "text": [
      "Pasta criada com sucesso!\n"
     ]
    }
   ],
   "source": [
    "import os\n",
    "\n",
    "nome_pasta = \"../data/arquivos\"\n",
    "\n",
    "if not os.path.exists(nome_pasta):\n",
    "    os.makedirs(nome_pasta)\n",
    "    print(\"Pasta criada com sucesso!\")\n",
    "else:\n",
    "    print(\"A pasta já existe!\")"
   ]
  },
  {
   "attachments": {},
   "cell_type": "markdown",
   "metadata": {},
   "source": [
    "Ao executar esse código, uma nova pasta chamada \"nova_pasta\" será criada no mesmo diretório em que o notebook está localizado. Se a pasta já existir, uma mensagem será exibida informando que a pasta já existe.\n",
    "\n",
    "E para criar em outro diretório?\n",
    "\n",
    "É simples, adicine o caminho diretamente na variável 'nova_pasta'"
   ]
  },
  {
   "attachments": {},
   "cell_type": "markdown",
   "metadata": {},
   "source": [
    "Vimos usando a função info() que temos alguns dados que estão em um formato diferente do que deveriam"
   ]
  },
  {
   "cell_type": "code",
   "execution_count": null,
   "metadata": {},
   "outputs": [],
   "source": [
    "df.info()"
   ]
  },
  {
   "attachments": {},
   "cell_type": "markdown",
   "metadata": {},
   "source": [
    "Vemos aqui que a coluna ***order_purchase_timestamp*** está com o tipo Object - ou seja, ela é um tipo de texto, quando deveria ser do tipo datetime, ou seja, uma variável que indica uma data.\n",
    "\n",
    "Como podemos alterar isso?"
   ]
  },
  {
   "cell_type": "code",
   "execution_count": null,
   "metadata": {},
   "outputs": [],
   "source": [
    "df_aula = df.copy() #Estou criando uma cópia do dataframe apenas para fins acadêmicos tá "
   ]
  },
  {
   "cell_type": "code",
   "execution_count": null,
   "metadata": {},
   "outputs": [],
   "source": [
    "df['order_purchase_timestamp']"
   ]
  },
  {
   "cell_type": "code",
   "execution_count": null,
   "metadata": {},
   "outputs": [],
   "source": [
    "#Precisamos mudar essa coluna para timestamp - um tipo de formato de datas que nos dará mais flexibilidade para nossas análises\n",
    "\n",
    "df['order_purchase_timestamp'] = pd.to_datetime(df['order_purchase_timestamp'])"
   ]
  },
  {
   "cell_type": "code",
   "execution_count": null,
   "metadata": {},
   "outputs": [],
   "source": [
    "# Reconferindo\n",
    "\n",
    "df.info()"
   ]
  },
  {
   "attachments": {},
   "cell_type": "markdown",
   "metadata": {},
   "source": [
    "Mas são várias colunas não é? Como podemos fazer?\n",
    "\n",
    "Precisamos alterar os tipos dessas colunas: \n",
    "\n",
    "* 'order_approved_at', \n",
    "* 'order_delivered_carrier_date',\n",
    "* 'order_delivered_customer_date',\n",
    "* 'order_estimated_delivery_date', \n",
    "* 'shipping_limit_date', \n",
    "* 'review_creation_date', \n",
    "* 'review_answer_timestamp'"
   ]
  },
  {
   "cell_type": "code",
   "execution_count": null,
   "metadata": {},
   "outputs": [],
   "source": [
    "#Maneira 1: Copiando e colando!\n",
    "\n",
    "df['order_approved_at'] = pd.to_datetime(df['order_approved_at'])\n",
    "df['order_delivered_carrier_date'] = pd.to_datetime(df['order_delivered_carrier_date'])\n",
    "df['order_delivered_customer_date'] = pd.to_datetime(df['order_delivered_customer_date'])\n",
    "df['order_estimated_delivery_date'] = pd.to_datetime(df['order_estimated_delivery_date'])\n",
    "df['shipping_limit_date'] = pd.to_datetime(df['shipping_limit_date'])\n",
    "df['review_creation_date'] = pd.to_datetime(df['review_creation_date'])\n",
    "df['review_answer_timestamp'] = pd.to_datetime(df['review_answer_timestamp'])"
   ]
  },
  {
   "cell_type": "code",
   "execution_count": null,
   "metadata": {},
   "outputs": [],
   "source": [
    "df.info()"
   ]
  },
  {
   "cell_type": "code",
   "execution_count": null,
   "metadata": {},
   "outputs": [],
   "source": [
    "df.columns"
   ]
  },
  {
   "cell_type": "code",
   "execution_count": null,
   "metadata": {},
   "outputs": [],
   "source": [
    "cols_to_datetime = ['order_purchase_timestamp',\n",
    "       'order_approved_at', 'order_delivered_carrier_date',\n",
    "       'order_delivered_customer_date', 'order_estimated_delivery_date', 'shipping_limit_date', 'review_creation_date', 'review_answer_timestamp']"
   ]
  },
  {
   "cell_type": "code",
   "execution_count": null,
   "metadata": {},
   "outputs": [],
   "source": [
    "cols_to_datetime"
   ]
  },
  {
   "cell_type": "code",
   "execution_count": null,
   "metadata": {},
   "outputs": [],
   "source": [
    "for col in cols_to_datetime:\n",
    "    df[col] = pd.to_datetime(df[col])"
   ]
  },
  {
   "cell_type": "code",
   "execution_count": null,
   "metadata": {},
   "outputs": [],
   "source": [
    "#Maneira 2: Usando o for para criar loops\n",
    "\n",
    "cols_to_datetime = ['order_purchase_timestamp','order_approved_at', 'order_delivered_carrier_date','order_delivered_customer_date',\n",
    "                    'order_estimated_delivery_date', 'shipping_limit_date', 'review_creation_date', 'review_answer_timestamp']\n",
    "\n",
    "for col in cols_to_datetime:\n",
    "    df_aula[col] = pd.to_datetime(df_aula[col])"
   ]
  },
  {
   "cell_type": "code",
   "execution_count": null,
   "metadata": {},
   "outputs": [],
   "source": [
    "df_aula.info()"
   ]
  },
  {
   "attachments": {},
   "cell_type": "markdown",
   "metadata": {},
   "source": [
    "Outras funções para você conhecer:\n",
    "\n",
    "* Converter para número: https://pandas.pydata.org/docs/reference/api/pandas.to_numeric.html"
   ]
  },
  {
   "attachments": {},
   "cell_type": "markdown",
   "metadata": {},
   "source": [
    "### E os dados ausentes?"
   ]
  },
  {
   "cell_type": "code",
   "execution_count": null,
   "metadata": {},
   "outputs": [],
   "source": [
    "df.isna().any()"
   ]
  },
  {
   "attachments": {},
   "cell_type": "markdown",
   "metadata": {},
   "source": [
    "Mas quantos eles são?"
   ]
  },
  {
   "cell_type": "code",
   "execution_count": null,
   "metadata": {},
   "outputs": [],
   "source": [
    "df.isna().sum()"
   ]
  },
  {
   "attachments": {},
   "cell_type": "markdown",
   "metadata": {},
   "source": [
    "Mas muito mais importante do que saber quantos são, é também entendermos o quanto que esses dados faltantes representam no total da nossa base de dados:"
   ]
  },
  {
   "cell_type": "code",
   "execution_count": null,
   "metadata": {},
   "outputs": [],
   "source": [
    "df.shape[0]"
   ]
  },
  {
   "cell_type": "code",
   "execution_count": null,
   "metadata": {},
   "outputs": [],
   "source": [
    "(df.isna().sum() / df.shape[0]) * 100"
   ]
  },
  {
   "cell_type": "code",
   "execution_count": null,
   "metadata": {},
   "outputs": [],
   "source": [
    "df.isna().sum()/df.shape[0] * 100"
   ]
  },
  {
   "attachments": {},
   "cell_type": "markdown",
   "metadata": {},
   "source": [
    "Quando trabalhamos com grandes conjuntos de dados, é comum encontrar valores ausentes. Esses são espaços vazios ou dados que não foram coletados durante o processo de coleta de dados.\n",
    "\n",
    "Em Python, utilizamos a biblioteca pandas para lidar com dados ausentes de maneira eficaz. O pandas representa os dados ausentes como NaN (Not a Number) e fornece funções para detectar, remover e substituir esses valores."
   ]
  },
  {
   "attachments": {},
   "cell_type": "markdown",
   "metadata": {},
   "source": [
    "***Tratando dados ausentes***\n",
    "\n",
    "Excluindo dados ausentes\n",
    "\n",
    "Um dos métodos mais simples para tratar dados ausentes é excluí-los usando o método dropna()."
   ]
  },
  {
   "cell_type": "code",
   "execution_count": null,
   "metadata": {},
   "outputs": [],
   "source": [
    "df.dropna()"
   ]
  },
  {
   "attachments": {},
   "cell_type": "markdown",
   "metadata": {},
   "source": [
    "(VALOR_ONTEM - VALOR_HOJE)/VALOR_ONTEM"
   ]
  },
  {
   "cell_type": "code",
   "execution_count": null,
   "metadata": {},
   "outputs": [],
   "source": [
    "((df.shape[0] - df.dropna().shape[0]) / df.shape[0]) *100"
   ]
  },
  {
   "cell_type": "code",
   "execution_count": null,
   "metadata": {},
   "outputs": [],
   "source": [
    "# Nesse caso, estamos retirando todos os valores vazios sem nenhum critério, quanto perderíamos da nossa base?\n",
    "\n",
    "((df.shape[0] - df.dropna().shape[0]) / df.shape[0] ) *100"
   ]
  },
  {
   "attachments": {},
   "cell_type": "markdown",
   "metadata": {},
   "source": [
    "***Preenchendo dados ausentes***\n",
    "\n",
    "Em alguns casos, em vez de excluir dados ausentes, pode ser melhor preenchê-los com algum valor. Isso pode ser feito usando o método fillna()"
   ]
  },
  {
   "cell_type": "code",
   "execution_count": null,
   "metadata": {},
   "outputs": [],
   "source": [
    "df.fillna(value='PREENCHIDO')\n"
   ]
  },
  {
   "attachments": {},
   "cell_type": "markdown",
   "metadata": {},
   "source": [
    "No exemplo acima, todos os valores ausentes são preenchidos com a string 'PREENCHIDO'."
   ]
  },
  {
   "attachments": {},
   "cell_type": "markdown",
   "metadata": {},
   "source": [
    "É também comum preencher com a média dos valores da coluna:"
   ]
  },
  {
   "cell_type": "code",
   "execution_count": null,
   "metadata": {},
   "outputs": [],
   "source": [
    "df['review_score']"
   ]
  },
  {
   "cell_type": "code",
   "execution_count": null,
   "metadata": {},
   "outputs": [],
   "source": [
    "df.fillna(value=df['review_score'].mean())"
   ]
  },
  {
   "attachments": {},
   "cell_type": "markdown",
   "metadata": {},
   "source": [
    "No exemplo acima, os valores ausentes na coluna 'A' são preenchidos com a média dos valores existentes na mesma coluna."
   ]
  },
  {
   "cell_type": "code",
   "execution_count": null,
   "metadata": {},
   "outputs": [],
   "source": [
    "# Como perderemos apenas 5% da base se removermos todos os valores vazios, é o método que vamos seguir. Mas não se apeguem a ele, cada caso é um caso ;)\n",
    "\n",
    "df_clean = df.dropna()"
   ]
  },
  {
   "cell_type": "code",
   "execution_count": null,
   "metadata": {},
   "outputs": [],
   "source": [
    "df_clean.shape"
   ]
  },
  {
   "attachments": {},
   "cell_type": "markdown",
   "metadata": {},
   "source": [
    "Acesse aqui para saber mais sobre modos de fazer a limpeza do seus dados usando Python Pandas e outros recursos:\n",
    "\n",
    "https://realpython.com/python-data-cleaning-numpy-pandas/"
   ]
  },
  {
   "attachments": {},
   "cell_type": "markdown",
   "metadata": {
    "id": "TnVJJKDQfkzT"
   },
   "source": [
    "# Análises Exploratórias Básicas do Nosso Dataframe"
   ]
  },
  {
   "attachments": {},
   "cell_type": "markdown",
   "metadata": {
    "id": "kcHmNgMqgkKR"
   },
   "source": [
    "Vamos começar agora a olhar diretamente para quais informações nosso dataframe possui.\n",
    "\n",
    "Uma função importante que podemos usar é contar quantos valores temos de cada informação em uma coluna.\n",
    "\n",
    "Para isso existe a função: value_counts() - contar valores"
   ]
  },
  {
   "cell_type": "code",
   "execution_count": null,
   "metadata": {},
   "outputs": [],
   "source": [
    "df_clean.columns"
   ]
  },
  {
   "cell_type": "code",
   "execution_count": null,
   "metadata": {},
   "outputs": [],
   "source": [
    "df_clean['product_category_name'].value_counts()"
   ]
  },
  {
   "cell_type": "code",
   "execution_count": null,
   "metadata": {},
   "outputs": [],
   "source": [
    "df_clean['product_category_name'].value_counts(normalize=True) * 100"
   ]
  },
  {
   "cell_type": "code",
   "execution_count": null,
   "metadata": {},
   "outputs": [],
   "source": [
    "df_clean['customer_id'].value_counts(normalize = True)"
   ]
  },
  {
   "attachments": {},
   "cell_type": "markdown",
   "metadata": {
    "id": "UDzNDuweF4jp"
   },
   "source": [
    "**Medidas Estatísticas Importantes**"
   ]
  },
  {
   "cell_type": "code",
   "execution_count": null,
   "metadata": {},
   "outputs": [],
   "source": [
    "df_clean['price'].describe()"
   ]
  },
  {
   "cell_type": "code",
   "execution_count": null,
   "metadata": {},
   "outputs": [],
   "source": [
    "df_clean[['price', 'freight_value']].describe()"
   ]
  },
  {
   "cell_type": "code",
   "execution_count": null,
   "metadata": {},
   "outputs": [],
   "source": [
    "df_clean['price'].sum()"
   ]
  },
  {
   "cell_type": "code",
   "execution_count": null,
   "metadata": {},
   "outputs": [],
   "source": [
    "df_clean['price'].median()"
   ]
  },
  {
   "cell_type": "code",
   "execution_count": null,
   "metadata": {},
   "outputs": [],
   "source": [
    "df_clean['price'].mode()[0]"
   ]
  },
  {
   "cell_type": "code",
   "execution_count": null,
   "metadata": {},
   "outputs": [],
   "source": [
    "df_clean['price'].std()"
   ]
  },
  {
   "cell_type": "code",
   "execution_count": null,
   "metadata": {
    "colab": {
     "base_uri": "https://localhost:8080/"
    },
    "id": "o_OTTgWkGNkz",
    "outputId": "8843c1ea-c9b9-4eb8-efe4-d4cdf76443a2"
   },
   "outputs": [],
   "source": [
    "desvio_padrao_sales = df_clean['price'].std()"
   ]
  },
  {
   "cell_type": "code",
   "execution_count": null,
   "metadata": {},
   "outputs": [],
   "source": [
    "desvio_padrao_sales"
   ]
  },
  {
   "cell_type": "code",
   "execution_count": null,
   "metadata": {},
   "outputs": [],
   "source": [
    "df_clean.apply({\n",
    "    'price': 'mean',\n",
    "    'freight_value': 'max'\n",
    "})"
   ]
  },
  {
   "cell_type": "code",
   "execution_count": null,
   "metadata": {},
   "outputs": [],
   "source": [
    "df_clean.apply({'price': 'mean', 'freight_value': 'min'})"
   ]
  },
  {
   "cell_type": "code",
   "execution_count": null,
   "metadata": {},
   "outputs": [],
   "source": [
    "df_clean.apply({\n",
    "    'price': ['mean', 'std'],\n",
    "    'freight_value': 'max'\n",
    "})"
   ]
  },
  {
   "cell_type": "code",
   "execution_count": null,
   "metadata": {},
   "outputs": [],
   "source": [
    "df_clean.apply({'price': 'mean', 'freight_value': ['min', 'max']})"
   ]
  },
  {
   "cell_type": "code",
   "execution_count": null,
   "metadata": {},
   "outputs": [],
   "source": [
    "df_clean[['price', 'freight_value']].apply(['min', 'max', 'mean', 'median', 'std']).to_excel('../data/arquivos/resumo.xlsx')"
   ]
  },
  {
   "cell_type": "code",
   "execution_count": null,
   "metadata": {},
   "outputs": [],
   "source": [
    "df_clean[['price', 'freight_value']].apply(['min', 'max', 'mean', 'median', 'std'])"
   ]
  },
  {
   "attachments": {},
   "cell_type": "markdown",
   "metadata": {
    "id": "pO4Yi5_eFv3G"
   },
   "source": [
    "### Filtrando nosso Dataframe"
   ]
  },
  {
   "attachments": {},
   "cell_type": "markdown",
   "metadata": {},
   "source": [
    "O filtro de dados é um passo crucial na análise de dados. Ele permite que você se concentre em partes específicas do seu conjunto de dados e extraia apenas as informações que sejam importantes e necessárias."
   ]
  },
  {
   "cell_type": "code",
   "execution_count": null,
   "metadata": {
    "id": "t_cHN8HFXV4f"
   },
   "outputs": [],
   "source": [
    "a = 3"
   ]
  },
  {
   "cell_type": "code",
   "execution_count": null,
   "metadata": {
    "id": "wysz3SWYdQCT"
   },
   "outputs": [],
   "source": [
    "b = 4"
   ]
  },
  {
   "cell_type": "code",
   "execution_count": null,
   "metadata": {
    "colab": {
     "base_uri": "https://localhost:8080/"
    },
    "id": "OseLUCSD_QLw",
    "outputId": "5b2eaec6-9d21-4ee0-adfb-9f477618f7bf"
   },
   "outputs": [],
   "source": [
    "a"
   ]
  },
  {
   "cell_type": "code",
   "execution_count": null,
   "metadata": {},
   "outputs": [],
   "source": [
    "b >= a"
   ]
  },
  {
   "cell_type": "code",
   "execution_count": null,
   "metadata": {
    "id": "aW2CdmIXdSG1"
   },
   "outputs": [],
   "source": [
    "c = 3"
   ]
  },
  {
   "cell_type": "code",
   "execution_count": null,
   "metadata": {
    "colab": {
     "base_uri": "https://localhost:8080/"
    },
    "id": "LDUnpD85dTet",
    "outputId": "55f402cb-4493-402c-ed90-fbf616414ac3"
   },
   "outputs": [],
   "source": [
    "a != c"
   ]
  },
  {
   "cell_type": "code",
   "execution_count": null,
   "metadata": {},
   "outputs": [],
   "source": [
    "a = not True"
   ]
  },
  {
   "cell_type": "code",
   "execution_count": null,
   "metadata": {},
   "outputs": [],
   "source": [
    "a"
   ]
  },
  {
   "attachments": {},
   "cell_type": "markdown",
   "metadata": {},
   "source": [
    "Vamos começar a aplicar no nosso dataframe"
   ]
  },
  {
   "cell_type": "code",
   "execution_count": null,
   "metadata": {},
   "outputs": [],
   "source": [
    "df_clean.columns"
   ]
  },
  {
   "cell_type": "code",
   "execution_count": null,
   "metadata": {},
   "outputs": [],
   "source": [
    "df_clean['product_category_name'].unique()"
   ]
  },
  {
   "cell_type": "code",
   "execution_count": null,
   "metadata": {},
   "outputs": [],
   "source": [
    "len(df_clean['product_category_name'].unique())"
   ]
  },
  {
   "cell_type": "code",
   "execution_count": null,
   "metadata": {},
   "outputs": [],
   "source": [
    "df_clean[df_clean['product_category_name'] == 'la_cuisine']"
   ]
  },
  {
   "cell_type": "code",
   "execution_count": null,
   "metadata": {
    "id": "POQvXxHF_ynM"
   },
   "outputs": [],
   "source": [
    "df_lacuisine = df_clean[df_clean['product_category_name'] == 'la_cuisine']"
   ]
  },
  {
   "cell_type": "code",
   "execution_count": null,
   "metadata": {},
   "outputs": [],
   "source": [
    "df_lacuisine"
   ]
  },
  {
   "cell_type": "code",
   "execution_count": null,
   "metadata": {},
   "outputs": [],
   "source": [
    "#Para facilitar a nossa aula, vamos renomear o df_clean apenas para df - não façam isso em casa \\o/\n",
    "\n",
    "df = df_clean.copy()"
   ]
  },
  {
   "cell_type": "code",
   "execution_count": null,
   "metadata": {
    "colab": {
     "base_uri": "https://localhost:8080/"
    },
    "id": "K02gFQMUdwT3",
    "outputId": "34cd129f-9c44-44f4-ca4d-f7acf8cffa8e"
   },
   "outputs": [],
   "source": [
    "df['customer_city'].unique()"
   ]
  },
  {
   "cell_type": "code",
   "execution_count": null,
   "metadata": {},
   "outputs": [],
   "source": [
    "df[df['customer_city'] == 'sao paulo']['customer_city'].unique()"
   ]
  },
  {
   "cell_type": "code",
   "execution_count": null,
   "metadata": {},
   "outputs": [],
   "source": [
    "df[df['customer_city'] == 'sao paulo']"
   ]
  },
  {
   "cell_type": "code",
   "execution_count": null,
   "metadata": {},
   "outputs": [],
   "source": [
    "df[(df['customer_city'] == 'sao paulo') & (df['product_category_name'] == 'la_cuisine')]"
   ]
  },
  {
   "cell_type": "code",
   "execution_count": null,
   "metadata": {},
   "outputs": [],
   "source": [
    "saopaulo_lacuisine = df[(df['customer_city'] == 'sao paulo') & (df['product_category_name'] == 'la_cuisine')]"
   ]
  },
  {
   "cell_type": "code",
   "execution_count": null,
   "metadata": {},
   "outputs": [],
   "source": [
    "saopaulo_lacuisine"
   ]
  },
  {
   "cell_type": "code",
   "execution_count": null,
   "metadata": {},
   "outputs": [],
   "source": [
    "df[df['price'] >=100]"
   ]
  },
  {
   "cell_type": "code",
   "execution_count": null,
   "metadata": {},
   "outputs": [],
   "source": [
    "df['customer_state'].unique()"
   ]
  },
  {
   "cell_type": "code",
   "execution_count": null,
   "metadata": {},
   "outputs": [],
   "source": [
    "df[(df['customer_state'] == 'SP') & (df['product_category_name'] == 'fashion_roupa_masculina') & (df.price >= 100)]"
   ]
  },
  {
   "cell_type": "code",
   "execution_count": null,
   "metadata": {},
   "outputs": [],
   "source": [
    "df[(df['customer_state'] == 'SP') | (df['customer_state'] == 'RJ')]"
   ]
  },
  {
   "cell_type": "code",
   "execution_count": null,
   "metadata": {},
   "outputs": [],
   "source": [
    "df[df['customer_state'] != 'RS']"
   ]
  },
  {
   "attachments": {},
   "cell_type": "markdown",
   "metadata": {
    "id": "KlTm8WAREkCG"
   },
   "source": [
    "Quando precisamos fazer muitos filtros, podemos declará-los anterioremente"
   ]
  },
  {
   "cell_type": "code",
   "execution_count": null,
   "metadata": {},
   "outputs": [],
   "source": [
    "filt1 = df['customer_state'] == 'SP'"
   ]
  },
  {
   "cell_type": "code",
   "execution_count": null,
   "metadata": {},
   "outputs": [],
   "source": [
    "filt2 = df['product_category_name'] == 'fashion_roupa_masculina'"
   ]
  },
  {
   "cell_type": "code",
   "execution_count": null,
   "metadata": {},
   "outputs": [],
   "source": [
    "filt3 = df.price > 100"
   ]
  },
  {
   "cell_type": "code",
   "execution_count": null,
   "metadata": {
    "id": "-R3H6sGqEjim"
   },
   "outputs": [],
   "source": [
    "filt3"
   ]
  },
  {
   "cell_type": "code",
   "execution_count": null,
   "metadata": {},
   "outputs": [],
   "source": [
    "df[filt1 & filt2 & filt3]"
   ]
  },
  {
   "cell_type": "code",
   "execution_count": null,
   "metadata": {},
   "outputs": [],
   "source": [
    "filtro_multiplo = df[filt1 & filt2 & filt3]"
   ]
  },
  {
   "cell_type": "code",
   "execution_count": null,
   "metadata": {},
   "outputs": [],
   "source": [
    "filtro_multiplo"
   ]
  },
  {
   "cell_type": "code",
   "execution_count": null,
   "metadata": {
    "colab": {
     "base_uri": "https://localhost:8080/"
    },
    "id": "t_uAEOLCFdZE",
    "outputId": "84de3d4e-1adc-4a0a-f253-ca8d77869fe5"
   },
   "outputs": [],
   "source": [
    "df['price'].describe()"
   ]
  },
  {
   "cell_type": "code",
   "execution_count": null,
   "metadata": {},
   "outputs": [],
   "source": [
    "df[df['price'].between(74, 6000)]"
   ]
  },
  {
   "cell_type": "code",
   "execution_count": null,
   "metadata": {},
   "outputs": [],
   "source": [
    "df[df['price'].between(74,6000)]"
   ]
  },
  {
   "cell_type": "code",
   "execution_count": null,
   "metadata": {},
   "outputs": [],
   "source": [
    "df_vendas = df[df['price'].between(74,6000)]"
   ]
  },
  {
   "cell_type": "code",
   "execution_count": null,
   "metadata": {},
   "outputs": [],
   "source": [
    "df_vendas"
   ]
  },
  {
   "cell_type": "code",
   "execution_count": null,
   "metadata": {},
   "outputs": [],
   "source": [
    "df_vendas.sort_values(by='price', ascending = False).head()"
   ]
  },
  {
   "cell_type": "code",
   "execution_count": null,
   "metadata": {},
   "outputs": [],
   "source": [
    "df[(df['customer_state'] == 'SP') & (df['product_category_name'] == 'fashion_roupa_masculina')]['freight_value'].sum()"
   ]
  },
  {
   "cell_type": "code",
   "execution_count": null,
   "metadata": {},
   "outputs": [],
   "source": [
    "df['price'].mean()"
   ]
  },
  {
   "cell_type": "code",
   "execution_count": null,
   "metadata": {},
   "outputs": [],
   "source": [
    "df_vendas['price'].mean()"
   ]
  },
  {
   "attachments": {},
   "cell_type": "markdown",
   "metadata": {
    "id": "7qfj0m2qGjZK"
   },
   "source": [
    "### Modificando nosso Dataframe e criando novas variáveis"
   ]
  },
  {
   "attachments": {},
   "cell_type": "markdown",
   "metadata": {},
   "source": [
    "A engenharia de características (feature engineering), ou a criação de novas variáveis, é um dos aspectos mais importantes e poderosos de qualquer processo de análise de dados. Embora os dados brutos possam conter uma grande quantidade de informações, nem sempre eles estão na forma mais útil de ser usada, ou até mesmo mais prática. Ao criar novas variáveis, podemos extrair informações adicionais dos dados, revelar padrões ocultos, melhorar a precisão dos modelos e muito mais."
   ]
  },
  {
   "attachments": {},
   "cell_type": "markdown",
   "metadata": {
    "id": "9pCF1DP4GoKp"
   },
   "source": [
    "**Criando colunas novas**"
   ]
  },
  {
   "attachments": {},
   "cell_type": "markdown",
   "metadata": {
    "id": "xNH7xSq2Gr52"
   },
   "source": [
    "Para criar colunas, usamos a seguinte forma:\n",
    "\n",
    "df['coluna_nova'] = REGRA_DA_NOVA_COLUNA"
   ]
  },
  {
   "cell_type": "code",
   "execution_count": null,
   "metadata": {},
   "outputs": [],
   "source": [
    "df['total_order_value'] = df['price'] + df['freight_value']\n",
    "\n",
    "df['total_order_value']"
   ]
  },
  {
   "cell_type": "code",
   "execution_count": null,
   "metadata": {},
   "outputs": [],
   "source": [
    "df"
   ]
  },
  {
   "cell_type": "code",
   "execution_count": null,
   "metadata": {},
   "outputs": [],
   "source": [
    "# Criando a variável 'total_order_value' que é a soma do preço do produto e o valor do frete\n",
    "df['total_order_value'] = df['price'] + df['freight_value']\n",
    "\n",
    "df['total_order_value']"
   ]
  },
  {
   "cell_type": "code",
   "execution_count": null,
   "metadata": {
    "colab": {
     "base_uri": "https://localhost:8080/",
     "height": 547
    },
    "id": "FTUDCMRlJYyk",
    "outputId": "502a7bef-dd42-45a8-e7e7-5f352ace3bcf",
    "scrolled": true
   },
   "outputs": [],
   "source": [
    "df.head()"
   ]
  },
  {
   "cell_type": "code",
   "execution_count": null,
   "metadata": {},
   "outputs": [],
   "source": [
    "df.info()"
   ]
  },
  {
   "cell_type": "code",
   "execution_count": null,
   "metadata": {},
   "outputs": [],
   "source": [
    "df['order_purchase_year'] = df['order_purchase_timestamp'].dt.year"
   ]
  },
  {
   "cell_type": "code",
   "execution_count": null,
   "metadata": {},
   "outputs": [],
   "source": [
    "df.head()"
   ]
  },
  {
   "cell_type": "code",
   "execution_count": null,
   "metadata": {},
   "outputs": [],
   "source": [
    "# Criando a variável 'order_purchase_year' que é o ano em que o pedido foi feito\n",
    "df['order_purchase_year'] = df['order_purchase_timestamp'].dt.year\n",
    "# Criando a variável 'order_purchase_month' que é o mês em que o pedido foi feito\n",
    "df['order_purchase_month'] = df['order_purchase_timestamp'].dt.month\n",
    "# Criando a variável 'order_purchase_day' que é o dia em que o pedido foi feito\n",
    "df['order_purchase_day'] = df['order_purchase_timestamp'].dt.day\n",
    "# Criando a variável 'order_purchase_hour' que é a hora em que o pedido foi feito\n",
    "df['order_purchase_hour'] = df['order_purchase_timestamp'].dt.hour\n",
    "# Criando a variável 'order_purchase_dayofweek' que é o dia da semana em que o pedido foi feito\n",
    "df['order_purchase_dayofweek'] = df['order_purchase_timestamp'].dt.dayofweek"
   ]
  },
  {
   "cell_type": "code",
   "execution_count": null,
   "metadata": {},
   "outputs": [],
   "source": []
  },
  {
   "cell_type": "code",
   "execution_count": null,
   "metadata": {},
   "outputs": [],
   "source": [
    "df.head()"
   ]
  },
  {
   "cell_type": "code",
   "execution_count": null,
   "metadata": {
    "id": "YdN3W4eaHd1Q"
   },
   "outputs": [],
   "source": [
    "df['tempo_para_envio'] = df['order_delivered_customer_date'] - df['order_purchase_timestamp']"
   ]
  },
  {
   "cell_type": "code",
   "execution_count": null,
   "metadata": {
    "colab": {
     "base_uri": "https://localhost:8080/",
     "height": 547
    },
    "id": "l28gEygnLsnX",
    "outputId": "563fdaa0-c8a6-408d-8742-93f6797f01c2"
   },
   "outputs": [],
   "source": [
    "df.head(3)"
   ]
  },
  {
   "cell_type": "code",
   "execution_count": null,
   "metadata": {},
   "outputs": [],
   "source": [
    "df['tempo_para_envio'].describe()"
   ]
  },
  {
   "cell_type": "code",
   "execution_count": null,
   "metadata": {},
   "outputs": [],
   "source": [
    "df['order_purchase_month'].astype(str) + '-' + df['order_purchase_year'].astype(str)"
   ]
  },
  {
   "cell_type": "code",
   "execution_count": null,
   "metadata": {},
   "outputs": [],
   "source": [
    "df['CHAVE-MES-ANO'] = df['order_purchase_month'].astype(str) + '-' + df['order_purchase_year'].astype(str)"
   ]
  },
  {
   "cell_type": "code",
   "execution_count": null,
   "metadata": {},
   "outputs": [],
   "source": [
    "df.head()"
   ]
  },
  {
   "attachments": {},
   "cell_type": "markdown",
   "metadata": {
    "id": "N0Hd6uA6G8Zc"
   },
   "source": [
    "### Ponto de Parada - Funções"
   ]
  },
  {
   "attachments": {},
   "cell_type": "markdown",
   "metadata": {
    "id": "Fi6zKzegH_8t"
   },
   "source": [
    "**Funções em Python**\n",
    "\n",
    "Uma função é um bloco de código reutilizável que executa uma tarefa específica. Funções são fundamentais para a programação em Python e muitas outras linguagens de programação, pois permitem modularizar e organizar o código de maneira eficaz.\n",
    "\n",
    "Em Python, usamos a palavra-chave def para definir uma função. Aqui está um exemplo de como definir uma função que adiciona dois números:\n",
    "\n",
    "\n",
    "\n",
    "```\n",
    "def NOME( PARÂMETROS ):\n",
    "\n",
    "    COMANDOS\n",
    "```\n",
    "\n",
    "Exemplo:\n",
    "\n",
    "\n",
    "\n",
    "```\n",
    "def adicionar_dois_numeros(num1, num2):\n",
    "\n",
    "    return num1 + num2\n",
    "```\n",
    "\n",
    "Neste exemplo, adicionar_dois_numeros é o nome da função e num1 e num2 são os parâmetros da função. A palavra-chave return é usada para especificar o resultado que a função deve retornar.\n",
    "\n",
    "\n",
    "Você pode inventar qualquer nome para as funções que você cria, exceto que você não pode usar um nome que é uma palavra reservada em Python, e que os nomes devem seguir a regra de identificadores permitidos. Os parâmetros especificam qual informação, se alguma, você deve providenciar para que a função possa ser usada. Outra forma de dizer isto é que os parâmetros especificam o que a função necessita para executar a sua tarefa."
   ]
  },
  {
   "attachments": {},
   "cell_type": "markdown",
   "metadata": {
    "id": "PRN6W_iZLWMC"
   },
   "source": [
    "Vamos ver mais usos de funções mais para frente"
   ]
  },
  {
   "cell_type": "code",
   "execution_count": null,
   "metadata": {},
   "outputs": [],
   "source": [
    "def adicionar_dois_numeros(num1, num2):\n",
    "    return num1 + num2"
   ]
  },
  {
   "cell_type": "code",
   "execution_count": null,
   "metadata": {},
   "outputs": [],
   "source": [
    "adicionar_dois_numeros(1000, 548)"
   ]
  },
  {
   "cell_type": "code",
   "execution_count": null,
   "metadata": {},
   "outputs": [],
   "source": [
    "df.columns"
   ]
  },
  {
   "cell_type": "code",
   "execution_count": null,
   "metadata": {},
   "outputs": [],
   "source": [
    "media_valor_total = df['total_order_value'].mean()"
   ]
  },
  {
   "cell_type": "code",
   "execution_count": null,
   "metadata": {},
   "outputs": [],
   "source": [
    "media_valor_total"
   ]
  },
  {
   "cell_type": "code",
   "execution_count": null,
   "metadata": {},
   "outputs": [],
   "source": [
    "def acima_ou_abaixo(x):\n",
    "\n",
    "    media_valor_total = df['total_order_value'].mean()\n",
    "\n",
    "    if x >= media_valor_total:\n",
    "        return 'ACIMA'\n",
    "    else:\n",
    "        return 'ABAIXO'"
   ]
  },
  {
   "cell_type": "code",
   "execution_count": null,
   "metadata": {},
   "outputs": [],
   "source": [
    "def acima_ou_abaixo(x):\n",
    "    \n",
    "    \"\"\"\n",
    "    Essa função retorna \"acima\" para valores acima da média de vendas, e abaixo, para valores abaixo\n",
    "    \"\"\"\n",
    "    \n",
    "    media_valor_total = df['total_order_value'].mean()\n",
    "    \n",
    "    if x >= media_valor_total:\n",
    "        return 'ACIMA'\n",
    "    else:\n",
    "        return 'ABAIXO'\n",
    "    \n",
    "    "
   ]
  },
  {
   "cell_type": "code",
   "execution_count": null,
   "metadata": {},
   "outputs": [],
   "source": [
    "df['COMPARATIVO_VALOR'] = df['total_order_value'].apply(acima_ou_abaixo)"
   ]
  },
  {
   "cell_type": "code",
   "execution_count": null,
   "metadata": {},
   "outputs": [],
   "source": [
    "df.head()"
   ]
  },
  {
   "cell_type": "code",
   "execution_count": null,
   "metadata": {},
   "outputs": [],
   "source": [
    "df['COMPARATIVO_VALOR'].value_counts(normalize=True)"
   ]
  },
  {
   "cell_type": "code",
   "execution_count": null,
   "metadata": {},
   "outputs": [],
   "source": [
    "df['order_purchase_hour'].unique()"
   ]
  },
  {
   "cell_type": "code",
   "execution_count": null,
   "metadata": {},
   "outputs": [],
   "source": [
    "def categorizar_compra(hora):\n",
    "\n",
    "    if 0 <= hora < 6:\n",
    "        return 'Madrugada'\n",
    "    elif 6 <= hora < 12:\n",
    "        return 'Manhã'\n",
    "    elif 12 <= hora < 18:\n",
    "        return 'Tarde'\n",
    "    else:\n",
    "        return 'Noite'\n",
    "    \n",
    "df['order_purchase_timeofday'] = df['order_purchase_hour'].apply(categorizar_compra)"
   ]
  },
  {
   "cell_type": "code",
   "execution_count": null,
   "metadata": {},
   "outputs": [],
   "source": [
    "df.head()"
   ]
  },
  {
   "cell_type": "code",
   "execution_count": null,
   "metadata": {},
   "outputs": [],
   "source": [
    "df['order_purchase_timeofday'].value_counts(normalize=True)"
   ]
  },
  {
   "cell_type": "code",
   "execution_count": null,
   "metadata": {},
   "outputs": [],
   "source": [
    "# Função para categorizar o horário do pedido\n",
    "def categorize_hour(hour):\n",
    "    if 0 <= hour < 6:\n",
    "        return 'Early Morning'\n",
    "    elif 6 <= hour < 12:\n",
    "        return 'Morning'\n",
    "    elif 12 <= hour < 18:\n",
    "        return 'Afternoon'\n",
    "    else:\n",
    "        return 'Evening'\n",
    "    \n",
    "# Criando a variável 'order_purchase_timeofday' que é a categoria de horário do pedido\n",
    "df['order_purchase_timeofday'] = df['order_purchase_hour'].apply(categorize_hour)\n",
    "\n",
    "df.head(3)"
   ]
  },
  {
   "cell_type": "code",
   "execution_count": null,
   "metadata": {},
   "outputs": [],
   "source": [
    "def categorize_total_order_value(value):\n",
    "\n",
    "    if value < 50:\n",
    "        return 'Baixo'\n",
    "    elif 50 <= value < 200:\n",
    "        return 'Medio'\n",
    "    else:\n",
    "        return 'Alto'\n",
    "    \n",
    "df['total_order_value_category'] = df['total_order_value'].apply(categorize_total_order_value)\n",
    "\n",
    "df.total_order_value_category.value_counts()"
   ]
  },
  {
   "cell_type": "code",
   "execution_count": null,
   "metadata": {},
   "outputs": [],
   "source": [
    "# Função para categorizar o valor total do pedido\n",
    "def categorize_total_order_value(value):\n",
    "    if value < 50:\n",
    "        return 'Low'\n",
    "    elif 50 <= value < 200:\n",
    "        return 'Medium'\n",
    "    else:\n",
    "        return 'High'\n",
    "    \n",
    "# Criando a variável 'total_order_value_category' que é a categoria do valor total do pedido\n",
    "df['total_order_value_category'] = df['total_order_value'].apply(categorize_total_order_value)\n",
    "\n",
    "df.total_order_value_category.value_counts()"
   ]
  },
  {
   "cell_type": "code",
   "execution_count": null,
   "metadata": {},
   "outputs": [],
   "source": [
    "df[['total_order_value_category', 'order_purchase_timeofday']].value_counts()"
   ]
  },
  {
   "cell_type": "code",
   "execution_count": null,
   "metadata": {},
   "outputs": [],
   "source": [
    "def categorize_order(periodo, categoria):\n",
    "\n",
    "    if periodo == 'Manhã' and categoria == 'Alto':\n",
    "        return 'High Value Morning Order'\n",
    "    elif periodo == 'Tarde' and categoria == 'Alto':\n",
    "        return 'High Value Afternoon Order'\n",
    "    elif periodo in ['Noite', 'Madrugada'] and categoria == 'Alto':\n",
    "        return 'High Value Off-Peak Order'\n",
    "    elif categoria == 'Medio':\n",
    "        return 'Medium Value Order'\n",
    "    else:\n",
    "        return 'Low Value Order'\n",
    "    \n",
    "df['categoria_da_ordem'] = df.apply(lambda x: categorize_order(x['order_purchase_timeofday'], x['total_order_value_category']), axis = 1)"
   ]
  },
  {
   "cell_type": "code",
   "execution_count": null,
   "metadata": {},
   "outputs": [],
   "source": [
    "def categorize_order(periodo, categoria):\n",
    "\n",
    "    if periodo == 'Manhã' and categoria == 'Alto':\n",
    "        return 'High Value Morning Order'\n",
    "    elif periodo == 'Tarde' and categoria == 'Alto':\n",
    "        return 'High Value Afternoon Order'\n",
    "    elif periodo ==  'Noite' and categoria == 'Alto':\n",
    "        return 'High Value Off-Peak Order'\n",
    "    elif periodo ==  'Madrugada' and categoria == 'Alto':\n",
    "        return 'High Value Off-Peak Order'\n",
    "    elif categoria == 'Medio':\n",
    "        return 'Medium Value Order'\n",
    "    else:\n",
    "        return 'Low Value Order'"
   ]
  },
  {
   "cell_type": "code",
   "execution_count": null,
   "metadata": {},
   "outputs": [],
   "source": [
    "df['categoria_da_ordem'] = df.apply(lambda x: categorize_order(x['order_purchase_timeofday'], x['total_order_value_category']), axis = 1)"
   ]
  },
  {
   "cell_type": "code",
   "execution_count": null,
   "metadata": {},
   "outputs": [],
   "source": [
    "df['categoria_da_ordem']"
   ]
  },
  {
   "cell_type": "code",
   "execution_count": null,
   "metadata": {},
   "outputs": [],
   "source": [
    "# Função para categorizar o pedido com base no horário e no valor total\n",
    "def categorize_order(timeofday, value_category):\n",
    "    if timeofday == 'Morning' and value_category == 'High':\n",
    "        return 'High Value Morning Order'\n",
    "    elif timeofday == 'Afternoon' and value_category == 'High':\n",
    "        return 'High Value Afternoon Order'\n",
    "    elif timeofday in ['Early Morning', 'Evening'] and value_category == 'High':\n",
    "        return 'High Value Off-Peak Order'\n",
    "    elif value_category == 'Medium':\n",
    "        return 'Medium Value Order'\n",
    "    else:\n",
    "        return 'Low Value Order'\n",
    "    \n",
    "# Criando a variável 'order_category' que é a categoria do pedido com base no horário e no valor total\n",
    "df['order_category'] = df.apply(lambda x: categorize_order(x['order_purchase_timeofday'], x['total_order_value_category']), axis=1)"
   ]
  },
  {
   "cell_type": "code",
   "execution_count": null,
   "metadata": {},
   "outputs": [],
   "source": [
    "df.order_category.value_counts(normalize=True)"
   ]
  },
  {
   "attachments": {},
   "cell_type": "markdown",
   "metadata": {
    "id": "PIwreboMyjUA"
   },
   "source": [
    "***Ponto de Parada***\n",
    "\n",
    "Dicionários\n",
    "\n",
    "Em Python, um dicionário é uma estrutura de dados que armazena pares de valores-chave. Cada valor é associado a uma chave única, que pode ser usada para acessar o valor posteriormente. Diferente das listas e tuplas, que são indexadas por um intervalo de números, os dicionários são indexados por chaves, que podem ser de qualquer tipo imutável.\n",
    "\n",
    "Aqui está um exemplo de como definir um dicionário:\n",
    "\n",
    "\n",
    "\n",
    "```\n",
    "{\n",
    "  'chave1': 'valor1',\n",
    "  'chave2': 'valor2',\n",
    "  ....\n",
    "}\n",
    "```\n",
    "\n",
    "\n"
   ]
  },
  {
   "cell_type": "code",
   "execution_count": null,
   "metadata": {},
   "outputs": [],
   "source": [
    "meu_dicionario = {\n",
    "    'nome': 'Joao',\n",
    "    'idade': 30,\n",
    "    'cidade': 'São Paulo'\n",
    "}"
   ]
  },
  {
   "cell_type": "code",
   "execution_count": null,
   "metadata": {},
   "outputs": [],
   "source": [
    "meu_dicionario"
   ]
  },
  {
   "attachments": {},
   "cell_type": "markdown",
   "metadata": {},
   "source": [
    "Neste exemplo, nome, idade e cidade são as chaves, e 'João', 30 e 'São Paulo' são os respectivos valores.\n",
    "\n",
    "Podemos acessar um valor em um dicionário referindo-se à sua chave:"
   ]
  },
  {
   "cell_type": "code",
   "execution_count": null,
   "metadata": {},
   "outputs": [],
   "source": [
    "meu_dicionario.values()"
   ]
  },
  {
   "cell_type": "code",
   "execution_count": null,
   "metadata": {},
   "outputs": [],
   "source": [
    "meu_dicionario.keys()"
   ]
  },
  {
   "cell_type": "code",
   "execution_count": null,
   "metadata": {},
   "outputs": [],
   "source": [
    "meu_dicionario['nome']"
   ]
  },
  {
   "cell_type": "code",
   "execution_count": null,
   "metadata": {
    "colab": {
     "base_uri": "https://localhost:8080/"
    },
    "id": "5aGmBLxmzgfe",
    "outputId": "dc19162d-5fdb-4658-db2a-6982f18c3946"
   },
   "outputs": [],
   "source": [
    "nome = meu_dicionario['nome']\n",
    "print(nome)  # Saída: João\n"
   ]
  },
  {
   "attachments": {},
   "cell_type": "markdown",
   "metadata": {
    "id": "1rYF72h40HL6"
   },
   "source": [
    "Como usamos dicionários para criar uma nova coluna no nosso dataframe?"
   ]
  },
  {
   "cell_type": "code",
   "execution_count": null,
   "metadata": {},
   "outputs": [],
   "source": [
    "df['order_status'].unique()"
   ]
  },
  {
   "cell_type": "code",
   "execution_count": null,
   "metadata": {},
   "outputs": [],
   "source": [
    "# Criando um dicionário para mapear as categorias de 'order_status' para um valor numérico\n",
    "order_status_mapping = {\n",
    "    'delivered': 0,\n",
    "    'shipped': 1,\n",
    "    'canceled': 2,\n",
    "    'unavailable': 3,\n",
    "    'invoiced': 4,\n",
    "    'processing': 5,\n",
    "    'created': 6,\n",
    "    'approved': 7\n",
    "}"
   ]
  },
  {
   "cell_type": "code",
   "execution_count": null,
   "metadata": {},
   "outputs": [],
   "source": [
    "order_status_mapping"
   ]
  },
  {
   "cell_type": "code",
   "execution_count": null,
   "metadata": {},
   "outputs": [],
   "source": [
    "df['order_status_code'] = df['order_status'].map(order_status_mapping)"
   ]
  },
  {
   "cell_type": "code",
   "execution_count": null,
   "metadata": {},
   "outputs": [],
   "source": [
    "df['order_status_code'].value_counts()"
   ]
  },
  {
   "attachments": {},
   "cell_type": "markdown",
   "metadata": {
    "id": "ohpIzSQO1kbJ"
   },
   "source": [
    "**Excluindo Colunas**"
   ]
  },
  {
   "cell_type": "code",
   "execution_count": null,
   "metadata": {
    "id": "NCe7osSt0yI-"
   },
   "outputs": [],
   "source": [
    "# Criando uma coluna provisória\n",
    "\n",
    "df['NATHAN'] = 'Nathan'"
   ]
  },
  {
   "cell_type": "code",
   "execution_count": null,
   "metadata": {
    "colab": {
     "base_uri": "https://localhost:8080/",
     "height": 547
    },
    "id": "EYHfO0X3Wnou",
    "outputId": "001375f9-b6b0-4b5f-a00f-e011f4caf696"
   },
   "outputs": [],
   "source": [
    "df.head()"
   ]
  },
  {
   "cell_type": "code",
   "execution_count": null,
   "metadata": {},
   "outputs": [],
   "source": [
    "df = df.drop('NATHAN', axis = 1)"
   ]
  },
  {
   "cell_type": "code",
   "execution_count": null,
   "metadata": {},
   "outputs": [],
   "source": [
    "df.shape"
   ]
  },
  {
   "attachments": {},
   "cell_type": "markdown",
   "metadata": {},
   "source": [
    "### Removendo valores duplicados"
   ]
  },
  {
   "cell_type": "code",
   "execution_count": null,
   "metadata": {},
   "outputs": [],
   "source": [
    "df.info()"
   ]
  },
  {
   "cell_type": "code",
   "execution_count": null,
   "metadata": {},
   "outputs": [],
   "source": [
    "df.nunique()"
   ]
  },
  {
   "cell_type": "code",
   "execution_count": null,
   "metadata": {},
   "outputs": [],
   "source": [
    "df.order_id.value_counts()"
   ]
  },
  {
   "attachments": {},
   "cell_type": "markdown",
   "metadata": {},
   "source": [
    "Olha sóooo, temos ordens duplicadas no nosso dataframe! Porque será?"
   ]
  },
  {
   "cell_type": "code",
   "execution_count": null,
   "metadata": {},
   "outputs": [],
   "source": [
    "df[df.order_id == '895ab968e7bb0d5659d16cd74cd1650c'][['product_id', 'order_item_id', 'seller_id', 'shipping_limit_date',\n",
    "       'price', 'freight_value', 'payment_sequential', 'payment_type',\n",
    "       'payment_installments', 'payment_value']]"
   ]
  },
  {
   "cell_type": "code",
   "execution_count": null,
   "metadata": {},
   "outputs": [],
   "source": [
    "df[df.order_id == '895ab968e7bb0d5659d16cd74cd1650c'][['product_id', 'seller_id', 'shipping_limit_date',\n",
    "       'price', 'freight_value', 'payment_sequential', 'payment_type',\n",
    "       'payment_installments', 'payment_value']]['payment_sequential'].max()"
   ]
  },
  {
   "cell_type": "code",
   "execution_count": null,
   "metadata": {},
   "outputs": [],
   "source": [
    "df[df.product_id == 'ebf9bc6cd600eadd681384e3116fda85'][['order_id','seller_id', 'price', 'freight_value', 'payment_sequential', 'payment_type',\n",
    "       'payment_installments', 'payment_value']]"
   ]
  },
  {
   "attachments": {},
   "cell_type": "markdown",
   "metadata": {},
   "source": [
    "O que fazemos com essa informação? Tarefa de casa"
   ]
  },
  {
   "attachments": {},
   "cell_type": "markdown",
   "metadata": {
    "id": "-x68D8ByS17g"
   },
   "source": [
    "**OS SES do Excel**\n",
    "\n",
    "MEDIASE, SOMASE..."
   ]
  },
  {
   "cell_type": "code",
   "execution_count": null,
   "metadata": {},
   "outputs": [],
   "source": [
    "soma_pagamentos_SP = df[(df['customer_state'] == 'SP')]['payment_value'].sum()"
   ]
  },
  {
   "cell_type": "code",
   "execution_count": null,
   "metadata": {
    "colab": {
     "base_uri": "https://localhost:8080/"
    },
    "id": "QxrzdnMKTi_8",
    "outputId": "9dc83f4f-8f99-4320-fdfb-7e5b57f34625"
   },
   "outputs": [],
   "source": [
    "media_pagamentos_SP = df[(df['customer_state'] == 'SP')]['payment_value'].mean()"
   ]
  },
  {
   "cell_type": "code",
   "execution_count": null,
   "metadata": {},
   "outputs": [],
   "source": [
    "dicionario_SP = {\n",
    "    'Soma de pagamentos SP': soma_pagamentos_SP,\n",
    "    'Médias Pagamentos SP': media_pagamentos_SP,\n",
    "}"
   ]
  },
  {
   "cell_type": "code",
   "execution_count": null,
   "metadata": {},
   "outputs": [],
   "source": [
    "pd.DataFrame(dicionario_SP.items()).to_excel('../data/tratado/teste.xlsx')"
   ]
  },
  {
   "attachments": {},
   "cell_type": "markdown",
   "metadata": {
    "id": "nVoYu12ZVCKH"
   },
   "source": [
    "**Quartil**"
   ]
  },
  {
   "cell_type": "code",
   "execution_count": null,
   "metadata": {
    "colab": {
     "base_uri": "https://localhost:8080/"
    },
    "id": "vpBDRPMUVUue",
    "outputId": "c3014d6a-1929-42f0-990f-d30d5fd609d5"
   },
   "outputs": [],
   "source": [
    "df['price'].quantile(0.01)"
   ]
  },
  {
   "attachments": {},
   "cell_type": "markdown",
   "metadata": {
    "id": "lQbm0UqTW8PA"
   },
   "source": [
    "# **Agrupamentos**"
   ]
  },
  {
   "attachments": {},
   "cell_type": "markdown",
   "metadata": {
    "id": "bgHkM2TuXAm4"
   },
   "source": [
    "Agrupamentos são artifícios muito importantes na Análise de Dados, que nos permite sumarizar dados de maneira rápida e intuitiva.\n",
    "\n",
    "Para uma boa análise de dados é importante que você separe algum tempo para se perguntar:\n",
    "\n",
    "\n",
    "\n",
    "*   O que quero descobrir?\n",
    "*   Qual o nível de informação que preciso obter\n",
    "\n",
    "Agora vamos criar alguns agrupamentos e continuar mostrando algumas funções importantes para vocês.\n",
    "\n"
   ]
  },
  {
   "cell_type": "code",
   "execution_count": null,
   "metadata": {},
   "outputs": [],
   "source": [
    "df.columns"
   ]
  },
  {
   "cell_type": "code",
   "execution_count": null,
   "metadata": {},
   "outputs": [],
   "source": [
    "df.groupby('customer_state')['payment_value'].sum().reset_index()"
   ]
  },
  {
   "cell_type": "code",
   "execution_count": null,
   "metadata": {},
   "outputs": [],
   "source": [
    "df.groupby(['customer_state', 'payment_type'])['payment_value'].sum().reset_index()"
   ]
  },
  {
   "cell_type": "code",
   "execution_count": null,
   "metadata": {},
   "outputs": [],
   "source": [
    "nova_tabela = df.groupby(['customer_state', 'payment_type'])['payment_value'].sum().reset_index()"
   ]
  },
  {
   "cell_type": "code",
   "execution_count": null,
   "metadata": {},
   "outputs": [],
   "source": [
    "nova_tabela"
   ]
  },
  {
   "cell_type": "code",
   "execution_count": null,
   "metadata": {},
   "outputs": [],
   "source": [
    "tabela_estado_pagamento_categoria = df.groupby(['customer_state', 'payment_type','product_category_name'])['payment_value'].sum().reset_index()\n",
    "\n",
    "tabela_estado_pagamento_categoria.to_excel('../data/arquivos/tabela_estado_pagamento_categoria.xlsx')"
   ]
  },
  {
   "cell_type": "code",
   "execution_count": null,
   "metadata": {},
   "outputs": [],
   "source": [
    "df.groupby(['customer_state', 'payment_type']).agg({\n",
    "    'payment_value': ['sum', 'min', 'mean']\n",
    "}).reset_index()"
   ]
  },
  {
   "cell_type": "code",
   "execution_count": null,
   "metadata": {},
   "outputs": [],
   "source": [
    "vendas_mean_sum_min = df.groupby(['customer_state', 'product_category_name']).agg({\n",
    "    'payment_value' : ['sum', 'min', 'mean']\n",
    "}).reset_index()"
   ]
  },
  {
   "cell_type": "code",
   "execution_count": null,
   "metadata": {},
   "outputs": [],
   "source": [
    "vendas_mean_sum_min"
   ]
  },
  {
   "attachments": {},
   "cell_type": "markdown",
   "metadata": {
    "id": "H6f4jwNyaJw3"
   },
   "source": [
    "E se quisermos agrupar por alguma referência de tempo?"
   ]
  },
  {
   "cell_type": "code",
   "execution_count": null,
   "metadata": {},
   "outputs": [],
   "source": [
    "df.groupby(pd.Grouper(key = 'order_purchase_timestamp', freq='3M'))['payment_value'].sum().reset_index()"
   ]
  },
  {
   "cell_type": "code",
   "execution_count": null,
   "metadata": {},
   "outputs": [],
   "source": [
    "df.groupby(pd.Grouper(key = 'order_purchase_timestamp', freq='Y'))['payment_value'].sum().reset_index()"
   ]
  },
  {
   "cell_type": "code",
   "execution_count": null,
   "metadata": {},
   "outputs": [],
   "source": [
    "df.groupby(['customer_state' , pd.Grouper(key = 'order_purchase_timestamp', freq='3M')])['payment_value'].sum().reset_index()"
   ]
  },
  {
   "cell_type": "code",
   "execution_count": null,
   "metadata": {},
   "outputs": [],
   "source": [
    "df.groupby(['customer_state',pd.Grouper(key = 'order_purchase_timestamp', freq='3M'), 'product_category_name'])['payment_value'].sum().reset_index()"
   ]
  },
  {
   "cell_type": "code",
   "execution_count": null,
   "metadata": {},
   "outputs": [],
   "source": [
    "df.groupby([pd.Grouper(key = 'order_purchase_timestamp', freq='M'),'product_category_name'])['payment_value'].sum().reset_index()"
   ]
  },
  {
   "cell_type": "code",
   "execution_count": null,
   "metadata": {
    "id": "NkKYD1S1ay9j"
   },
   "outputs": [],
   "source": [
    "#Podemos calcular a soma também somente pelo tempo, sem colocar outro índice\n",
    "\n",
    "soma_vendas_mes = df.groupby(pd.Grouper(key = 'order_purchase_timestamp', freq = 'M'))['payment_value'].sum().reset_index()"
   ]
  },
  {
   "cell_type": "code",
   "execution_count": null,
   "metadata": {
    "colab": {
     "base_uri": "https://localhost:8080/",
     "height": 1000
    },
    "id": "wBGqc4QWbJkl",
    "outputId": "ad4e12e1-8302-474d-942c-2342e71937a1"
   },
   "outputs": [],
   "source": [
    "soma_vendas_mes.head()"
   ]
  },
  {
   "cell_type": "code",
   "execution_count": null,
   "metadata": {},
   "outputs": [],
   "source": [
    "soma_vendas_mes['AUMENTO_VENDAS'] = soma_vendas_mes['payment_value'].diff()"
   ]
  },
  {
   "cell_type": "code",
   "execution_count": null,
   "metadata": {
    "colab": {
     "base_uri": "https://localhost:8080/",
     "height": 1000
    },
    "id": "n9xZgLO2blRV",
    "outputId": "5b0589d8-430e-444a-fe3d-6f127ce61fba"
   },
   "outputs": [],
   "source": [
    "soma_vendas_mes"
   ]
  },
  {
   "cell_type": "code",
   "execution_count": null,
   "metadata": {
    "id": "s1GS3NZ7bmiF"
   },
   "outputs": [],
   "source": [
    "soma_vendas_mes['AUMENTO_VENDAS_PCT'] = soma_vendas_mes['payment_value'].pct_change() * 100"
   ]
  },
  {
   "cell_type": "code",
   "execution_count": null,
   "metadata": {
    "colab": {
     "base_uri": "https://localhost:8080/",
     "height": 1000
    },
    "id": "e6sckcf6drtY",
    "outputId": "03708b5c-7040-4385-97d3-fd70a9645d96"
   },
   "outputs": [],
   "source": [
    "soma_vendas_mes"
   ]
  },
  {
   "attachments": {},
   "cell_type": "markdown",
   "metadata": {},
   "source": [
    "#### Ponto de Parada - Loops"
   ]
  },
  {
   "attachments": {},
   "cell_type": "markdown",
   "metadata": {},
   "source": [
    "Um loop for é usado para iterar sobre uma sequência (que é uma lista, uma tupla, um dicionário, um conjunto ou uma string).\n",
    "\n",
    "Com o loop for, podemos executar um conjunto de instruções, uma vez para cada item em uma lista, tupla, conjunto etc."
   ]
  },
  {
   "cell_type": "code",
   "execution_count": null,
   "metadata": {},
   "outputs": [],
   "source": [
    "frutas = ['maça', 'banana', 'morango']\n",
    "\n",
    "for fruta in frutas:\n",
    "    print(fruta)\n",
    "    print('----')"
   ]
  },
  {
   "cell_type": "code",
   "execution_count": 11,
   "metadata": {},
   "outputs": [
    {
     "name": "stdout",
     "output_type": "stream",
     "text": [
      "maça\n",
      "banana\n",
      "morango\n"
     ]
    }
   ],
   "source": [
    "fruits = ['maça', 'banana', 'morango']\n",
    "\n",
    "for x in fruits:\n",
    "    print(x)"
   ]
  },
  {
   "cell_type": "code",
   "execution_count": null,
   "metadata": {},
   "outputs": [],
   "source": [
    "for letra in 'banana':\n",
    "    print(letra)"
   ]
  },
  {
   "cell_type": "code",
   "execution_count": null,
   "metadata": {},
   "outputs": [],
   "source": [
    "for x in 'banana':\n",
    "    print(x)"
   ]
  },
  {
   "cell_type": "code",
   "execution_count": null,
   "metadata": {},
   "outputs": [],
   "source": [
    "fruits = [\"maça\", \"banana\", \"morango\"]\n",
    "\n",
    "\n",
    "for fruta in fruits:\n",
    "    print(fruta)\n",
    "    if fruta == 'banana':\n",
    "        break"
   ]
  },
  {
   "cell_type": "code",
   "execution_count": null,
   "metadata": {},
   "outputs": [],
   "source": [
    "fruits = [\"maça\", \"banana\", \"morango\"]\n",
    "\n",
    "\n",
    "for fruta in fruits:\n",
    "    \n",
    "    if fruta == 'banana':\n",
    "        print(fruta)\n",
    "        break"
   ]
  },
  {
   "cell_type": "code",
   "execution_count": null,
   "metadata": {},
   "outputs": [],
   "source": [
    "fruits = [\"maça\", \"banana\", \"morango\"]\n",
    "\n",
    "for fruta in fruits:\n",
    "    \n",
    "    if fruta == 'banana':\n",
    "        print(fruta)\n",
    "        break"
   ]
  },
  {
   "cell_type": "code",
   "execution_count": null,
   "metadata": {},
   "outputs": [],
   "source": [
    "fruits = [\"maça\", \"banana\", \"morango\"]\n",
    "\n",
    "for fruta in fruits:\n",
    "    \n",
    "    if fruta == 'banana':\n",
    "        break\n",
    "        \n",
    "    print(fruta)"
   ]
  },
  {
   "cell_type": "code",
   "execution_count": null,
   "metadata": {},
   "outputs": [],
   "source": [
    "fruits = [\"maça\", \"banana\", \"morango\"]\n",
    "for x in fruits:\n",
    "    if x == \"banana\":\n",
    "        continue\n",
    "    print(x)"
   ]
  },
  {
   "cell_type": "code",
   "execution_count": null,
   "metadata": {},
   "outputs": [],
   "source": [
    "range(6)"
   ]
  },
  {
   "cell_type": "code",
   "execution_count": null,
   "metadata": {},
   "outputs": [],
   "source": [
    "for numero in range(6):\n",
    "    print(numero)"
   ]
  },
  {
   "cell_type": "code",
   "execution_count": null,
   "metadata": {},
   "outputs": [],
   "source": [
    "range(2, 6)"
   ]
  },
  {
   "cell_type": "code",
   "execution_count": null,
   "metadata": {},
   "outputs": [],
   "source": [
    "for x in range(2, 6):\n",
    "    print(x)"
   ]
  },
  {
   "cell_type": "code",
   "execution_count": null,
   "metadata": {},
   "outputs": [],
   "source": [
    "for x in range(2, 30, 3):\n",
    "    print(x)"
   ]
  },
  {
   "cell_type": "code",
   "execution_count": null,
   "metadata": {},
   "outputs": [],
   "source": [
    "adj = [\"vermelho\", \"amarelo\", \"azul\"]\n",
    "fruits = [\"maça\", \"banana\", \"morango\"]"
   ]
  },
  {
   "cell_type": "code",
   "execution_count": null,
   "metadata": {},
   "outputs": [],
   "source": [
    "for ajetivo in adj:\n",
    "    for fruta in fruits:\n",
    "        print(ajetivo, fruta)"
   ]
  },
  {
   "cell_type": "code",
   "execution_count": null,
   "metadata": {},
   "outputs": [],
   "source": [
    "df.columns"
   ]
  },
  {
   "cell_type": "code",
   "execution_count": null,
   "metadata": {},
   "outputs": [],
   "source": [
    "df.head()"
   ]
  },
  {
   "cell_type": "code",
   "execution_count": null,
   "metadata": {},
   "outputs": [],
   "source": [
    "df.groupby(pd.Grouper(key = 'order_purchase_timestamp', freq='M')).agg({\n",
    "    'payment_value' : ['min', 'sum', 'mean'],\n",
    "    'freight_value': ['sum', 'max'],\n",
    "    'payment_sequential' : ['mean', 'max'],\n",
    "    'customer_id': 'nunique'\n",
    "}).reset_index()"
   ]
  },
  {
   "cell_type": "code",
   "execution_count": null,
   "metadata": {
    "id": "FaLcflKdds_3"
   },
   "outputs": [],
   "source": [
    "agrupamento = df.groupby(pd.Grouper(key = 'order_purchase_timestamp', freq='M')).agg({\n",
    "    'payment_value' : ['min', 'sum', 'mean'],\n",
    "    'freight_value': ['sum', 'max'],\n",
    "    'payment_sequential' : ['mean', 'max'],\n",
    "    'customer_id': 'nunique'\n",
    "}).reset_index()"
   ]
  },
  {
   "cell_type": "code",
   "execution_count": null,
   "metadata": {},
   "outputs": [],
   "source": [
    "agrupamento"
   ]
  },
  {
   "cell_type": "code",
   "execution_count": null,
   "metadata": {},
   "outputs": [],
   "source": [
    "agrupamento.columns"
   ]
  },
  {
   "cell_type": "code",
   "execution_count": null,
   "metadata": {},
   "outputs": [],
   "source": [
    "for coluna in agrupamento.columns:\n",
    "    print(coluna)"
   ]
  },
  {
   "cell_type": "code",
   "execution_count": null,
   "metadata": {},
   "outputs": [],
   "source": [
    "for coluna in agrupamento.columns:\n",
    "    print('_'.join(coluna))\n",
    "    #print('---')"
   ]
  },
  {
   "cell_type": "code",
   "execution_count": null,
   "metadata": {},
   "outputs": [],
   "source": [
    "[print('_'.join(coluna)) for coluna in agrupamento.columns]"
   ]
  },
  {
   "cell_type": "code",
   "execution_count": null,
   "metadata": {},
   "outputs": [],
   "source": [
    "['_'.join(coluna) for coluna in agrupamento.columns]"
   ]
  },
  {
   "cell_type": "code",
   "execution_count": null,
   "metadata": {},
   "outputs": [],
   "source": [
    "agrupamento.columns = ['_'.join(col) for col in agrupamento.columns]"
   ]
  },
  {
   "cell_type": "code",
   "execution_count": null,
   "metadata": {},
   "outputs": [],
   "source": [
    "agrupamento"
   ]
  },
  {
   "cell_type": "code",
   "execution_count": null,
   "metadata": {},
   "outputs": [],
   "source": [
    "def agrupar_valores(data, chave, frequencia):\n",
    "\n",
    "    data[chave] = pd.to_datetime(data[chave])\n",
    "\n",
    "    agrupamento = data.groupby(pd.Grouper(key = chave, freq=frequencia)).agg({\n",
    "    'payment_value' : ['min', 'sum', 'mean'],\n",
    "    'freight_value': ['sum', 'max'],\n",
    "    'payment_sequential' : ['mean', 'max'],\n",
    "    'customer_id': 'nunique'\n",
    "    })\n",
    "    \n",
    "    agrupamento.columns = ['_'.join(col) for col in agrupamento.columns]\n",
    "\n",
    "    return agrupamento.reset_index()\n",
    "\n",
    "    "
   ]
  },
  {
   "cell_type": "code",
   "execution_count": null,
   "metadata": {},
   "outputs": [],
   "source": [
    "agrupar_valores(df, 'order_purchase_timestamp', 'M')"
   ]
  },
  {
   "cell_type": "code",
   "execution_count": null,
   "metadata": {},
   "outputs": [],
   "source": [
    "vendas_dia = agrupar_valores(df, 'order_purchase_timestamp', 'D')"
   ]
  },
  {
   "cell_type": "code",
   "execution_count": null,
   "metadata": {},
   "outputs": [],
   "source": [
    "vendas_dia"
   ]
  },
  {
   "cell_type": "code",
   "execution_count": null,
   "metadata": {
    "id": "_E0ywHG59xwP"
   },
   "outputs": [],
   "source": [
    "vendas_mes = agrupar_valores(df, 'order_purchase_timestamp', 'M')"
   ]
  },
  {
   "cell_type": "code",
   "execution_count": null,
   "metadata": {
    "colab": {
     "base_uri": "https://localhost:8080/",
     "height": 1000
    },
    "id": "OF2GFWSF92Hv",
    "outputId": "77bd4f6c-0ad4-49bf-fe32-7a1efb2b9af3"
   },
   "outputs": [],
   "source": [
    "vendas_mes\n"
   ]
  },
  {
   "cell_type": "code",
   "execution_count": null,
   "metadata": {
    "id": "g8EAgXHo94hX"
   },
   "outputs": [],
   "source": [
    "vendas_bim = agrupar_valores(df, 'order_purchase_timestamp', '2M')"
   ]
  },
  {
   "cell_type": "code",
   "execution_count": null,
   "metadata": {
    "colab": {
     "base_uri": "https://localhost:8080/",
     "height": 824
    },
    "id": "lmfR_4G2-Xww",
    "outputId": "f39376f0-71ed-4046-b7e5-1a1ccb9ba0d7"
   },
   "outputs": [],
   "source": [
    "vendas_bim"
   ]
  },
  {
   "attachments": {},
   "cell_type": "markdown",
   "metadata": {
    "id": "ib0rVybT-o68"
   },
   "source": [
    "# **Visualização de Dados com o Seaborn**"
   ]
  },
  {
   "cell_type": "code",
   "execution_count": null,
   "metadata": {
    "id": "tmAFbpy7-Y0N"
   },
   "outputs": [],
   "source": [
    "import matplotlib.pyplot as plt\n",
    "import seaborn as sns"
   ]
  },
  {
   "attachments": {},
   "cell_type": "markdown",
   "metadata": {
    "id": "ms84OkGF-ypx"
   },
   "source": [
    "Vamos usar aqui os nossos dataframes que construímos durante o curso e algumas outras análises também!"
   ]
  },
  {
   "cell_type": "code",
   "execution_count": null,
   "metadata": {
    "colab": {
     "base_uri": "https://localhost:8080/",
     "height": 204
    },
    "id": "1O_pkiVw-vtk",
    "outputId": "c649af68-9fef-4639-c744-9ed40676ce70"
   },
   "outputs": [],
   "source": [
    "vendas_dia.head()"
   ]
  },
  {
   "cell_type": "code",
   "execution_count": null,
   "metadata": {},
   "outputs": [],
   "source": [
    "sns.lineplot(x = 'order_purchase_timestamp', y = 'payment_value_sum', data = vendas_dia)"
   ]
  },
  {
   "attachments": {},
   "cell_type": "markdown",
   "metadata": {
    "id": "S7EPpO_G_Nmt"
   },
   "source": [
    "Ficou meio pequeno né?"
   ]
  },
  {
   "cell_type": "code",
   "execution_count": null,
   "metadata": {},
   "outputs": [],
   "source": [
    "fig, ax = plt.subplots(figsize=(10, 5))\n",
    "sns.lineplot(x = 'order_purchase_timestamp', y = 'payment_value_sum', data = vendas_dia);"
   ]
  },
  {
   "cell_type": "code",
   "execution_count": null,
   "metadata": {},
   "outputs": [],
   "source": [
    "fig, ax = plt.subplots(figsize=(10, 5))\n",
    "fig = sns.lineplot(x = 'order_purchase_timestamp', y = 'payment_value_sum', data = vendas_dia);"
   ]
  },
  {
   "attachments": {},
   "cell_type": "markdown",
   "metadata": {
    "id": "Vg2ivBIA_XIm"
   },
   "source": [
    "Vamos fazer agora com o Mensal"
   ]
  },
  {
   "cell_type": "code",
   "execution_count": null,
   "metadata": {},
   "outputs": [],
   "source": [
    "fig, ax = plt.subplots(figsize=(10, 5))\n",
    "fig = sns.lineplot(x = 'order_purchase_timestamp', y = 'payment_value_sum', data = vendas_mes);"
   ]
  },
  {
   "cell_type": "code",
   "execution_count": null,
   "metadata": {},
   "outputs": [],
   "source": [
    "fig, ax = plt.subplots(figsize=(10, 5))\n",
    "fig = sns.lineplot(x = 'order_purchase_timestamp', y = 'payment_value_sum', data = vendas_mes, color = '#0fd43d')\n",
    "media_mes = vendas_mes['payment_value_sum'].mean()\n",
    "ax.axhline(media_mes, color = '#c229ae')\n",
    "plt.title('Vendas Mensais');\n",
    "plt.savefig('../figuras/grafico.png')"
   ]
  },
  {
   "cell_type": "code",
   "execution_count": null,
   "metadata": {},
   "outputs": [],
   "source": [
    "fig, ax = plt.subplots(figsize=(10, 5))\n",
    "fig = sns.lineplot(x = 'order_purchase_timestamp', y = 'payment_value_sum', data = vendas_mes, color = '#29c256')\n",
    "media_mes = vendas_mes['payment_value_sum'].mean()\n",
    "ax.axhline(media_mes, color = '#c229ae')\n",
    "plt.title('Vendas Mensais');\n",
    "plt.savefig('VendasMensais.png')"
   ]
  },
  {
   "attachments": {},
   "cell_type": "markdown",
   "metadata": {
    "id": "kk8DQaldAvqc"
   },
   "source": [
    "**Exercício**\n",
    "\n",
    "Criar uma função que crie um gráfico com variação do título."
   ]
  },
  {
   "attachments": {},
   "cell_type": "markdown",
   "metadata": {
    "id": "qyyL26-sA5t_"
   },
   "source": [
    "**Visualização Estatatísticas**\n",
    "\n",
    "Uma das melhores coisas a se fazer no Python, são visualização estatísticas, no Excel costuma ser bem complicado de operacionalizar. \n",
    "\n",
    "Aqui fazemos em poucas linhas de código."
   ]
  },
  {
   "attachments": {},
   "cell_type": "markdown",
   "metadata": {
    "id": "FIQUaAEFBIWk"
   },
   "source": [
    "Histograma"
   ]
  },
  {
   "cell_type": "code",
   "execution_count": null,
   "metadata": {},
   "outputs": [],
   "source": [
    "df.head()"
   ]
  },
  {
   "cell_type": "code",
   "execution_count": null,
   "metadata": {},
   "outputs": [],
   "source": [
    "# Criando um novo dataframe para as nossas visualizações\n",
    "\n",
    "df.drop_duplicates(\n",
    "    subset = ['order_id', 'product_id'],\n",
    "    keep = 'first'\n",
    ")"
   ]
  },
  {
   "cell_type": "code",
   "execution_count": null,
   "metadata": {},
   "outputs": [],
   "source": [
    "df2 = df.drop_duplicates(\n",
    "    subset = ['order_id', 'product_id'],\n",
    "    keep = 'first'\n",
    ")"
   ]
  },
  {
   "cell_type": "code",
   "execution_count": null,
   "metadata": {},
   "outputs": [],
   "source": [
    "df2"
   ]
  },
  {
   "cell_type": "code",
   "execution_count": null,
   "metadata": {},
   "outputs": [],
   "source": [
    "sns.histplot(data = df2, x = 'price')"
   ]
  },
  {
   "attachments": {},
   "cell_type": "markdown",
   "metadata": {
    "id": "XLbwOXlLBk0F"
   },
   "source": [
    "Boxplot"
   ]
  },
  {
   "cell_type": "code",
   "execution_count": null,
   "metadata": {
    "colab": {
     "base_uri": "https://localhost:8080/",
     "height": 269
    },
    "id": "fkuIxX7lBZVV",
    "outputId": "90748389-616a-4dce-d5ea-7b64d0521163"
   },
   "outputs": [],
   "source": [
    "sns.boxplot(data = df2, y = 'price')"
   ]
  },
  {
   "cell_type": "code",
   "execution_count": null,
   "metadata": {},
   "outputs": [],
   "source": [
    "df2['price_log'] = np.log(df2['price'])"
   ]
  },
  {
   "cell_type": "code",
   "execution_count": null,
   "metadata": {},
   "outputs": [],
   "source": [
    "sns.histplot(data = df2, x = 'price_log', kde=True)"
   ]
  },
  {
   "cell_type": "code",
   "execution_count": null,
   "metadata": {},
   "outputs": [],
   "source": [
    "sns.histplot(data = df2, x = 'price_log', hue='payment_type')"
   ]
  },
  {
   "cell_type": "code",
   "execution_count": null,
   "metadata": {},
   "outputs": [],
   "source": [
    "df2[df2['payment_type'] == 'voucher']['price_log'].min()"
   ]
  },
  {
   "cell_type": "code",
   "execution_count": null,
   "metadata": {},
   "outputs": [],
   "source": [
    "g = sns.histplot(data = df2[df2['payment_type'] == 'voucher'], x = 'price_log', kde=True)\n",
    "g.axvline(df2[df2['payment_type'] == 'voucher']['price_log'].min(), color = '#c229ae')\n",
    "g.axvline(3, color = '#c229ae')"
   ]
  },
  {
   "cell_type": "code",
   "execution_count": null,
   "metadata": {},
   "outputs": [],
   "source": [
    "sns.boxplot(data = df2, x='payment_type', y='price_log')"
   ]
  },
  {
   "cell_type": "code",
   "execution_count": null,
   "metadata": {},
   "outputs": [],
   "source": [
    "total = len(df2)\n",
    "\n",
    "plt.figure(figsize=(14,6))\n",
    "\n",
    "plt.suptitle('Distribuição por tipo de Pagamento', fontsize = 22)\n",
    "\n",
    "plt.subplot(121)\n",
    "g = sns.countplot(x = 'payment_type', data = df2[df2['payment_type'] != 'not_defined'])\n",
    "g.set_title(\"Contagem de Tipo de Pagamento\", fontsize=20)\n",
    "g.set_xlabel(\"Tipo de Pagamento\", fontsize=17)\n",
    "g.set_ylabel(\"Contagem\", fontsize=17)\n",
    "\n",
    "\n",
    "plt.subplot(122)\n",
    "g = sns.boxplot(x='payment_type', y='price_log', data=df2[df2['payment_type'] != 'not_defined'])\n",
    "g.set_title(\"Payment Type by Price Distributions\", fontsize=20)\n",
    "g.set_xlabel(\"Payment Type Name\", fontsize=17)\n",
    "g.set_ylabel(\"Price(Log)\", fontsize=17)\n",
    "\n",
    "plt.subplots_adjust(hspace = 0.5, top = 0.8)\n",
    "\n",
    "plt.show()"
   ]
  },
  {
   "cell_type": "code",
   "execution_count": null,
   "metadata": {},
   "outputs": [],
   "source": [
    "total = len(df2)\n",
    "\n",
    "plt.figure(figsize=(14,6))\n",
    "\n",
    "plt.suptitle('Payment Type Distributions', fontsize=22)\n",
    "\n",
    "plt.subplot(121)\n",
    "g = sns.countplot(x='payment_type', data=df2[df2['payment_type'] != 'not_defined'])\n",
    "g.set_title(\"Payment Type Count Distribution\", fontsize=20)\n",
    "g.set_xlabel(\"Payment Type Name\", fontsize=17)\n",
    "g.set_ylabel(\"Count\", fontsize=17)\n",
    "\n",
    "\n",
    "plt.subplot(122)\n",
    "g = sns.boxplot(x='payment_type', y='price_log', data=df2[df2['payment_type'] != 'not_defined'])\n",
    "g.set_title(\"Payment Type by Price Distributions\", fontsize=20)\n",
    "g.set_xlabel(\"Payment Type Name\", fontsize=17)\n",
    "g.set_ylabel(\"Price(Log)\", fontsize=17)\n",
    "\n",
    "plt.subplots_adjust(hspace = 0.5, top = 0.8)\n",
    "\n",
    "plt.show()\n"
   ]
  },
  {
   "cell_type": "code",
   "execution_count": null,
   "metadata": {},
   "outputs": [],
   "source": [
    "plt.figure(figsize=(16,12))\n",
    "\n",
    "plt.suptitle('Distribuição dos Clientes por Estado', fontsize=22)\n",
    "\n",
    "plt.subplot(212)\n",
    "g = sns.countplot(x='customer_state', data=df2, orient='h')\n",
    "g.set_title(\"Distribuição dos Clientes por Estado\", fontsize=20)\n",
    "g.set_xlabel(\"Estado\", fontsize=17)\n",
    "g.set_ylabel(\"Count\", fontsize=17)\n",
    "g.set_xticklabels(g.get_xticklabels(),rotation=45)\n",
    "\n",
    "\n",
    "plt.subplot(221)\n",
    "g2 = sns.boxplot(x='customer_state', y='price_log', \n",
    "                 data=df2[df2['price'] != -1])\n",
    "g2.set_title(\"Estado do Cliente por Preço\", fontsize=20)\n",
    "g2.set_xlabel(\"Estado\", fontsize=17)\n",
    "g2.set_ylabel(\"Price(Log)\", fontsize=17)\n",
    "g2.set_xticklabels(g2.get_xticklabels(),rotation=45)\n",
    "\n",
    "plt.subplot(222)\n",
    "g3 = sns.boxplot(x='customer_state', y='freight_value', \n",
    "                 data=df2[df2['price'] != -1])\n",
    "g3.set_title(\"Estado do Cliente por Valor do Frete\", fontsize=20)\n",
    "g3.set_xlabel(\"Estado\", fontsize=17)\n",
    "g3.set_ylabel(\"Frete\", fontsize=17)\n",
    "g3.set_xticklabels(g3.get_xticklabels(),rotation=45)\n",
    "\n",
    "plt.subplots_adjust(hspace = 0.5, top = 0.9)\n",
    "\n",
    "plt.show()"
   ]
  },
  {
   "cell_type": "code",
   "execution_count": null,
   "metadata": {},
   "outputs": [],
   "source": [
    "g3 = sns.boxplot(x='customer_state', y='freight_value', \n",
    "                 data=df2[df2['price'] != -1])\n",
    "g3.set_title(\"Estado do Cliente por Valor do Frete\", fontsize=20)\n",
    "g3.set_xlabel(\"Estado\", fontsize=17)\n",
    "g3.set_ylabel(\"Frete\", fontsize=17)\n",
    "g3.set_xticklabels(g3.get_xticklabels(),rotation=45)"
   ]
  },
  {
   "attachments": {},
   "cell_type": "markdown",
   "metadata": {},
   "source": [
    "Algumas coisinhas mais complexas"
   ]
  },
  {
   "cell_type": "code",
   "execution_count": null,
   "metadata": {},
   "outputs": [],
   "source": [
    "df2.head(3)"
   ]
  },
  {
   "cell_type": "code",
   "execution_count": null,
   "metadata": {},
   "outputs": [],
   "source": [
    "def novos_clientes_por_mes(data):\n",
    "\n",
    "\n",
    "    data['periodo_mensal_da_ordem_de_compra'] = data['order_purchase_timestamp'].dt.to_period('M')\n",
    "\n",
    "    primeira_compra = data.groupby('customer_unique_id')['periodo_mensal_da_ordem_de_compra'].first()\n",
    "\n",
    "    novos_clientes = primeira_compra.value_counts()\n",
    "\n",
    "    return novos_clientes.sort_values().reset_index()"
   ]
  },
  {
   "cell_type": "code",
   "execution_count": null,
   "metadata": {},
   "outputs": [],
   "source": [
    "novos_clientes_por_mes(df2)"
   ]
  },
  {
   "cell_type": "code",
   "execution_count": null,
   "metadata": {},
   "outputs": [],
   "source": [
    "def new_customer_per_month(data):\n",
    "\n",
    "    data['order_purchase_month_year'] = data['order_purchase_timestamp'].dt.to_period('M')\n",
    "\n",
    "    first_purchase = data.groupby('customer_unique_id')['order_purchase_month_year'].first()\n",
    "\n",
    "    new_customer = first_purchase.value_counts()\n",
    "\n",
    "    return new_customer.sort_index().reset_index()\n",
    "\n",
    "new_customers = new_customer_per_month(df2)\n",
    "\n",
    "new_customers.columns = ['Month', 'New Customers']\n"
   ]
  },
  {
   "cell_type": "code",
   "execution_count": null,
   "metadata": {},
   "outputs": [],
   "source": [
    "new_customers"
   ]
  },
  {
   "cell_type": "code",
   "execution_count": null,
   "metadata": {},
   "outputs": [],
   "source": [
    "# Função para calcular a quantidade de novos clientes por mês\n",
    "def new_customers_per_month(data):\n",
    "    # Criando uma nova coluna 'order_purchase_month_year' que é o mês e o ano em que o pedido foi feito\n",
    "    data['order_purchase_month_year'] = data['order_purchase_timestamp'].dt.to_period('M')\n",
    "\n",
    "    # Agrupando por 'customer_unique_id' e 'order_purchase_month_year' e pegando a primeira ocorrência de cada grupo\n",
    "    first_purchase = data.groupby('customer_unique_id')['order_purchase_month_year'].first()\n",
    "\n",
    "    # Contando a quantidade de novos clientes por mês\n",
    "    new_customers = first_purchase.value_counts().sort_index()\n",
    "\n",
    "    return new_customers\n",
    "\n",
    "\n",
    "new_customers = new_customers_per_month(df2)\n",
    "\n",
    "new_customers_df = new_customers.reset_index()\n",
    "new_customers_df.columns = ['Month', 'New Customers']\n",
    "\n",
    "new_customers_df"
   ]
  },
  {
   "cell_type": "code",
   "execution_count": null,
   "metadata": {},
   "outputs": [],
   "source": [
    "sns.lineplot(data = new_customers, x = 'Month', y = 'New Customers')"
   ]
  },
  {
   "cell_type": "code",
   "execution_count": null,
   "metadata": {},
   "outputs": [],
   "source": [
    "new_customers.info()"
   ]
  },
  {
   "cell_type": "code",
   "execution_count": null,
   "metadata": {},
   "outputs": [],
   "source": [
    "new_customers['Month'] = pd.to_datetime(new_customers['Month'].astype(str))"
   ]
  },
  {
   "cell_type": "code",
   "execution_count": null,
   "metadata": {},
   "outputs": [],
   "source": [
    "new_customers.info()"
   ]
  },
  {
   "cell_type": "code",
   "execution_count": null,
   "metadata": {},
   "outputs": [],
   "source": [
    "plt.figure(figsize=(12, 6))\n",
    "sns.lineplot(data = new_customers, x = 'Month', y = 'New Customers')\n",
    "plt.title('Novos Clientes por Mês');"
   ]
  },
  {
   "cell_type": "code",
   "execution_count": null,
   "metadata": {},
   "outputs": [],
   "source": [
    "def new_product_per_month(data):\n",
    "\n",
    "    data['order_purchase_month_year'] = data['order_purchase_timestamp'].dt.to_period('M')\n",
    "\n",
    "    apareceu_primeiravez = data.groupby('product_id')['order_purchase_month_year'].first()\n",
    "\n",
    "    new_product = apareceu_primeiravez.value_counts().sort_index().reset_index()\n",
    "\n",
    "    new_product.columns = ['Month', 'New Product']\n",
    "    \n",
    "    new_product['Month'] = pd.to_datetime(new_product['Month'].astype(str))\n",
    "\n",
    "    return new_product\n",
    "\n",
    "new_products = new_product_per_month(df2)\n",
    "\n"
   ]
  },
  {
   "cell_type": "code",
   "execution_count": null,
   "metadata": {},
   "outputs": [],
   "source": [
    "def gerar_grafico_de_linha(dados, eixoX, eixoY, titulo ):\n",
    "\n",
    "    plt.figure(figsize=(12, 6))\n",
    "    sns.lineplot(data = dados, x = eixoX, y = eixoY)\n",
    "    plt.title(titulo);"
   ]
  },
  {
   "cell_type": "code",
   "execution_count": null,
   "metadata": {},
   "outputs": [],
   "source": [
    "gerar_grafico_de_linha(new_products, 'Month', 'New Product', 'Novos Produtos por Mês' )"
   ]
  },
  {
   "cell_type": "code",
   "execution_count": null,
   "metadata": {},
   "outputs": [],
   "source": [
    "new_products"
   ]
  },
  {
   "cell_type": "code",
   "execution_count": null,
   "metadata": {},
   "outputs": [],
   "source": [
    "# Função para calcular a quantidade de novos produtos por mês\n",
    "def new_products_per_month(df):\n",
    "    \n",
    "    df['order_purchase_month_year'] = df['order_purchase_timestamp'].dt.to_period('M')\n",
    "    # Agrupando por 'product_id' e 'order_purchase_month_year' e pegando a primeira ocorrência de cada grupo\n",
    "    first_appearance = df.groupby('product_id')['order_purchase_month_year'].first()\n",
    "\n",
    "    # Contando a quantidade de novos produtos por mês\n",
    "    new_products = first_appearance.value_counts().sort_index()\n",
    "\n",
    "    return new_products\n",
    "\n",
    "# Chamando a função e armazenando o resultado na variável 'new_products'\n",
    "new_products = new_products_per_month(df)\n",
    "# Convertendo a série 'new_products' para um dataframe\n",
    "new_products_df = new_products.reset_index()\n",
    "new_products_df.columns = ['Month', 'New Products']\n",
    "\n"
   ]
  },
  {
   "cell_type": "code",
   "execution_count": null,
   "metadata": {},
   "outputs": [],
   "source": [
    "# Convertendo a coluna 'Month' para datetime\n",
    "new_products_df['Month'] = pd.to_datetime(new_products_df['Month'].astype(str))\n",
    "\n",
    "# Criando o gráfico\n",
    "plt.figure(figsize=(12, 6))\n",
    "sns.lineplot(data=new_products_df, x='Month', y='New Products')\n",
    "plt.title('New Products per Month')\n",
    "plt.show()"
   ]
  },
  {
   "cell_type": "code",
   "execution_count": null,
   "metadata": {},
   "outputs": [],
   "source": [
    "new_products_df"
   ]
  },
  {
   "attachments": {},
   "cell_type": "markdown",
   "metadata": {
    "id": "-lq4tKulCgr9"
   },
   "source": [
    "# **I/O**"
   ]
  },
  {
   "cell_type": "code",
   "execution_count": null,
   "metadata": {},
   "outputs": [],
   "source": [
    "vendas_dia"
   ]
  },
  {
   "cell_type": "code",
   "execution_count": null,
   "metadata": {},
   "outputs": [],
   "source": [
    "vendas_dia.to_excel('nova_pasta/Vendas_dia.xlsx')"
   ]
  },
  {
   "cell_type": "code",
   "execution_count": null,
   "metadata": {
    "id": "24gEn6koBxFC"
   },
   "outputs": [],
   "source": [
    "vendas_dia.to_csv('nova_pasta/.csv', sep = ';', decimal = ',')"
   ]
  },
  {
   "cell_type": "code",
   "execution_count": null,
   "metadata": {
    "colab": {
     "base_uri": "https://localhost:8080/"
    },
    "id": "DWNU0OKjRd09",
    "outputId": "659e9e5a-77d4-408e-d39b-2ddce7f2abdb"
   },
   "outputs": [],
   "source": [
    "!pip install xlsxwriter"
   ]
  },
  {
   "cell_type": "code",
   "execution_count": null,
   "metadata": {
    "id": "JqVgdhSHRXuO"
   },
   "outputs": [],
   "source": [
    "import xlsxwriter\n",
    "from datetime import datetime"
   ]
  },
  {
   "cell_type": "code",
   "execution_count": null,
   "metadata": {},
   "outputs": [],
   "source": [
    "dia = datetime.today().strftime('%Y-%m-%d')"
   ]
  },
  {
   "cell_type": "code",
   "execution_count": null,
   "metadata": {},
   "outputs": [],
   "source": [
    "dia"
   ]
  },
  {
   "cell_type": "code",
   "execution_count": null,
   "metadata": {},
   "outputs": [],
   "source": [
    "vendas_mes.head()"
   ]
  },
  {
   "cell_type": "code",
   "execution_count": null,
   "metadata": {},
   "outputs": [],
   "source": [
    "def cria_arquivos_excel(arquivo1, nome_aba_1, arquivo2, nome_aba_2):\n",
    "\n",
    "    dia = datetime.today().strftime('%Y-%m-%d')\n",
    "\n",
    "    nome_arquivo = '../data/compilado/excelCompilado-' + str(dia) + '.xlsx'\n",
    "\n",
    "    writer = pd.ExcelWriter(nome_arquivo, engine = 'xlsxwriter')\n",
    "\n",
    "    arquivo1.to_excel(writer, sheet_name = nome_aba_1)\n",
    "    arquivo2.to_excel(writer, sheet_name = nome_aba_2)\n",
    "\n",
    "    writer.close()\n"
   ]
  },
  {
   "cell_type": "code",
   "execution_count": null,
   "metadata": {},
   "outputs": [],
   "source": [
    "cria_arquivos_excel(vendas_dia, 'vendas_dia', vendas_mes, 'vendas_mes')"
   ]
  },
  {
   "cell_type": "code",
   "execution_count": null,
   "metadata": {},
   "outputs": [],
   "source": [
    "def create_xlsx(vendas_dia, vendas_mes):\n",
    "    \n",
    "    dia = datetime.today().strftime('%Y-%m-%d')\n",
    "     \n",
    "    nome_arquivo ='nova_pasta/compilado-' + str(dia) + '.xlsx'\n",
    "    \n",
    "    writer = pd.ExcelWriter(nome_arquivo, engine = 'xlsxwriter')\n",
    "    \n",
    "    vendas_dia.to_excel(writer, sheet_name = 'vendas_dia')\n",
    "    vendas_mes.to_excel(writer, sheet_name = 'vendas_mes')\n",
    "    \n",
    "    writer.close()\n",
    "    "
   ]
  },
  {
   "cell_type": "code",
   "execution_count": null,
   "metadata": {
    "id": "fhQIGe9TRjDU"
   },
   "outputs": [],
   "source": [
    "create_xlsx(vendas_dia, vendas_mes)"
   ]
  },
  {
   "attachments": {},
   "cell_type": "markdown",
   "metadata": {
    "id": "-E0d8WGsWGvu"
   },
   "source": [
    "Gráficos interativos com o plotly"
   ]
  },
  {
   "cell_type": "code",
   "execution_count": null,
   "metadata": {
    "id": "XcwEy7u9WGZn"
   },
   "outputs": [],
   "source": [
    "import plotly.express as px "
   ]
  },
  {
   "cell_type": "code",
   "execution_count": null,
   "metadata": {
    "colab": {
     "base_uri": "https://localhost:8080/"
    },
    "id": "sIB2jFF-WqKr",
    "outputId": "df010be4-fc1d-49a5-d32e-2c9d63f7af79"
   },
   "outputs": [],
   "source": [
    "vendas_mes.columns"
   ]
  },
  {
   "cell_type": "code",
   "execution_count": null,
   "metadata": {},
   "outputs": [],
   "source": [
    "sns.lineplot(data = new_customers, x = 'Month', y = 'New Customers')"
   ]
  },
  {
   "cell_type": "code",
   "execution_count": null,
   "metadata": {},
   "outputs": [],
   "source": [
    "fig = px.line(data_frame= new_customers, x = 'Month', y = 'New Customers')\n",
    "fig.show()\n",
    "fig.write_html('../figuras/grafico_novos_clientes.html')"
   ]
  },
  {
   "cell_type": "code",
   "execution_count": null,
   "metadata": {
    "colab": {
     "base_uri": "https://localhost:8080/",
     "height": 542
    },
    "id": "CiihvUxYW2SX",
    "outputId": "46faafbe-ae81-4215-c627-034b08db7336"
   },
   "outputs": [],
   "source": [
    "fig = px.histogram(vendas_dia, x='Sales_mean', color_discrete_sequence=['green']) \n",
    "  \n",
    "# showing the plot\n",
    "fig.show()\n",
    "fig.write_html(\"file.html\")"
   ]
  },
  {
   "cell_type": "code",
   "execution_count": null,
   "metadata": {
    "colab": {
     "base_uri": "https://localhost:8080/",
     "height": 542
    },
    "id": "J45CFHygXZey",
    "outputId": "32112b34-0298-403e-8b26-e434c1b61965"
   },
   "outputs": [],
   "source": [
    "fig = px.box(vendas_dia, y=\"Sales_mean\") \n",
    "  \n",
    "# showing the plot\n",
    "fig.show()"
   ]
  },
  {
   "cell_type": "code",
   "execution_count": null,
   "metadata": {},
   "outputs": [],
   "source": [
    "sns.histplot(data = df2, x = 'price_log', hue='payment_type')"
   ]
  },
  {
   "cell_type": "code",
   "execution_count": null,
   "metadata": {},
   "outputs": [],
   "source": [
    "def plot_histogram(df, x_column, hue_column, output_file, title):\n",
    "    \"\"\"\n",
    "    Cria um histograma usando Plotly e salva o gráfico em um arquivo HTML.\n",
    "\n",
    "    :param df: DataFrame contendo os dados\n",
    "    :param x_column: Nome da coluna a ser usada para o eixo X\n",
    "    :param hue_column: Nome da coluna a ser usada para colorir as barras\n",
    "    :param output_file: Nome do arquivo HTML para salvar o gráfico\n",
    "    \"\"\"\n",
    "\n",
    "    # Cria o gráfico\n",
    "    fig = px.histogram(df, x=x_column, color=hue_column)\n",
    "\n",
    "     # Adiciona título ao gráfico\n",
    "    fig.update_layout(\n",
    "        title={\n",
    "            'text': title,\n",
    "            'x': 0,  # Posição x do título (0 é esquerda, 1 é direita)\n",
    "            'xanchor': 'left'  # Alinha o texto à esquerda\n",
    "        }\n",
    "    )\n",
    "\n",
    "    fig.show()\n",
    "    \n",
    "    # Salva o gráfico em um arquivo HTML\n",
    "    fig.write_html(output_file)"
   ]
  },
  {
   "cell_type": "code",
   "execution_count": null,
   "metadata": {},
   "outputs": [],
   "source": [
    "plot_histogram(df2, 'price_log', 'payment_type', '../figuras/histogram.html', 'Meu Histograma')"
   ]
  },
  {
   "cell_type": "code",
   "execution_count": null,
   "metadata": {},
   "outputs": [],
   "source": [
    "df2.columns"
   ]
  },
  {
   "cell_type": "code",
   "execution_count": null,
   "metadata": {},
   "outputs": [],
   "source": [
    "df2[['order_id',  'customer_unique_id', 'order_purchase_timestamp', 'product_id', 'price', 'freight_value', 'customer_state', 'product_category_name']].to_excel('../data/arquivoreduzido.xlsx')"
   ]
  },
  {
   "cell_type": "code",
   "execution_count": null,
   "metadata": {},
   "outputs": [],
   "source": []
  }
 ],
 "metadata": {
  "colab": {
   "collapsed_sections": [],
   "name": "Python_para_Data_Analysis_completo.ipynb",
   "provenance": []
  },
  "kernelspec": {
   "display_name": "Python 3 (ipykernel)",
   "language": "python",
   "name": "python3"
  },
  "language_info": {
   "codemirror_mode": {
    "name": "ipython",
    "version": 3
   },
   "file_extension": ".py",
   "mimetype": "text/x-python",
   "name": "python",
   "nbconvert_exporter": "python",
   "pygments_lexer": "ipython3",
   "version": "3.12.0"
  },
  "vscode": {
   "interpreter": {
    "hash": "46ab28d606644fcf73a0df275ea82be85c64429f8455a5458591438b0fe3c398"
   }
  }
 },
 "nbformat": 4,
 "nbformat_minor": 1
}
